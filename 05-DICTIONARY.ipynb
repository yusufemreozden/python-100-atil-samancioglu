{
 "cells": [
  {
   "cell_type": "code",
   "execution_count": 3,
   "id": "c2639dad-25bc-48ce-af21-6b35490807f9",
   "metadata": {},
   "outputs": [],
   "source": [
    "# KEY - VALUE PAIRIN'"
   ]
  },
  {
   "cell_type": "code",
   "execution_count": 5,
   "id": "90bddc07-2df9-4562-8612-069f564a8ed7",
   "metadata": {},
   "outputs": [],
   "source": [
    "fruitList = [\"banana\",\"apple\"]"
   ]
  },
  {
   "cell_type": "code",
   "execution_count": 7,
   "id": "681ac0df-7e5e-4ba0-9a57-3a417484ce92",
   "metadata": {},
   "outputs": [],
   "source": [
    "calorieList = [100,150]"
   ]
  },
  {
   "cell_type": "code",
   "execution_count": 9,
   "id": "615a046a-8c26-4bd7-b8d0-0ce6929d43ea",
   "metadata": {},
   "outputs": [
    {
     "data": {
      "text/plain": [
       "'banana'"
      ]
     },
     "execution_count": 9,
     "metadata": {},
     "output_type": "execute_result"
    }
   ],
   "source": [
    "fruitList[0]"
   ]
  },
  {
   "cell_type": "code",
   "execution_count": 11,
   "id": "45dad0d4-510c-4de1-a8cf-0d18d6fedf81",
   "metadata": {},
   "outputs": [
    {
     "data": {
      "text/plain": [
       "100"
      ]
     },
     "execution_count": 11,
     "metadata": {},
     "output_type": "execute_result"
    }
   ],
   "source": [
    "calorieList[0]"
   ]
  },
  {
   "cell_type": "code",
   "execution_count": 96,
   "id": "0de2b928-5428-4c44-b6b7-c9d2fe231f44",
   "metadata": {},
   "outputs": [],
   "source": [
    "fitnessDictionary = {\"banana\":100,\"apple\":150} # sözlüklerde süslü parantez kullanılır"
   ]
  },
  {
   "cell_type": "code",
   "execution_count": 98,
   "id": "53d03b60-2902-4a18-80db-378dd6148962",
   "metadata": {},
   "outputs": [
    {
     "data": {
      "text/plain": [
       "dict"
      ]
     },
     "execution_count": 98,
     "metadata": {},
     "output_type": "execute_result"
    }
   ],
   "source": [
    "type(fitnessDictionary)"
   ]
  },
  {
   "cell_type": "code",
   "execution_count": 100,
   "id": "d5607650-01f4-4e9b-a11b-5a92ad18660e",
   "metadata": {},
   "outputs": [
    {
     "data": {
      "text/plain": [
       "100"
      ]
     },
     "execution_count": 100,
     "metadata": {},
     "output_type": "execute_result"
    }
   ],
   "source": [
    "fitnessDictionary[\"banana\"]"
   ]
  },
  {
   "cell_type": "code",
   "execution_count": 102,
   "id": "43ceca58-118e-4f24-8cfb-355c756fd540",
   "metadata": {},
   "outputs": [
    {
     "data": {
      "text/plain": [
       "100"
      ]
     },
     "execution_count": 102,
     "metadata": {},
     "output_type": "execute_result"
    }
   ],
   "source": [
    "fitnessDictionary.pop(\"banana\") # istediğimiz anahtarı sildik."
   ]
  },
  {
   "cell_type": "code",
   "execution_count": 104,
   "id": "c75b3a5f-cbcf-4dfd-8d3c-460201c553a2",
   "metadata": {},
   "outputs": [
    {
     "data": {
      "text/plain": [
       "{'apple': 150}"
      ]
     },
     "execution_count": 104,
     "metadata": {},
     "output_type": "execute_result"
    }
   ],
   "source": [
    "fitnessDictionary"
   ]
  },
  {
   "cell_type": "code",
   "execution_count": 106,
   "id": "fb5027d5-f284-4ba4-899a-280b2faa4e80",
   "metadata": {},
   "outputs": [
    {
     "data": {
      "text/plain": [
       "dict_keys(['apple'])"
      ]
     },
     "execution_count": 106,
     "metadata": {},
     "output_type": "execute_result"
    }
   ],
   "source": [
    "fitnessDictionary.keys()"
   ]
  },
  {
   "cell_type": "code",
   "execution_count": 108,
   "id": "91e7b0b4-7070-4d9c-ad24-29c0f852806e",
   "metadata": {},
   "outputs": [
    {
     "data": {
      "text/plain": [
       "dict_values([150])"
      ]
     },
     "execution_count": 108,
     "metadata": {},
     "output_type": "execute_result"
    }
   ],
   "source": [
    "fitnessDictionary.values()"
   ]
  },
  {
   "cell_type": "code",
   "execution_count": 110,
   "id": "b7b4193e-63d0-424b-8ba7-56bfd144874b",
   "metadata": {},
   "outputs": [
    {
     "data": {
      "text/plain": [
       "dict_values"
      ]
     },
     "execution_count": 110,
     "metadata": {},
     "output_type": "execute_result"
    }
   ],
   "source": [
    "type(fitnessDictionary.values())"
   ]
  },
  {
   "cell_type": "code",
   "execution_count": 112,
   "id": "b246a186-548f-4349-9c0e-f8a9cb24777f",
   "metadata": {},
   "outputs": [
    {
     "data": {
      "text/plain": [
       "[150]"
      ]
     },
     "execution_count": 112,
     "metadata": {},
     "output_type": "execute_result"
    }
   ],
   "source": [
    "list(fitnessDictionary.values())"
   ]
  },
  {
   "cell_type": "code",
   "execution_count": 115,
   "id": "577d4ece-69c7-44be-8ac1-ad656742268c",
   "metadata": {},
   "outputs": [],
   "source": [
    "fitnessDictionary[\"orange\"] = 200 # key ekleme"
   ]
  },
  {
   "cell_type": "code",
   "execution_count": 117,
   "id": "df057bc8-ff0f-4704-957d-58a4e1a3168e",
   "metadata": {},
   "outputs": [
    {
     "data": {
      "text/plain": [
       "{'apple': 150, 'orange': 200}"
      ]
     },
     "execution_count": 117,
     "metadata": {},
     "output_type": "execute_result"
    }
   ],
   "source": [
    "fitnessDictionary"
   ]
  },
  {
   "cell_type": "code",
   "execution_count": 119,
   "id": "5cc7cc17-ba5d-4c16-9374-3342a26dc211",
   "metadata": {},
   "outputs": [],
   "source": [
    "fitnessDictionary[\"apple\"] = 300 # value değiştirme"
   ]
  },
  {
   "cell_type": "code",
   "execution_count": 121,
   "id": "58a274da-a1e9-4c32-a7b5-a21933c360ba",
   "metadata": {},
   "outputs": [
    {
     "data": {
      "text/plain": [
       "{'apple': 300, 'orange': 200}"
      ]
     },
     "execution_count": 121,
     "metadata": {},
     "output_type": "execute_result"
    }
   ],
   "source": [
    "fitnessDictionary"
   ]
  },
  {
   "cell_type": "code",
   "execution_count": 123,
   "id": "77b0d7a7-dde8-4775-b12a-77769713c213",
   "metadata": {},
   "outputs": [
    {
     "name": "stdout",
     "output_type": "stream",
     "text": [
      "Help on built-in function get:\n",
      "\n",
      "get(key, default=None, /) method of builtins.dict instance\n",
      "    Return the value for key if key is in the dictionary, else default.\n",
      "\n"
     ]
    }
   ],
   "source": [
    "help(fitnessDictionary.get)"
   ]
  },
  {
   "cell_type": "code",
   "execution_count": 125,
   "id": "8dd4e6fe-ab4d-4cb5-9479-fdc01c8ca24c",
   "metadata": {},
   "outputs": [
    {
     "data": {
      "text/plain": [
       "0"
      ]
     },
     "execution_count": 125,
     "metadata": {},
     "output_type": "execute_result"
    }
   ],
   "source": [
    "fitnessDictionary.get(\"appl\",0)"
   ]
  },
  {
   "cell_type": "code",
   "execution_count": 129,
   "id": "39f66bdd-2975-4598-b263-63ec51e90752",
   "metadata": {},
   "outputs": [
    {
     "data": {
      "text/plain": [
       "{'apple': 300, 'orange': 200, 'melon': 300}"
      ]
     },
     "execution_count": 129,
     "metadata": {},
     "output_type": "execute_result"
    }
   ],
   "source": [
    "fitnessDictionary[\"melon\"] = 300\n",
    "fitnessDictionary"
   ]
  },
  {
   "cell_type": "code",
   "execution_count": 131,
   "id": "98916d3e-513e-4877-babd-a4f518fabf42",
   "metadata": {},
   "outputs": [],
   "source": [
    "myDictionary = {\"key1\":\"value1\",\"key2\":\"value2\",\"key3\":\"value3\"}"
   ]
  },
  {
   "cell_type": "code",
   "execution_count": 133,
   "id": "967cca32-ea55-46e7-8070-97832a238c99",
   "metadata": {},
   "outputs": [
    {
     "data": {
      "text/plain": [
       "{'key1': 'value1', 'key2': 'value2', 'key3': 'value3'}"
      ]
     },
     "execution_count": 133,
     "metadata": {},
     "output_type": "execute_result"
    }
   ],
   "source": [
    "myDictionary"
   ]
  },
  {
   "cell_type": "code",
   "execution_count": 137,
   "id": "45790537-123c-47c2-b935-7b59ce52b1c0",
   "metadata": {},
   "outputs": [
    {
     "data": {
      "text/plain": [
       "'value1'"
      ]
     },
     "execution_count": 137,
     "metadata": {},
     "output_type": "execute_result"
    }
   ],
   "source": [
    "myDictionary[\"key1\"]"
   ]
  },
  {
   "cell_type": "code",
   "execution_count": 143,
   "id": "91071315-1bc1-4977-9134-03e56e160ad3",
   "metadata": {},
   "outputs": [],
   "source": [
    "myMixedDic = {\"key1\":\"value1\",3.14:\"pi\",\"aile üyeleri\":[\"umut\",\"yusuf emre\",\"onur\",\"ömer\"]}"
   ]
  },
  {
   "cell_type": "code",
   "execution_count": 145,
   "id": "b1c39628-0d73-47cd-ae22-aa35fa9cc286",
   "metadata": {},
   "outputs": [
    {
     "data": {
      "text/plain": [
       "'pi'"
      ]
     },
     "execution_count": 145,
     "metadata": {},
     "output_type": "execute_result"
    }
   ],
   "source": [
    "myMixedDic[3.14]"
   ]
  },
  {
   "cell_type": "code",
   "execution_count": 149,
   "id": "8feb68a3-1bd8-4a57-ab39-89945eaf31ae",
   "metadata": {},
   "outputs": [
    {
     "data": {
      "text/plain": [
       "'yusuf emre'"
      ]
     },
     "execution_count": 149,
     "metadata": {},
     "output_type": "execute_result"
    }
   ],
   "source": [
    "myMixedDic[\"aile üyeleri\"][1]"
   ]
  },
  {
   "cell_type": "code",
   "execution_count": 167,
   "id": "455fb2c7-508a-4a2a-bdd9-eb9b8f56289e",
   "metadata": {},
   "outputs": [],
   "source": [
    "lastDict = {\"a\":1,\"b\":['a','b','34',\"sözlük içinde liste\"],\"üçüncü anahtar\":\"üçüncü değer\",\"sözlük içinde sözlük\":{\"k1\":\"v1\",\"k2\":\"v2\",\"k3\":244}}"
   ]
  },
  {
   "cell_type": "code",
   "execution_count": 169,
   "id": "e5aebbd1-c92e-4754-910a-2dcd30ff8f1d",
   "metadata": {},
   "outputs": [
    {
     "data": {
      "text/plain": [
       "1"
      ]
     },
     "execution_count": 169,
     "metadata": {},
     "output_type": "execute_result"
    }
   ],
   "source": [
    "lastDict[\"a\"]"
   ]
  },
  {
   "cell_type": "code",
   "execution_count": 171,
   "id": "d137554c-37fe-44d8-be78-745ea3fbc8a6",
   "metadata": {},
   "outputs": [
    {
     "data": {
      "text/plain": [
       "'v1'"
      ]
     },
     "execution_count": 171,
     "metadata": {},
     "output_type": "execute_result"
    }
   ],
   "source": [
    "lastDict[\"sözlük içinde sözlük\"][\"k1\"]"
   ]
  },
  {
   "cell_type": "code",
   "execution_count": 173,
   "id": "4978a042-585c-4b50-8a7b-70b0ab7a694f",
   "metadata": {},
   "outputs": [
    {
     "data": {
      "text/plain": [
       "244"
      ]
     },
     "execution_count": 173,
     "metadata": {},
     "output_type": "execute_result"
    }
   ],
   "source": [
    "lastDict[\"sözlük içinde sözlük\"][\"k3\"]"
   ]
  },
  {
   "cell_type": "code",
   "execution_count": 179,
   "id": "9715b292-cbde-48bd-9b64-7b60eccaeb05",
   "metadata": {},
   "outputs": [
    {
     "data": {
      "text/plain": [
       "'sözlük içinde liste'"
      ]
     },
     "execution_count": 179,
     "metadata": {},
     "output_type": "execute_result"
    }
   ],
   "source": [
    "lastDict[\"b\"][3]"
   ]
  },
  {
   "cell_type": "code",
   "execution_count": null,
   "id": "83615c62-1256-4c78-9437-8a96fbdc8d40",
   "metadata": {},
   "outputs": [],
   "source": []
  }
 ],
 "metadata": {
  "kernelspec": {
   "display_name": "Python 3 (ipykernel)",
   "language": "python",
   "name": "python3"
  },
  "language_info": {
   "codemirror_mode": {
    "name": "ipython",
    "version": 3
   },
   "file_extension": ".py",
   "mimetype": "text/x-python",
   "name": "python",
   "nbconvert_exporter": "python",
   "pygments_lexer": "ipython3",
   "version": "3.12.4"
  }
 },
 "nbformat": 4,
 "nbformat_minor": 5
}
