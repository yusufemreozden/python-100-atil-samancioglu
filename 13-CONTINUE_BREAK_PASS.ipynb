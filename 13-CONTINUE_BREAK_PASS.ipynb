{
 "cells": [
  {
   "cell_type": "code",
   "execution_count": 4,
   "id": "bd7a7e9d-120f-4e5e-b752-314e7eb09ef2",
   "metadata": {},
   "outputs": [],
   "source": [
    "myList = [10,20,30,40,50,60,70] "
   ]
  },
  {
   "cell_type": "code",
   "execution_count": 6,
   "id": "d8e185dd-14c2-47dd-967a-4f6650f50bbf",
   "metadata": {},
   "outputs": [
    {
     "name": "stdout",
     "output_type": "stream",
     "text": [
      "10\n",
      "20\n",
      "30\n",
      "40\n",
      "50\n",
      "60\n",
      "70\n"
     ]
    }
   ],
   "source": [
    "for n in myList:\n",
    "    print(n)"
   ]
  },
  {
   "cell_type": "code",
   "execution_count": 8,
   "id": "4192eb58-dc36-4c98-a2f3-ce812660c2ee",
   "metadata": {},
   "outputs": [],
   "source": [
    "# PEKİ BEN DÖNGÜ 40'I BULUNCA ÇIKSIN İSTİYORSAM NE YAPACAĞIM?"
   ]
  },
  {
   "cell_type": "code",
   "execution_count": 20,
   "id": "114debfe-cdcf-4ae2-b387-3485d9c0436d",
   "metadata": {},
   "outputs": [
    {
     "name": "stdout",
     "output_type": "stream",
     "text": [
      "40 is exist!\n"
     ]
    }
   ],
   "source": [
    "x = int()\n",
    "\n",
    "for x in myList:\n",
    "    if x == 40:\n",
    "        print(\"40 is exist!\")"
   ]
  },
  {
   "cell_type": "code",
   "execution_count": null,
   "id": "c52eea9e-b4d0-48ac-a343-94502a6e18d5",
   "metadata": {},
   "outputs": [],
   "source": [
    "# 40'I MANUEL BULDUK. ANCAK BU KOD PARÇASI EKONOMİK DEĞİL. KOD 40'I BULDUKTAN SONRA DA DÖNGÜYÜ DEVAM ETTİRİYOR. ANCAK BİZ BUNU GÖRMÜYORUZ."
   ]
  },
  {
   "cell_type": "code",
   "execution_count": 22,
   "id": "b9a9a88f-ba28-4cb0-80bf-2651918b00ea",
   "metadata": {},
   "outputs": [
    {
     "name": "stdout",
     "output_type": "stream",
     "text": [
      "10\n",
      "20\n",
      "30\n",
      "40\n",
      "\n",
      "40 is exist!\n",
      "\n",
      "50\n",
      "60\n",
      "70\n"
     ]
    }
   ],
   "source": [
    "x = int()\n",
    "\n",
    "for x in myList:\n",
    "    print(x)\n",
    "    if x == 40:\n",
    "        print(\"\\n40 is exist!\\n\")"
   ]
  },
  {
   "cell_type": "code",
   "execution_count": 26,
   "id": "afe3acf3-01b9-4684-8b06-c8086737f654",
   "metadata": {},
   "outputs": [],
   "source": [
    "# BURADA TÜM PROCESSİ YAZDIRDIK. KOD 40'I BULUNCA DÖNGÜYÜ SONLANDIRMALI."
   ]
  },
  {
   "cell_type": "code",
   "execution_count": 28,
   "id": "57088096-0681-45d5-8a3e-1c219822843c",
   "metadata": {},
   "outputs": [
    {
     "name": "stdout",
     "output_type": "stream",
     "text": [
      "40 is exist!\n"
     ]
    }
   ],
   "source": [
    "x = int()\n",
    "\n",
    "for x in myList:\n",
    "    if x == 40:\n",
    "        print(\"40 is exist!\")\n",
    "        break"
   ]
  },
  {
   "cell_type": "code",
   "execution_count": 30,
   "id": "fc171afc-c46e-443b-9b48-303cf8f463d1",
   "metadata": {},
   "outputs": [
    {
     "name": "stdout",
     "output_type": "stream",
     "text": [
      "10\n",
      "20\n",
      "30\n",
      "40\n",
      "\n",
      "40 is exist!\n",
      "\n"
     ]
    }
   ],
   "source": [
    "x = int()\n",
    "\n",
    "for x in myList:\n",
    "    print(x)\n",
    "    if x == 40:\n",
    "        print(\"\\n40 is exist!\\n\")\n",
    "        break"
   ]
  },
  {
   "cell_type": "code",
   "execution_count": 36,
   "id": "7df5260b-7f38-4c11-8e99-c439b022f32f",
   "metadata": {},
   "outputs": [],
   "source": [
    "# İŞTE 'BREAK' İLE KOD İŞLEVİNİ YERİNE GETİRDİĞİNDE KIRABİLİYORUZ."
   ]
  },
  {
   "cell_type": "code",
   "execution_count": 40,
   "id": "8debd1b9-05e7-4553-916d-d3ebb8b32d54",
   "metadata": {},
   "outputs": [
    {
     "name": "stdout",
     "output_type": "stream",
     "text": [
      "10\n",
      "20\n",
      "30\n",
      "40\n",
      "\n",
      "40 is exist!\n",
      "\n",
      "50\n",
      "60\n",
      "70\n"
     ]
    }
   ],
   "source": [
    "x = int()\n",
    "\n",
    "for x in myList:\n",
    "    print(x)\n",
    "    if x == 40:\n",
    "        print(\"\\n40 is exist!\\n\")\n",
    "        continue"
   ]
  },
  {
   "cell_type": "code",
   "execution_count": 42,
   "id": "d668bb0d-bc7b-4ca2-a280-d351bcecdd0c",
   "metadata": {},
   "outputs": [],
   "source": [
    "# 'CONTINUE' ALTINDA KOD OLMADIĞI İÇİN İŞLEVİ ANLAMSIZ OLDU. YERİNİ DEĞİŞTİRİP BAKMALIYIZ."
   ]
  },
  {
   "cell_type": "code",
   "execution_count": 44,
   "id": "997b2d19-b32d-408f-a543-114a8a0b423f",
   "metadata": {},
   "outputs": [
    {
     "name": "stdout",
     "output_type": "stream",
     "text": [
      "10\n",
      "20\n",
      "30\n",
      "40\n",
      "50\n",
      "60\n",
      "70\n"
     ]
    }
   ],
   "source": [
    "x = int()\n",
    "\n",
    "for x in myList:\n",
    "    print(x)\n",
    "    if x == 40:\n",
    "        continue\n",
    "        print(\"\\n40 is exist!\\n\")"
   ]
  },
  {
   "cell_type": "code",
   "execution_count": 46,
   "id": "7654a7cf-8bb7-42be-bfb5-020208d1df25",
   "metadata": {},
   "outputs": [],
   "source": [
    "# 'CONTINUE' ALTINDA KODU ÇALIŞTIRMAZ VE DÖNGÜNÜN İŞİ NE HER NE İSE ONA DEVAM EDER."
   ]
  },
  {
   "cell_type": "code",
   "execution_count": 54,
   "id": "e0fdf148-6851-4cc1-803b-51fee7b2d8ae",
   "metadata": {},
   "outputs": [
    {
     "name": "stdout",
     "output_type": "stream",
     "text": [
      "10\n",
      "20\n",
      "30\n",
      "50\n",
      "60\n",
      "70\n"
     ]
    }
   ],
   "source": [
    "x = int()\n",
    "\n",
    "for x in myList:\n",
    "    if x == 40:\n",
    "        continue # BURADA KOD IF KOŞULUNA GİRDİĞİNDE CONTINUE ÇALIŞACAK. DOLAYISIYLA ALTINDAKİ KODU İŞLEVSİZ BIRAKACAK.\n",
    "    print(x)"
   ]
  },
  {
   "cell_type": "code",
   "execution_count": 56,
   "id": "a3ff3045-3270-446c-8755-11e1ad671d49",
   "metadata": {},
   "outputs": [],
   "source": [
    "# KODUN ÇALIŞMASINI GÖZÜNLE TAKİP ET."
   ]
  },
  {
   "cell_type": "code",
   "execution_count": 62,
   "id": "65f4c74d-e239-4074-85cd-df053753d2c0",
   "metadata": {},
   "outputs": [],
   "source": [
    "for num in myList:\n",
    "    pass"
   ]
  }
 ],
 "metadata": {
  "kernelspec": {
   "display_name": "Python 3 (ipykernel)",
   "language": "python",
   "name": "python3"
  },
  "language_info": {
   "codemirror_mode": {
    "name": "ipython",
    "version": 3
   },
   "file_extension": ".py",
   "mimetype": "text/x-python",
   "name": "python",
   "nbconvert_exporter": "python",
   "pygments_lexer": "ipython3",
   "version": "3.12.4"
  }
 },
 "nbformat": 4,
 "nbformat_minor": 5
}
