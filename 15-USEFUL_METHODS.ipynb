{
 "cells": [
  {
   "cell_type": "code",
   "execution_count": 59,
   "id": "557edf0f-e614-4b68-9409-762bb6b0cb80",
   "metadata": {},
   "outputs": [
    {
     "name": "stdout",
     "output_type": "stream",
     "text": [
      "5\n",
      "10\n",
      "15\n",
      "20\n",
      "25\n",
      "30\n"
     ]
    }
   ],
   "source": [
    "myList = [10,20,30,40,50,60]\n",
    "\n",
    "for n in myList:\n",
    "    n = n / 2\n",
    "    n = int(n)\n",
    "    print(n)"
   ]
  },
  {
   "cell_type": "markdown",
   "id": "80d4649c-533b-45af-9acc-1188933e7ced",
   "metadata": {},
   "source": [
    "RANGE"
   ]
  },
  {
   "cell_type": "code",
   "execution_count": 62,
   "id": "151da828-8998-4d3b-9940-f8f1eddd8e2d",
   "metadata": {},
   "outputs": [
    {
     "data": {
      "text/plain": [
       "range(0, 10)"
      ]
     },
     "execution_count": 62,
     "metadata": {},
     "output_type": "execute_result"
    }
   ],
   "source": [
    "range(10) # SIFIR İLE ON ARASINDAKİ TÜM SAYILARI KAPSAMA ALDI. SIFIR DAHİL, ON DAHİL DEĞİL!"
   ]
  },
  {
   "cell_type": "code",
   "execution_count": 64,
   "id": "88948163-14ef-4867-9964-e77894ea79de",
   "metadata": {},
   "outputs": [
    {
     "data": {
      "text/plain": [
       "[0, 1, 2, 3, 4, 5, 6, 7, 8, 9]"
      ]
     },
     "execution_count": 64,
     "metadata": {},
     "output_type": "execute_result"
    }
   ],
   "source": [
    "list(range(10))"
   ]
  },
  {
   "cell_type": "code",
   "execution_count": 66,
   "id": "84438981-f513-4add-8f7f-4dc3c9705a5b",
   "metadata": {},
   "outputs": [
    {
     "name": "stdout",
     "output_type": "stream",
     "text": [
      "0\n",
      "2\n",
      "4\n",
      "6\n",
      "8\n",
      "10\n",
      "12\n",
      "14\n",
      "16\n",
      "18\n"
     ]
    }
   ],
   "source": [
    "for num in list(range(20)): \n",
    "    if num % 2 == 0:\n",
    "        print(num)\n",
    "\n",
    "# BURADA RANGE(20) KAPSAMINDAKİ ÇİFT SAYILARI BULDUK."
   ]
  },
  {
   "cell_type": "code",
   "execution_count": 68,
   "id": "0310f320-7fa4-45f3-984d-2bf970c05861",
   "metadata": {},
   "outputs": [],
   "source": [
    "# PEKİ BAŞLANGIÇ VE BİTİŞ NOKTASINI SEÇEMEZ MİYİZ?"
   ]
  },
  {
   "cell_type": "code",
   "execution_count": 70,
   "id": "e705b135-c2c0-4dc2-ae39-cbf388d148bf",
   "metadata": {},
   "outputs": [
    {
     "data": {
      "text/plain": [
       "[5, 6, 7, 8, 9, 10, 11, 12, 13, 14, 15, 16, 17, 18, 19, 20, 21, 22, 23, 24]"
      ]
     },
     "execution_count": 70,
     "metadata": {},
     "output_type": "execute_result"
    }
   ],
   "source": [
    "list(range(5,25)) # BEŞ DAHİLDİR, YİRMİ BEŞ DAHİL DEĞİLDİR!"
   ]
  },
  {
   "cell_type": "code",
   "execution_count": 72,
   "id": "7a9481b2-29fb-4241-804d-88a7f3d1391c",
   "metadata": {},
   "outputs": [],
   "source": [
    "# PEKİ HEP ARDIŞIK MI İLERLER. STEP SIZE SEÇİLEMEZ Mİ?"
   ]
  },
  {
   "cell_type": "code",
   "execution_count": 74,
   "id": "4ea9314d-c6bc-4dc2-87e9-46ec415ba88b",
   "metadata": {},
   "outputs": [
    {
     "data": {
      "text/plain": [
       "[5, 7, 9, 11, 13, 15, 17, 19, 21, 23]"
      ]
     },
     "execution_count": 74,
     "metadata": {},
     "output_type": "execute_result"
    }
   ],
   "source": [
    "list(range(5,25,2)) # BEŞ DAHİLDİR, YİRMİ BEŞ DAHİL DEĞİLDİR! İKİŞER İKİŞER İLERLER!"
   ]
  },
  {
   "cell_type": "markdown",
   "id": "aa2ddc88-1f94-414d-b4eb-e9e03082658f",
   "metadata": {},
   "source": [
    "ENUMERATE"
   ]
  },
  {
   "cell_type": "code",
   "execution_count": 79,
   "id": "0f4b5dce-0c5a-4ea0-8371-6af5936da3b2",
   "metadata": {},
   "outputs": [
    {
     "name": "stdout",
     "output_type": "stream",
     "text": [
      "(0, 10)\n",
      "(1, 20)\n",
      "(2, 30)\n",
      "(3, 40)\n",
      "(4, 50)\n",
      "(5, 60)\n"
     ]
    }
   ],
   "source": [
    "for x in enumerate(myList):\n",
    "    print(x)"
   ]
  },
  {
   "cell_type": "code",
   "execution_count": 81,
   "id": "1a4be309-a6a5-4e21-b2da-de30619886b7",
   "metadata": {},
   "outputs": [
    {
     "name": "stdout",
     "output_type": "stream",
     "text": [
      "0\n",
      "1\n",
      "2\n",
      "3\n",
      "4\n",
      "5\n"
     ]
    }
   ],
   "source": [
    "for (ix,value) in enumerate(myList):\n",
    "    print(ix)"
   ]
  },
  {
   "cell_type": "code",
   "execution_count": 83,
   "id": "4c3093d6-bf4a-4022-9d8a-fe79dfdee5a1",
   "metadata": {},
   "outputs": [
    {
     "name": "stdout",
     "output_type": "stream",
     "text": [
      "10\n",
      "20\n",
      "30\n",
      "40\n",
      "50\n",
      "60\n"
     ]
    }
   ],
   "source": [
    "for (ix,value) in enumerate(myList):\n",
    "    print(value)"
   ]
  },
  {
   "cell_type": "markdown",
   "id": "c984ffd4-0731-47b2-9007-1c611778881a",
   "metadata": {},
   "source": [
    "RANDOM"
   ]
  },
  {
   "cell_type": "code",
   "execution_count": 86,
   "id": "ca68592a-9f9a-4c4b-b530-fd5b84e2017c",
   "metadata": {},
   "outputs": [],
   "source": [
    "from random import randint # RANDOM DİYE BİR KÜTÜPHANE VAR, BEN ONUN İÇİNDEN RANDINT FONKSİYONUNU ÇAĞIRIYORUM."
   ]
  },
  {
   "cell_type": "code",
   "execution_count": 88,
   "id": "742b67f6-81fc-432e-a7f2-262fa1af0862",
   "metadata": {},
   "outputs": [
    {
     "data": {
      "text/plain": [
       "80"
      ]
     },
     "execution_count": 88,
     "metadata": {},
     "output_type": "execute_result"
    }
   ],
   "source": [
    "randint(0,100)"
   ]
  },
  {
   "cell_type": "code",
   "execution_count": 90,
   "id": "a44d319e-013a-4774-a5a2-0c20f96de227",
   "metadata": {},
   "outputs": [
    {
     "data": {
      "text/plain": [
       "12"
      ]
     },
     "execution_count": 90,
     "metadata": {},
     "output_type": "execute_result"
    }
   ],
   "source": [
    "randint(0,100)"
   ]
  },
  {
   "cell_type": "code",
   "execution_count": 92,
   "id": "356d9296-a33b-466c-b5f6-2a39bc2cb4b6",
   "metadata": {},
   "outputs": [
    {
     "data": {
      "text/plain": [
       "19"
      ]
     },
     "execution_count": 92,
     "metadata": {},
     "output_type": "execute_result"
    }
   ],
   "source": [
    "randint(0,100)"
   ]
  },
  {
   "cell_type": "code",
   "execution_count": 94,
   "id": "6dcf3b74-b580-4484-9e2e-8fdb80f471a5",
   "metadata": {},
   "outputs": [],
   "source": [
    "from random import shuffle # RANDOM DİYE BİR KÜTÜPHANE VAR, BEN ONUN İÇİNDEN SHUFFLE FONKSİYONUNU ÇAĞIRIYORUM."
   ]
  },
  {
   "cell_type": "code",
   "execution_count": 100,
   "id": "ec5f6af0-de52-46b7-99ff-80d2f069dd23",
   "metadata": {},
   "outputs": [],
   "source": [
    "shuffle(myList)"
   ]
  },
  {
   "cell_type": "code",
   "execution_count": 102,
   "id": "0837686d-c4ac-4c5a-8d60-85b35ce4b13f",
   "metadata": {},
   "outputs": [
    {
     "name": "stdout",
     "output_type": "stream",
     "text": [
      "[60, 20, 10, 40, 50, 30]\n"
     ]
    }
   ],
   "source": [
    "print(myList)"
   ]
  },
  {
   "cell_type": "code",
   "execution_count": 108,
   "id": "fa2bed48-6885-43c2-aceb-6e87eccdbe7d",
   "metadata": {},
   "outputs": [
    {
     "data": {
      "text/plain": [
       "40"
      ]
     },
     "execution_count": 108,
     "metadata": {},
     "output_type": "execute_result"
    }
   ],
   "source": [
    "shuffle(myList)\n",
    "\n",
    "n = randint(0,len(myList)-1)\n",
    "n = int(n)\n",
    "\n",
    "myList[n]\n",
    "\n",
    "# ÖNCE LİSTEYİ SHUFFLE İLE KARIŞTIM. SONRA RANDINT İLE RANDOM BİR INDEX BELİRLEDİM. SONRA LİSTEDEN RASTGELE BİR SAYI YAZDIRDIM."
   ]
  },
  {
   "cell_type": "markdown",
   "id": "9212e5c3-51fd-453a-a3c9-c830748dc897",
   "metadata": {},
   "source": [
    "ZIP"
   ]
  },
  {
   "cell_type": "code",
   "execution_count": 111,
   "id": "ca0328ed-8bc1-4a18-9684-7eb9a4f90c08",
   "metadata": {},
   "outputs": [],
   "source": [
    "foodList = [\"apple\", \"orange\", \"pasta\", \"egg\", \"taco\"]"
   ]
  },
  {
   "cell_type": "code",
   "execution_count": 113,
   "id": "94b2c5a9-d075-4755-9ee4-2966ba2b7bbe",
   "metadata": {},
   "outputs": [],
   "source": [
    "calorieList = [100,200,125,456,243,654]"
   ]
  },
  {
   "cell_type": "code",
   "execution_count": 115,
   "id": "8e6393c4-853b-452d-a0bd-cde23be6a51a",
   "metadata": {},
   "outputs": [],
   "source": [
    "dayList = [\"monday\",\"tuesday\",\"wednesday\",\"thursday\",\"friday\"]"
   ]
  },
  {
   "cell_type": "code",
   "execution_count": 117,
   "id": "1e2c9dd5-4e88-49c4-b545-deeab55f795a",
   "metadata": {},
   "outputs": [],
   "source": [
    "zippedList = zip(foodList,calorieList,dayList)"
   ]
  },
  {
   "cell_type": "code",
   "execution_count": 119,
   "id": "40143a19-da25-4412-86fc-78d899e9e1c8",
   "metadata": {},
   "outputs": [],
   "source": [
    "zippedList = list(zippedList)"
   ]
  },
  {
   "cell_type": "code",
   "execution_count": 121,
   "id": "9a8da8a1-c067-4bf4-b42a-8952f6dd435f",
   "metadata": {},
   "outputs": [
    {
     "data": {
      "text/plain": [
       "[('apple', 100, 'monday'),\n",
       " ('orange', 200, 'tuesday'),\n",
       " ('pasta', 125, 'wednesday'),\n",
       " ('egg', 456, 'thursday'),\n",
       " ('taco', 243, 'friday')]"
      ]
     },
     "execution_count": 121,
     "metadata": {},
     "output_type": "execute_result"
    }
   ],
   "source": [
    "zippedList"
   ]
  }
 ],
 "metadata": {
  "kernelspec": {
   "display_name": "Python 3 (ipykernel)",
   "language": "python",
   "name": "python3"
  },
  "language_info": {
   "codemirror_mode": {
    "name": "ipython",
    "version": 3
   },
   "file_extension": ".py",
   "mimetype": "text/x-python",
   "name": "python",
   "nbconvert_exporter": "python",
   "pygments_lexer": "ipython3",
   "version": "3.12.4"
  }
 },
 "nbformat": 4,
 "nbformat_minor": 5
}
