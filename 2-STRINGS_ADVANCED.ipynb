{
 "cells": [
  {
   "cell_type": "markdown",
   "id": "d0a902d1-22aa-44f6-9b87-5a6115826e2b",
   "metadata": {},
   "source": [
    "INDEXING"
   ]
  },
  {
   "cell_type": "code",
   "execution_count": 10,
   "id": "4d26e337-0114-4d8c-a77e-7d7ef7aa79d9",
   "metadata": {},
   "outputs": [],
   "source": [
    "myString = \"Hello Python!\""
   ]
  },
  {
   "cell_type": "code",
   "execution_count": 12,
   "id": "f4cf4002-374d-4440-90dc-e02a1161b475",
   "metadata": {},
   "outputs": [
    {
     "data": {
      "text/plain": [
       "'H'"
      ]
     },
     "execution_count": 12,
     "metadata": {},
     "output_type": "execute_result"
    }
   ],
   "source": [
    "myString[0]"
   ]
  },
  {
   "cell_type": "code",
   "execution_count": 14,
   "id": "5527afc1-40f8-481b-987c-ccc88dc333ce",
   "metadata": {},
   "outputs": [
    {
     "data": {
      "text/plain": [
       "'e'"
      ]
     },
     "execution_count": 14,
     "metadata": {},
     "output_type": "execute_result"
    }
   ],
   "source": [
    "myString[1]"
   ]
  },
  {
   "cell_type": "code",
   "execution_count": 16,
   "id": "2313c482-40f6-4926-a0c9-e9b281b8dcf0",
   "metadata": {},
   "outputs": [
    {
     "data": {
      "text/plain": [
       "'He'"
      ]
     },
     "execution_count": 16,
     "metadata": {},
     "output_type": "execute_result"
    }
   ],
   "source": [
    "myString[0:2]"
   ]
  },
  {
   "cell_type": "code",
   "execution_count": 32,
   "id": "2f34dd7c-d36a-4ac5-a64d-2364e5b8ae0e",
   "metadata": {},
   "outputs": [
    {
     "data": {
      "text/plain": [
       "'!'"
      ]
     },
     "execution_count": 32,
     "metadata": {},
     "output_type": "execute_result"
    }
   ],
   "source": [
    "myString[12]"
   ]
  },
  {
   "cell_type": "code",
   "execution_count": 36,
   "id": "23dee45c-a206-454f-8d99-650b943ac926",
   "metadata": {},
   "outputs": [],
   "source": [
    "# myString[13] böyle bir çıktı çıkamaz, index does not exist!"
   ]
  },
  {
   "cell_type": "code",
   "execution_count": 40,
   "id": "e339d41b-5326-4672-b944-2b2c9bf7ce6a",
   "metadata": {},
   "outputs": [
    {
     "data": {
      "text/plain": [
       "'!'"
      ]
     },
     "execution_count": 40,
     "metadata": {},
     "output_type": "execute_result"
    }
   ],
   "source": [
    "myString[-1]"
   ]
  },
  {
   "cell_type": "code",
   "execution_count": 42,
   "id": "e87bd8a6-6de1-4057-bb73-58297dfb8a44",
   "metadata": {},
   "outputs": [],
   "source": [
    "name = \"Emre Ozden\""
   ]
  },
  {
   "cell_type": "code",
   "execution_count": 44,
   "id": "86b9cec3-77df-4738-ab8e-18ebec471b42",
   "metadata": {},
   "outputs": [
    {
     "data": {
      "text/plain": [
       "10"
      ]
     },
     "execution_count": 44,
     "metadata": {},
     "output_type": "execute_result"
    }
   ],
   "source": [
    "len(name)"
   ]
  },
  {
   "cell_type": "code",
   "execution_count": 46,
   "id": "fa8e06a1-1704-427c-b2bc-4b6f67f1d231",
   "metadata": {},
   "outputs": [],
   "source": [
    "# len(name) - 1 işlemi index mantığında mantıken en son karakteri döndürür."
   ]
  },
  {
   "cell_type": "code",
   "execution_count": 48,
   "id": "b9603b6f-432a-46ab-a4f2-e687b581220e",
   "metadata": {},
   "outputs": [
    {
     "data": {
      "text/plain": [
       "'n'"
      ]
     },
     "execution_count": 48,
     "metadata": {},
     "output_type": "execute_result"
    }
   ],
   "source": [
    "name[9]"
   ]
  },
  {
   "cell_type": "code",
   "execution_count": 52,
   "id": "53c16f0b-6a76-4856-adb9-c8e6350b45ee",
   "metadata": {},
   "outputs": [
    {
     "data": {
      "text/plain": [
       "'k'"
      ]
     },
     "execution_count": 52,
     "metadata": {},
     "output_type": "execute_result"
    }
   ],
   "source": [
    "hisName = \"Onurcan Ozek\"\n",
    "hisName[len(hisName)-1]"
   ]
  },
  {
   "cell_type": "code",
   "execution_count": 55,
   "id": "6e47c651-1236-45e3-bf0a-11eb2652a6f1",
   "metadata": {},
   "outputs": [
    {
     "data": {
      "text/plain": [
       "'k'"
      ]
     },
     "execution_count": 55,
     "metadata": {},
     "output_type": "execute_result"
    }
   ],
   "source": [
    "hisName[-1]"
   ]
  },
  {
   "cell_type": "markdown",
   "id": "e05f4af3-e10e-4cc5-bdd0-3159383d22e4",
   "metadata": {},
   "source": [
    "SLICING"
   ]
  },
  {
   "cell_type": "code",
   "execution_count": 68,
   "id": "cd29a51d-6f09-43c8-8e89-bf1fa6d9f128",
   "metadata": {},
   "outputs": [],
   "source": [
    "barcode = \"SAO8691234567890\""
   ]
  },
  {
   "cell_type": "code",
   "execution_count": 70,
   "id": "23deceab-d931-4a1e-a642-7db4f50c6a78",
   "metadata": {},
   "outputs": [
    {
     "data": {
      "text/plain": [
       "'S'"
      ]
     },
     "execution_count": 70,
     "metadata": {},
     "output_type": "execute_result"
    }
   ],
   "source": [
    "barcode[0]"
   ]
  },
  {
   "cell_type": "code",
   "execution_count": 76,
   "id": "89cd758e-2b91-4fb4-b86e-c9caeea3ebeb",
   "metadata": {},
   "outputs": [
    {
     "data": {
      "text/plain": [
       "'SAO'"
      ]
     },
     "execution_count": 76,
     "metadata": {},
     "output_type": "execute_result"
    }
   ],
   "source": [
    "barcode[0:3]"
   ]
  },
  {
   "cell_type": "code",
   "execution_count": 80,
   "id": "05385b3e-fcf5-4bf4-b628-2a337f175f9f",
   "metadata": {},
   "outputs": [
    {
     "data": {
      "text/plain": [
       "'emre ozden'"
      ]
     },
     "execution_count": 80,
     "metadata": {},
     "output_type": "execute_result"
    }
   ],
   "source": [
    "name = \"emre\"\n",
    "surname = \"ozden\"\n",
    "fullName = name + \" \" + surname\n",
    "fullName"
   ]
  },
  {
   "cell_type": "code",
   "execution_count": 90,
   "id": "b73413ae-c83b-4b67-88d0-383c45fba48f",
   "metadata": {},
   "outputs": [
    {
     "data": {
      "text/plain": [
       "'emre ozdenemre ozdenemre ozdenemre ozdenemre ozden'"
      ]
     },
     "execution_count": 90,
     "metadata": {},
     "output_type": "execute_result"
    }
   ],
   "source": [
    "fullName * 5"
   ]
  },
  {
   "cell_type": "code",
   "execution_count": 92,
   "id": "bf31cead-10cc-4a7f-b37e-9beaaa7f718c",
   "metadata": {},
   "outputs": [
    {
     "data": {
      "text/plain": [
       "'emre ozden5'"
      ]
     },
     "execution_count": 92,
     "metadata": {},
     "output_type": "execute_result"
    }
   ],
   "source": [
    "fullName + \"5\""
   ]
  },
  {
   "cell_type": "code",
   "execution_count": 94,
   "id": "dfeb71aa-f1f6-4a6d-9e78-b84b252449a1",
   "metadata": {},
   "outputs": [
    {
     "data": {
      "text/plain": [
       "'SAO'"
      ]
     },
     "execution_count": 94,
     "metadata": {},
     "output_type": "execute_result"
    }
   ],
   "source": [
    "barcode[0] + barcode[1] + barcode[2]"
   ]
  },
  {
   "cell_type": "code",
   "execution_count": 104,
   "id": "6025c78b-3a08-490a-a0b2-0f7adb950351",
   "metadata": {},
   "outputs": [],
   "source": [
    "# [starting index : stopping index: stepping size]"
   ]
  },
  {
   "cell_type": "code",
   "execution_count": 106,
   "id": "b43b1dd3-289c-4f01-9d73-068627966d51",
   "metadata": {},
   "outputs": [
    {
     "data": {
      "text/plain": [
       "'SAO'"
      ]
     },
     "execution_count": 106,
     "metadata": {},
     "output_type": "execute_result"
    }
   ],
   "source": [
    "barcode[0:3:1] #hangi indeksten başlayalım : hangi indekste duralım: kaçar kaçar ilerleyelim"
   ]
  },
  {
   "cell_type": "code",
   "execution_count": 108,
   "id": "683185c0-20d9-4aa9-803a-834bbba2f9de",
   "metadata": {},
   "outputs": [
    {
     "data": {
      "text/plain": [
       "'8691234567890'"
      ]
     },
     "execution_count": 108,
     "metadata": {},
     "output_type": "execute_result"
    }
   ],
   "source": [
    "barcode[3::]"
   ]
  },
  {
   "cell_type": "code",
   "execution_count": 116,
   "id": "4af7b48c-cc40-4a29-90ac-f229f06bcee9",
   "metadata": {},
   "outputs": [
    {
     "data": {
      "text/plain": [
       "'8924680'"
      ]
     },
     "execution_count": 116,
     "metadata": {},
     "output_type": "execute_result"
    }
   ],
   "source": [
    "barcode[3::2] #üçüncü indexten başlatıp ikişer ikişer ilerledim."
   ]
  },
  {
   "cell_type": "code",
   "execution_count": 124,
   "id": "54959fce-96f7-4546-8400-c5646ee836eb",
   "metadata": {},
   "outputs": [
    {
     "data": {
      "text/plain": [
       "'0987654321968OAS'"
      ]
     },
     "execution_count": 124,
     "metadata": {},
     "output_type": "execute_result"
    }
   ],
   "source": [
    "barcode[::-1] #tersten yazdırdım"
   ]
  },
  {
   "cell_type": "code",
   "execution_count": 130,
   "id": "c52db160-9998-4efd-a86d-890e0f8c1b82",
   "metadata": {},
   "outputs": [
    {
     "data": {
      "text/plain": [
       "6"
      ]
     },
     "execution_count": 130,
     "metadata": {},
     "output_type": "execute_result"
    }
   ],
   "source": [
    "name = \"yusuf emre ozden\"\n",
    "name.index(\"e\") # 'e' karakteri ilk kez kaçıncı indexte kullanılmış?"
   ]
  },
  {
   "cell_type": "code",
   "execution_count": 134,
   "id": "50c48e05-35c1-4f2d-b359-a758c36bd461",
   "metadata": {},
   "outputs": [
    {
     "data": {
      "text/plain": [
       "['yusuf', 'emre', 'ozden']"
      ]
     },
     "execution_count": 134,
     "metadata": {},
     "output_type": "execute_result"
    }
   ],
   "source": [
    "name.split()"
   ]
  },
  {
   "cell_type": "code",
   "execution_count": 138,
   "id": "55469971-c823-4dca-a563-bd48c314da0c",
   "metadata": {},
   "outputs": [
    {
     "data": {
      "text/plain": [
       "list"
      ]
     },
     "execution_count": 138,
     "metadata": {},
     "output_type": "execute_result"
    }
   ],
   "source": [
    "type(name.split())"
   ]
  }
 ],
 "metadata": {
  "kernelspec": {
   "display_name": "Python 3 (ipykernel)",
   "language": "python",
   "name": "python3"
  },
  "language_info": {
   "codemirror_mode": {
    "name": "ipython",
    "version": 3
   },
   "file_extension": ".py",
   "mimetype": "text/x-python",
   "name": "python",
   "nbconvert_exporter": "python",
   "pygments_lexer": "ipython3",
   "version": "3.12.4"
  }
 },
 "nbformat": 4,
 "nbformat_minor": 5
}
