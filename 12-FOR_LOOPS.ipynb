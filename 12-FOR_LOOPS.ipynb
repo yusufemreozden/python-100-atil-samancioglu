{
 "cells": [
  {
   "cell_type": "code",
   "execution_count": 26,
   "id": "6641f274-78ed-425f-a567-afb16d99cc7f",
   "metadata": {},
   "outputs": [],
   "source": [
    "myList = [10,20,30,40,50,60]"
   ]
  },
  {
   "cell_type": "code",
   "execution_count": 28,
   "id": "ab2f1893-adcd-446a-a3b8-498f5c0381f2",
   "metadata": {},
   "outputs": [
    {
     "name": "stdout",
     "output_type": "stream",
     "text": [
      "10\n",
      "20\n",
      "30\n",
      "40\n",
      "50\n",
      "60\n"
     ]
    }
   ],
   "source": [
    "for n in myList:\n",
    "    print(n)"
   ]
  },
  {
   "cell_type": "code",
   "execution_count": 30,
   "id": "9fbeb838-91fc-4443-9709-049c2fe2b1ff",
   "metadata": {},
   "outputs": [
    {
     "name": "stdout",
     "output_type": "stream",
     "text": [
      "5.0\n",
      "10.0\n",
      "15.0\n",
      "20.0\n",
      "25.0\n",
      "30.0\n"
     ]
    }
   ],
   "source": [
    "for n in myList:\n",
    "    print(n/2) # sonuçlar float çıktı. çok mantıklı. nasıl integer şeklinde düzeltebilirim?"
   ]
  },
  {
   "cell_type": "code",
   "execution_count": 32,
   "id": "4c54ef46-21f6-43bf-891b-6440ede7460d",
   "metadata": {},
   "outputs": [
    {
     "name": "stdout",
     "output_type": "stream",
     "text": [
      "5\n",
      "10\n",
      "15\n",
      "20\n",
      "25\n",
      "30\n"
     ]
    }
   ],
   "source": [
    "for n in myList:\n",
    "    new_n = n/2\n",
    "    new_n = int(new_n)\n",
    "    print(new_n)"
   ]
  },
  {
   "cell_type": "code",
   "execution_count": 34,
   "id": "724d0bf1-1714-4ba1-85d2-acbb820ad316",
   "metadata": {},
   "outputs": [
    {
     "name": "stdout",
     "output_type": "stream",
     "text": [
      "14\n",
      "39\n",
      "64\n",
      "89\n",
      "114\n",
      "139\n",
      "\n",
      "For loop ended!\n"
     ]
    }
   ],
   "source": [
    "for n in myList:\n",
    "    new_n = n/2*5+12-23\n",
    "    new_n = int(new_n)\n",
    "    print(new_n)\n",
    "print(\"\\nFor loop ended!\")"
   ]
  },
  {
   "cell_type": "code",
   "execution_count": 38,
   "id": "e8acdb49-a2c0-41b0-b4fe-2df9174a1ac0",
   "metadata": {},
   "outputs": [
    {
     "name": "stdout",
     "output_type": "stream",
     "text": [
      "For loop started!\n",
      "\n",
      "30\n",
      "60\n",
      "\n",
      "For loop ended!\n"
     ]
    }
   ],
   "source": [
    "print(\"For loop started!\\n\")\n",
    "for n in myList:\n",
    "    if n % 6 == 0:\n",
    "        print(n)\n",
    "print(\"\\nFor loop ended!\")"
   ]
  },
  {
   "cell_type": "code",
   "execution_count": 44,
   "id": "57218f1b-6514-4d2b-8b30-a56f9a254993",
   "metadata": {},
   "outputs": [],
   "source": [
    "number_set = {1,2,3,34,5,6,7,7,8,6,4,3,2,5,7,8,9,5,8,10} # BU KÜMEDE HANGİ ÇİFT SAYILAR VAR? "
   ]
  },
  {
   "cell_type": "code",
   "execution_count": 46,
   "id": "85dc7db3-84db-478a-b054-e535aee57448",
   "metadata": {},
   "outputs": [
    {
     "name": "stdout",
     "output_type": "stream",
     "text": [
      "2\n",
      "34\n",
      "6\n",
      "8\n",
      "4\n",
      "10\n"
     ]
    }
   ],
   "source": [
    "for n in number_set:\n",
    "    if n % 2 == 0:\n",
    "        print(n)"
   ]
  },
  {
   "cell_type": "code",
   "execution_count": 50,
   "id": "6d3b4091-66f5-4fbc-a60a-b80fd11659de",
   "metadata": {},
   "outputs": [
    {
     "name": "stdout",
     "output_type": "stream",
     "text": [
      "y\n",
      "u\n",
      "s\n",
      "u\n",
      "f\n",
      " \n",
      "e\n",
      "m\n",
      "r\n",
      "e\n",
      " \n",
      "o\n",
      "z\n",
      "d\n",
      "e\n",
      "n\n"
     ]
    }
   ],
   "source": [
    "nameSurname = \"yusuf emre ozden\"\n",
    "\n",
    "for c in nameSurname:\n",
    "    print(c)"
   ]
  },
  {
   "cell_type": "code",
   "execution_count": 70,
   "id": "42e80b45-f8d8-4f2b-acc8-350d75b7dde8",
   "metadata": {},
   "outputs": [],
   "source": [
    "myNewList =  [('a','b'),('c','d'),('e','f'),('g','h')]"
   ]
  },
  {
   "cell_type": "code",
   "execution_count": 72,
   "id": "f412facd-2896-46f1-a3b3-5a2708cd31b3",
   "metadata": {},
   "outputs": [],
   "source": [
    "# YUKARIDAKİ LİSTENİN UZUNLUĞU NEDİR?"
   ]
  },
  {
   "cell_type": "code",
   "execution_count": 74,
   "id": "62a13bca-50af-40a1-b4c2-7d7ef515b4cf",
   "metadata": {},
   "outputs": [
    {
     "data": {
      "text/plain": [
       "4"
      ]
     },
     "execution_count": 74,
     "metadata": {},
     "output_type": "execute_result"
    }
   ],
   "source": [
    "len(myNewList)"
   ]
  },
  {
   "cell_type": "code",
   "execution_count": 76,
   "id": "70f63726-04be-4343-a857-cd4595a46b6f",
   "metadata": {},
   "outputs": [
    {
     "data": {
      "text/plain": [
       "('a', 'b')"
      ]
     },
     "execution_count": 76,
     "metadata": {},
     "output_type": "execute_result"
    }
   ],
   "source": [
    "myNewList[0]"
   ]
  },
  {
   "cell_type": "code",
   "execution_count": 78,
   "id": "530c24af-9301-4526-b77c-42b641fb672d",
   "metadata": {},
   "outputs": [
    {
     "name": "stdout",
     "output_type": "stream",
     "text": [
      "b\n",
      "d\n",
      "f\n",
      "h\n"
     ]
    }
   ],
   "source": [
    "for (x,y) in myNewList:\n",
    "    print(y)"
   ]
  },
  {
   "cell_type": "code",
   "execution_count": 80,
   "id": "4478d3f8-b7bf-482e-9fbc-c45f748d43b9",
   "metadata": {},
   "outputs": [],
   "source": [
    "myTupleList = [(1,2,3),(4,5,6),(6,7,8)]"
   ]
  },
  {
   "cell_type": "code",
   "execution_count": 82,
   "id": "8b65594c-4a32-46d0-b5ed-bdd9b39e8e63",
   "metadata": {},
   "outputs": [
    {
     "name": "stdout",
     "output_type": "stream",
     "text": [
      "1\n",
      "4\n",
      "6\n"
     ]
    }
   ],
   "source": [
    "for (x,y,z) in myTupleList:\n",
    "    print(x)"
   ]
  },
  {
   "cell_type": "code",
   "execution_count": 84,
   "id": "f332c60f-6616-4990-83fc-d217a97b032e",
   "metadata": {},
   "outputs": [
    {
     "name": "stdout",
     "output_type": "stream",
     "text": [
      "1 2\n",
      "4 5\n",
      "6 7\n"
     ]
    }
   ],
   "source": [
    "for (x,y,z) in myTupleList:\n",
    "    print(x,y)"
   ]
  },
  {
   "cell_type": "code",
   "execution_count": 86,
   "id": "d3ac75c8-a910-4887-af2e-af8f36f6e6c6",
   "metadata": {},
   "outputs": [
    {
     "name": "stdout",
     "output_type": "stream",
     "text": [
      "2\n",
      "5\n",
      "7\n"
     ]
    }
   ],
   "source": [
    "for (x,y,z) in myTupleList:\n",
    "    print(y)"
   ]
  },
  {
   "cell_type": "code",
   "execution_count": 106,
   "id": "dba9f21a-9e83-4f07-b7de-62b8334acad5",
   "metadata": {},
   "outputs": [],
   "source": [
    "my_dictionary = {'k1':'55','k2':89,'k3':144}"
   ]
  },
  {
   "cell_type": "code",
   "execution_count": 124,
   "id": "845b1caf-d732-4887-a4be-4206b3e7a3a8",
   "metadata": {},
   "outputs": [
    {
     "name": "stdout",
     "output_type": "stream",
     "text": [
      "k1\n",
      "k2\n",
      "k3\n"
     ]
    }
   ],
   "source": [
    "for element in my_dictionary:\n",
    "    print(element) # sadece anahtarları çalıştırdı. peki değerleri nasıl alırım?"
   ]
  },
  {
   "cell_type": "code",
   "execution_count": 132,
   "id": "0200698e-5e26-4d1f-b950-cb625b64fdbd",
   "metadata": {},
   "outputs": [
    {
     "data": {
      "text/plain": [
       "dict_keys(['k1', 'k2', 'k3'])"
      ]
     },
     "execution_count": 132,
     "metadata": {},
     "output_type": "execute_result"
    }
   ],
   "source": [
    "my_dictionary.keys()"
   ]
  },
  {
   "cell_type": "code",
   "execution_count": 134,
   "id": "0abf0307-23c8-49ee-b3c4-f94929faaf0b",
   "metadata": {},
   "outputs": [
    {
     "data": {
      "text/plain": [
       "dict_values(['55', 89, 144])"
      ]
     },
     "execution_count": 134,
     "metadata": {},
     "output_type": "execute_result"
    }
   ],
   "source": [
    "my_dictionary.values()"
   ]
  },
  {
   "cell_type": "code",
   "execution_count": 136,
   "id": "a7e85fb7-c037-4926-9a03-6fc63271a13d",
   "metadata": {},
   "outputs": [
    {
     "data": {
      "text/plain": [
       "dict_items([('k1', '55'), ('k2', 89), ('k3', 144)])"
      ]
     },
     "execution_count": 136,
     "metadata": {},
     "output_type": "execute_result"
    }
   ],
   "source": [
    "my_dictionary.items() # BU ARAÇ BİZE TÜM EŞLEŞMELERİ LİSTELEYİP VERİYOR."
   ]
  },
  {
   "cell_type": "code",
   "execution_count": 138,
   "id": "749d6f1b-3ccf-4b6b-97a4-4cee0475ce6d",
   "metadata": {},
   "outputs": [
    {
     "name": "stdout",
     "output_type": "stream",
     "text": [
      "k1 55\n",
      "k2 89\n",
      "k3 144\n"
     ]
    }
   ],
   "source": [
    "a =  my_dictionary.items()\n",
    "\n",
    "for (x,y) in a:\n",
    "    print(x,y)"
   ]
  },
  {
   "cell_type": "code",
   "execution_count": 140,
   "id": "908b7420-6680-48f5-b395-7150a2edec67",
   "metadata": {},
   "outputs": [
    {
     "name": "stdout",
     "output_type": "stream",
     "text": [
      "k1\n",
      "k2\n",
      "k3\n"
     ]
    }
   ],
   "source": [
    "a =  my_dictionary.items()\n",
    "\n",
    "for (x,y) in a:\n",
    "    print(x)"
   ]
  },
  {
   "cell_type": "code",
   "execution_count": 142,
   "id": "d627bb82-15de-4363-9b64-eb2f3ffc2cfe",
   "metadata": {},
   "outputs": [
    {
     "name": "stdout",
     "output_type": "stream",
     "text": [
      "55\n",
      "89\n",
      "144\n"
     ]
    }
   ],
   "source": [
    "a =  my_dictionary.items()\n",
    "\n",
    "for (x,y) in a:\n",
    "    print(y)"
   ]
  },
  {
   "cell_type": "code",
   "execution_count": 144,
   "id": "8fe982ae-e3b2-49c9-9c1c-4b49fd0f94e2",
   "metadata": {},
   "outputs": [
    {
     "name": "stdout",
     "output_type": "stream",
     "text": [
      "55\n",
      "89\n",
      "144\n"
     ]
    }
   ],
   "source": [
    "for values in my_dictionary.values():\n",
    "    print(values)"
   ]
  },
  {
   "cell_type": "code",
   "execution_count": null,
   "id": "8dddc9b9-3aa5-40e5-a02a-45d3b6fcf3d7",
   "metadata": {},
   "outputs": [],
   "source": []
  }
 ],
 "metadata": {
  "kernelspec": {
   "display_name": "Python 3 (ipykernel)",
   "language": "python",
   "name": "python3"
  },
  "language_info": {
   "codemirror_mode": {
    "name": "ipython",
    "version": 3
   },
   "file_extension": ".py",
   "mimetype": "text/x-python",
   "name": "python",
   "nbconvert_exporter": "python",
   "pygments_lexer": "ipython3",
   "version": "3.12.4"
  }
 },
 "nbformat": 4,
 "nbformat_minor": 5
}
