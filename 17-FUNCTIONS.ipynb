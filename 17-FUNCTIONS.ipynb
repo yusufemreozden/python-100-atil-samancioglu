{
 "cells": [
  {
   "cell_type": "code",
   "execution_count": 2,
   "id": "193071df-558e-48d8-932d-3bfa8aec1f24",
   "metadata": {},
   "outputs": [],
   "source": [
    "myString = \"emre\""
   ]
  },
  {
   "cell_type": "code",
   "execution_count": 8,
   "id": "945d3a9d-d4d5-4e46-8c01-20ab02eb1220",
   "metadata": {},
   "outputs": [
    {
     "data": {
      "text/plain": [
       "'EMRE'"
      ]
     },
     "execution_count": 8,
     "metadata": {},
     "output_type": "execute_result"
    }
   ],
   "source": [
    "myString.upper()"
   ]
  },
  {
   "cell_type": "code",
   "execution_count": 10,
   "id": "9f41b5a6-7767-4938-9134-28cdc3b57b9f",
   "metadata": {},
   "outputs": [],
   "source": [
    "myNewString = myString.upper()"
   ]
  },
  {
   "cell_type": "code",
   "execution_count": 12,
   "id": "961637f9-3669-490c-8c1a-9add92d0689f",
   "metadata": {},
   "outputs": [
    {
     "data": {
      "text/plain": [
       "'EMRE'"
      ]
     },
     "execution_count": 12,
     "metadata": {},
     "output_type": "execute_result"
    }
   ],
   "source": [
    "myNewString"
   ]
  },
  {
   "cell_type": "code",
   "execution_count": 14,
   "id": "c1909033-b568-43ab-9dc2-6628f2d2c3c3",
   "metadata": {},
   "outputs": [
    {
     "data": {
      "text/plain": [
       "'emre'"
      ]
     },
     "execution_count": 14,
     "metadata": {},
     "output_type": "execute_result"
    }
   ],
   "source": [
    "myString"
   ]
  },
  {
   "cell_type": "code",
   "execution_count": 16,
   "id": "7c8e33a8-ed99-4256-9699-8f4cac98ca51",
   "metadata": {},
   "outputs": [],
   "source": [
    "# FONKSİYON NEDİR? "
   ]
  },
  {
   "cell_type": "code",
   "execution_count": 18,
   "id": "0f718022-da35-4571-8ef5-a593e0a74f17",
   "metadata": {},
   "outputs": [],
   "source": [
    "def hello_world():\n",
    "    print(\"hello\")\n",
    "    print(\"world!\")"
   ]
  },
  {
   "cell_type": "code",
   "execution_count": 20,
   "id": "0554b30b-8742-4fb4-a0f2-04f04857ef26",
   "metadata": {},
   "outputs": [
    {
     "name": "stdout",
     "output_type": "stream",
     "text": [
      "hello\n",
      "world!\n"
     ]
    }
   ],
   "source": [
    "hello_world()"
   ]
  },
  {
   "cell_type": "code",
   "execution_count": 24,
   "id": "0e71c40e-1a94-459c-96f0-19f0abc10bf7",
   "metadata": {},
   "outputs": [
    {
     "name": "stdout",
     "output_type": "stream",
     "text": [
      "hello\n",
      "world!\n"
     ]
    }
   ],
   "source": [
    "hello_world()"
   ]
  },
  {
   "cell_type": "code",
   "execution_count": 28,
   "id": "4cec74a5-e8ff-47be-9159-4697b0908153",
   "metadata": {},
   "outputs": [],
   "source": [
    "def hello_name(name):\n",
    "    print(f\"hello {name}\")"
   ]
  },
  {
   "cell_type": "code",
   "execution_count": 34,
   "id": "28fd868d-edfc-477b-8b0b-272cce9925d8",
   "metadata": {},
   "outputs": [
    {
     "name": "stdout",
     "output_type": "stream",
     "text": [
      "hello emre\n"
     ]
    }
   ],
   "source": [
    "name = \"emre\"\n",
    "hello_name(name)"
   ]
  },
  {
   "cell_type": "code",
   "execution_count": 36,
   "id": "140f35e8-7e3a-4dc7-8787-3fd7f572cdb5",
   "metadata": {},
   "outputs": [
    {
     "name": "stdout",
     "output_type": "stream",
     "text": [
      "hello yusuf\n"
     ]
    }
   ],
   "source": [
    "hello_name(\"yusuf\")"
   ]
  },
  {
   "cell_type": "code",
   "execution_count": 44,
   "id": "de87c94f-face-42ac-9d73-659a5991c7cb",
   "metadata": {},
   "outputs": [],
   "source": [
    "def summarize_new(n1,n2):\n",
    "    sum = n1 + n2\n",
    "    print(sum)"
   ]
  },
  {
   "cell_type": "code",
   "execution_count": 46,
   "id": "ae8ef812-4969-4adf-9848-2f20353dcc4d",
   "metadata": {},
   "outputs": [
    {
     "name": "stdout",
     "output_type": "stream",
     "text": [
      "30\n"
     ]
    }
   ],
   "source": [
    "summarize_new(20,10)"
   ]
  },
  {
   "cell_type": "code",
   "execution_count": 60,
   "id": "a676c694-7068-4221-b708-6805e64ebc85",
   "metadata": {},
   "outputs": [],
   "source": [
    "def helloSurname(surname=\"Ozden\"): # BU ŞEKİLDE DEFAULT BİR DEĞER DE BELİRLENEBİLİR.\n",
    "    print(f\"hello Mr. {surname}\")"
   ]
  },
  {
   "cell_type": "code",
   "execution_count": 62,
   "id": "d39d4996-4099-470a-b452-8957fd45da15",
   "metadata": {},
   "outputs": [
    {
     "name": "stdout",
     "output_type": "stream",
     "text": [
      "hello Mr. Yılmaz\n"
     ]
    }
   ],
   "source": [
    "helloSurname(\"Yılmaz\")"
   ]
  },
  {
   "cell_type": "code",
   "execution_count": 66,
   "id": "f5f988d3-c83d-49e3-b71a-ff162aea7646",
   "metadata": {},
   "outputs": [
    {
     "name": "stdout",
     "output_type": "stream",
     "text": [
      "hello Mr. Ozden\n"
     ]
    }
   ],
   "source": [
    "helloSurname() # İÇİNE BİR PARAMETRE GİRMEDİĞİMİZ İÇİN VARSAYILANI KULLANDI."
   ]
  },
  {
   "cell_type": "markdown",
   "id": "b52acbb6-dbb5-4aad-a1e3-59d6c072106e",
   "metadata": {},
   "source": [
    "RETURN"
   ]
  },
  {
   "cell_type": "code",
   "execution_count": 69,
   "id": "7f9745ad-1d82-43bf-b085-8864807fa0b9",
   "metadata": {},
   "outputs": [],
   "source": [
    "def summation(n1,n2,n3):\n",
    "    print(n1+n2+n3)"
   ]
  },
  {
   "cell_type": "code",
   "execution_count": 71,
   "id": "83a0b9c5-25ea-4664-989b-d8ae068341a3",
   "metadata": {},
   "outputs": [
    {
     "name": "stdout",
     "output_type": "stream",
     "text": [
      "59\n"
     ]
    }
   ],
   "source": [
    "summation(10,24,25)"
   ]
  },
  {
   "cell_type": "code",
   "execution_count": 73,
   "id": "b05617c8-66bd-413f-a65b-27a430cf21ae",
   "metadata": {},
   "outputs": [
    {
     "name": "stdout",
     "output_type": "stream",
     "text": [
      "141\n"
     ]
    }
   ],
   "source": [
    "x = summation(54,75,12)"
   ]
  },
  {
   "cell_type": "code",
   "execution_count": 77,
   "id": "7674dd0d-4e08-4f0f-8770-732a93d82810",
   "metadata": {},
   "outputs": [
    {
     "data": {
      "text/plain": [
       "NoneType"
      ]
     },
     "execution_count": 77,
     "metadata": {},
     "output_type": "execute_result"
    }
   ],
   "source": [
    "type(x)"
   ]
  },
  {
   "cell_type": "code",
   "execution_count": 79,
   "id": "91fd90e6-08bf-4293-a017-eb46afdffd3c",
   "metadata": {},
   "outputs": [],
   "source": [
    "# X BİR DEĞERE SAHİP DEĞİL. ÇÜNKÜ BİZ SADECE SONUÇ BASAN BİR FONKSİYONU EŞİTLEDİK. DEĞER DÖNDÜRMÜYOR."
   ]
  },
  {
   "cell_type": "code",
   "execution_count": 81,
   "id": "7824ca0f-1289-4f58-bd60-f91fba7bda6b",
   "metadata": {},
   "outputs": [],
   "source": [
    "def return_summation(n1,n2,n3):\n",
    "    return n1+n2+n3"
   ]
  },
  {
   "cell_type": "code",
   "execution_count": 83,
   "id": "d41fbe90-f0ac-45c1-8c46-894024391458",
   "metadata": {},
   "outputs": [
    {
     "data": {
      "text/plain": [
       "59"
      ]
     },
     "execution_count": 83,
     "metadata": {},
     "output_type": "execute_result"
    }
   ],
   "source": [
    "return_summation(10,24,25)"
   ]
  },
  {
   "cell_type": "code",
   "execution_count": 85,
   "id": "17702d56-1fa8-4ea6-b957-3d63f6c5f365",
   "metadata": {},
   "outputs": [],
   "source": [
    "x = return_summation(54,75,12)"
   ]
  },
  {
   "cell_type": "code",
   "execution_count": 87,
   "id": "f0293db0-87c3-45e0-9525-382b05c27e62",
   "metadata": {},
   "outputs": [
    {
     "data": {
      "text/plain": [
       "int"
      ]
     },
     "execution_count": 87,
     "metadata": {},
     "output_type": "execute_result"
    }
   ],
   "source": [
    "type(x)"
   ]
  },
  {
   "cell_type": "code",
   "execution_count": 89,
   "id": "8a0912a0-862f-456b-8c6e-05752474569f",
   "metadata": {},
   "outputs": [
    {
     "data": {
      "text/plain": [
       "141"
      ]
     },
     "execution_count": 89,
     "metadata": {},
     "output_type": "execute_result"
    }
   ],
   "source": [
    "x"
   ]
  },
  {
   "cell_type": "code",
   "execution_count": 91,
   "id": "c883a159-f582-46d5-a306-199997342126",
   "metadata": {},
   "outputs": [],
   "source": [
    "# ARTIK X BİR DEĞERE SAHİP."
   ]
  },
  {
   "cell_type": "code",
   "execution_count": 113,
   "id": "c16adc2d-99ea-432e-856f-a525bc392933",
   "metadata": {},
   "outputs": [],
   "source": [
    "def a_controller(s):\n",
    "    if s[0] == \"a\":\n",
    "        print(\"Stringiniz 'a' ile başlıyor.\")\n",
    "    else:\n",
    "        print(\"İlk harf 'a' değil.\")"
   ]
  },
  {
   "cell_type": "code",
   "execution_count": 115,
   "id": "4958cbbd-54fe-4705-afb6-f15c108e8ecf",
   "metadata": {},
   "outputs": [
    {
     "name": "stdout",
     "output_type": "stream",
     "text": [
      "Stringiniz 'a' ile başlıyor.\n"
     ]
    }
   ],
   "source": [
    "s = \"araba\"\n",
    "\n",
    "a_controller(s)"
   ]
  },
  {
   "cell_type": "code",
   "execution_count": 117,
   "id": "fe6cbbd2-1fe8-4254-a791-466c3059d77d",
   "metadata": {},
   "outputs": [
    {
     "name": "stdout",
     "output_type": "stream",
     "text": [
      "İlk harf 'a' değil.\n"
     ]
    }
   ],
   "source": [
    "a_controller(\"yusufemreozden\")"
   ]
  },
  {
   "cell_type": "markdown",
   "id": "366c0e0e-d043-4545-b130-7a999c70e76e",
   "metadata": {},
   "source": [
    "ARBIATRY ARGUMENTS & KEY WORD ARGUMENTS (args, kwards)\n",
    "\n",
    "args: bir tuple oluşturur.\n",
    "kwargs: dict oluşturur."
   ]
  },
  {
   "cell_type": "code",
   "execution_count": 133,
   "id": "3f8600bb-2ffe-4255-af7f-7c0bc7029f25",
   "metadata": {},
   "outputs": [],
   "source": [
    "# ARGS SAYISI BELLİ OLMAYAN IMPUTLARI ALMAK İÇİN KULLANILIR.\n",
    "\n",
    "def args_sum(*args): # ASLINDA BİR TANE YILDIZI KOYDUKTAN SONRA 'ARGS' YAZMAYA DA GEREK YOK AMA GENEL OLARAK DEVELOPERLAR YAZAR.\n",
    "    return sum(args)"
   ]
  },
  {
   "cell_type": "code",
   "execution_count": 135,
   "id": "92369306-6dda-410b-a4d6-2b7949ac38b3",
   "metadata": {},
   "outputs": [
    {
     "data": {
      "text/plain": [
       "15"
      ]
     },
     "execution_count": 135,
     "metadata": {},
     "output_type": "execute_result"
    }
   ],
   "source": [
    "args_sum(1,2,3,4,5)"
   ]
  },
  {
   "cell_type": "code",
   "execution_count": 137,
   "id": "8b0ac38b-2740-4c10-96c2-04788822af59",
   "metadata": {},
   "outputs": [],
   "source": [
    "def kwargs_example(**kwargs): # ASLINDA İKİ TANE YILDIZI KOYDUKTAN SONRA 'KWARGS' YAZMAYA DA GEREK YOK AMA GENEL OLARAK DEVELOPERLAR YAZAR.\n",
    "    print(kwargs)"
   ]
  },
  {
   "cell_type": "code",
   "execution_count": 141,
   "id": "4612c4e0-de6a-4869-85ee-8bf4b6464534",
   "metadata": {},
   "outputs": [
    {
     "name": "stdout",
     "output_type": "stream",
     "text": [
      "{'apple': 100, 'orange': 250, 'melon': 200}\n"
     ]
    }
   ],
   "source": [
    "kwargs_example(apple=100,orange=250,melon=200)"
   ]
  },
  {
   "cell_type": "code",
   "execution_count": 145,
   "id": "b9f1c2a3-917c-4de1-93b5-93d9bf6e716e",
   "metadata": {},
   "outputs": [],
   "source": [
    "def kwargs_example2(**kwargs):\n",
    "    if \"apple\" in kwargs:\n",
    "        print(\"APPLE!!!\")\n",
    "    else:\n",
    "        print(\":(\")"
   ]
  },
  {
   "cell_type": "code",
   "execution_count": 147,
   "id": "af69d7e5-cf71-4165-ae5f-74c290784f3f",
   "metadata": {},
   "outputs": [
    {
     "name": "stdout",
     "output_type": "stream",
     "text": [
      "APPLE!!!\n"
     ]
    }
   ],
   "source": [
    "kwargs_example2(apple=100, banana= 150)"
   ]
  },
  {
   "cell_type": "code",
   "execution_count": 151,
   "id": "7a276f6a-b339-48fd-a444-8aba6bdd9743",
   "metadata": {},
   "outputs": [
    {
     "name": "stdout",
     "output_type": "stream",
     "text": [
      ":(\n"
     ]
    }
   ],
   "source": [
    "kwargs_example2(orange=100, banana= 150)"
   ]
  }
 ],
 "metadata": {
  "kernelspec": {
   "display_name": "Python 3 (ipykernel)",
   "language": "python",
   "name": "python3"
  },
  "language_info": {
   "codemirror_mode": {
    "name": "ipython",
    "version": 3
   },
   "file_extension": ".py",
   "mimetype": "text/x-python",
   "name": "python",
   "nbconvert_exporter": "python",
   "pygments_lexer": "ipython3",
   "version": "3.12.4"
  }
 },
 "nbformat": 4,
 "nbformat_minor": 5
}
