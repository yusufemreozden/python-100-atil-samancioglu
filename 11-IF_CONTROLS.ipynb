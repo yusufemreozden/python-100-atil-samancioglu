{
 "cells": [
  {
   "cell_type": "code",
   "execution_count": 3,
   "id": "1a984474-d0f8-43b6-bfbc-85750b80e9e2",
   "metadata": {},
   "outputs": [],
   "source": [
    "myFavoriteCar = \"Mercedes\""
   ]
  },
  {
   "cell_type": "code",
   "execution_count": 5,
   "id": "ead3c298-5d13-48e1-bc63-8d22396bdf2f",
   "metadata": {},
   "outputs": [
    {
     "data": {
      "text/plain": [
       "True"
      ]
     },
     "execution_count": 5,
     "metadata": {},
     "output_type": "execute_result"
    }
   ],
   "source": [
    "myFavoriteCar == \"Mercedes\""
   ]
  },
  {
   "cell_type": "code",
   "execution_count": 11,
   "id": "df601402-1c9c-412d-84ea-18d4a5664945",
   "metadata": {},
   "outputs": [
    {
     "data": {
      "text/plain": [
       "False"
      ]
     },
     "execution_count": 11,
     "metadata": {},
     "output_type": "execute_result"
    }
   ],
   "source": [
    "myFavoriteCar == \"Opel\""
   ]
  },
  {
   "cell_type": "code",
   "execution_count": 19,
   "id": "29f78bf2-031a-44c9-a45e-1a5a5cac6595",
   "metadata": {},
   "outputs": [
    {
     "name": "stdout",
     "output_type": "stream",
     "text": [
      "Emre'nin favori araba markası Mercedes'tir!\n",
      "\n",
      "Bildirim Gönderildi!\n"
     ]
    }
   ],
   "source": [
    "if myFavoriteCar == \"Mercedes\":\n",
    "    print(\"Emre'nin favori araba markası Mercedes'tir!\")\n",
    "print(\"\\nBildirim Gönderildi!\")"
   ]
  },
  {
   "cell_type": "code",
   "execution_count": 23,
   "id": "3ef76bf1-55f3-4f8c-826d-5f1a1878a00c",
   "metadata": {},
   "outputs": [
    {
     "name": "stdout",
     "output_type": "stream",
     "text": [
      "Emre'nin favori araba markası eşleşmedi!\n",
      "\n",
      "Bildirim Gönderildi!\n"
     ]
    }
   ],
   "source": [
    "if myFavoriteCar == \"Volkswagen\":\n",
    "    print(\"Emre'nin favori araba markası Mercedes'tir!\")\n",
    "else:\n",
    "    print(\"Emre'nin favori araba markası eşleşmedi!\")\n",
    "print(\"\\nBildirim Gönderildi!\")"
   ]
  },
  {
   "cell_type": "code",
   "execution_count": 41,
   "id": "ac9fda46-d33c-4a90-80d1-049440013228",
   "metadata": {},
   "outputs": [
    {
     "name": "stdin",
     "output_type": "stream",
     "text": [
      "Lütfen süper kahramanınızı giriniz!: Batman\n"
     ]
    },
    {
     "name": "stdout",
     "output_type": "stream",
     "text": [
      "Süper kahramanınız Batman!\n"
     ]
    }
   ],
   "source": [
    "super_hero = input(\"Lütfen süper kahramanınızı giriniz!:\")\n",
    "\n",
    "if super_hero == \"Superman\":\n",
    "    print(\"Süper kahramanınız Superman!\")\n",
    "elif super_hero == \"Batman\":\n",
    "    print(\"Süper kahramanınız Batman!\")\n",
    "elif super_hero == \"Antman\":\n",
    "    print(\"Süper kahramanınız Antman!\")\n",
    "elif super_hero == \"Antman\":\n",
    "    print(\"Süper kahramanınız Wonderwoman!\")\n",
    "else:\n",
    "    print(\":(\")"
   ]
  },
  {
   "cell_type": "code",
   "execution_count": 43,
   "id": "70da0ef6-b26e-4ad9-bc81-03a3a205b101",
   "metadata": {},
   "outputs": [
    {
     "name": "stdin",
     "output_type": "stream",
     "text": [
      "Lütfen süper kahramanınızı giriniz!: Antman\n"
     ]
    },
    {
     "name": "stdout",
     "output_type": "stream",
     "text": [
      "Süper kahramanınız Antman!\n"
     ]
    }
   ],
   "source": [
    "super_hero = input(\"Lütfen süper kahramanınızı giriniz!:\")\n",
    "\n",
    "if super_hero == \"Superman\":\n",
    "    print(\"Süper kahramanınız Superman!\")\n",
    "elif super_hero == \"Batman\":\n",
    "    print(\"Süper kahramanınız Batman!\")\n",
    "elif super_hero == \"Antman\":\n",
    "    print(\"Süper kahramanınız Antman!\")\n",
    "elif super_hero == \"Antman\":\n",
    "    print(\"Süper kahramanınız Wonderwoman!\")\n",
    "else:\n",
    "    print(\":(\")"
   ]
  },
  {
   "cell_type": "code",
   "execution_count": 45,
   "id": "9857e4ff-8428-488c-9d9c-fc7851df03bc",
   "metadata": {},
   "outputs": [
    {
     "name": "stdin",
     "output_type": "stream",
     "text": [
      "Lütfen süper kahramanınızı giriniz!: Aquaman\n"
     ]
    },
    {
     "name": "stdout",
     "output_type": "stream",
     "text": [
      ":(\n"
     ]
    }
   ],
   "source": [
    "super_hero = input(\"Lütfen süper kahramanınızı giriniz!:\")\n",
    "\n",
    "if super_hero == \"Superman\":\n",
    "    print(\"Süper kahramanınız Superman!\")\n",
    "elif super_hero == \"Batman\":\n",
    "    print(\"Süper kahramanınız Batman!\")\n",
    "elif super_hero == \"Antman\":\n",
    "    print(\"Süper kahramanınız Antman!\")\n",
    "elif super_hero == \"Antman\":\n",
    "    print(\"Süper kahramanınız Wonderwoman!\")\n",
    "else:\n",
    "    print(\":(\")"
   ]
  },
  {
   "cell_type": "code",
   "execution_count": 57,
   "id": "e8c4d714-5303-4553-909d-d710b5c1e58a",
   "metadata": {},
   "outputs": [
    {
     "name": "stdin",
     "output_type": "stream",
     "text": [
      "Lütfen yaşınızı giriniz!: 18\n"
     ]
    },
    {
     "name": "stdout",
     "output_type": "stream",
     "text": [
      "\n",
      "Reşitsiniz :)\n"
     ]
    }
   ],
   "source": [
    "age = input(\"Lütfen yaşınızı giriniz!:\")\n",
    "age = int(age)\n",
    "\n",
    "if age < 18:\n",
    "    print(\"Reşit değilsiniz :(\")\n",
    "else:\n",
    "    print(\"\\nReşitsiniz :)\")"
   ]
  },
  {
   "cell_type": "code",
   "execution_count": 59,
   "id": "5e2602d9-d965-4a8f-a727-5ad352595a84",
   "metadata": {},
   "outputs": [
    {
     "name": "stdin",
     "output_type": "stream",
     "text": [
      "Lütfen yaşınızı giriniz!: 17\n"
     ]
    },
    {
     "name": "stdout",
     "output_type": "stream",
     "text": [
      "Reşit değilsiniz :(\n"
     ]
    }
   ],
   "source": [
    "age = input(\"Lütfen yaşınızı giriniz!:\")\n",
    "age = int(age)\n",
    "\n",
    "if age < 18:\n",
    "    print(\"Reşit değilsiniz :(\")\n",
    "else:\n",
    "    print(\"\\nReşitsiniz :)\")"
   ]
  },
  {
   "cell_type": "code",
   "execution_count": 61,
   "id": "6a7aa6ab-9021-457b-9778-86d1a81eec58",
   "metadata": {},
   "outputs": [
    {
     "name": "stdin",
     "output_type": "stream",
     "text": [
      "Lütfen yaşınızı giriniz!: 23\n"
     ]
    },
    {
     "name": "stdout",
     "output_type": "stream",
     "text": [
      "\n",
      "Reşitsiniz :)\n"
     ]
    }
   ],
   "source": [
    "age = input(\"Lütfen yaşınızı giriniz!:\")\n",
    "age = int(age)\n",
    "\n",
    "if age < 18:\n",
    "    print(\"Reşit değilsiniz :(\")\n",
    "else:\n",
    "    print(\"\\nReşitsiniz :)\")"
   ]
  },
  {
   "cell_type": "code",
   "execution_count": 65,
   "id": "1afd5781-f6e0-45b0-9334-9227865312ef",
   "metadata": {},
   "outputs": [
    {
     "name": "stdin",
     "output_type": "stream",
     "text": [
      "Lütfen yaşınızı giriniz!: -5\n"
     ]
    },
    {
     "name": "stdout",
     "output_type": "stream",
     "text": [
      "\n",
      "Lütfen yaşınızı doğru giriniz!\n"
     ]
    }
   ],
   "source": [
    "age = input(\"Lütfen yaşınızı giriniz!:\")\n",
    "age = int(age)\n",
    "\n",
    "if age < 0: # POZİTİF SAYI GEREKLİLİĞİ KOYDUM.\n",
    "    print(\"\\nLütfen yaşınızı doğru giriniz!\")\n",
    "elif age < 18:\n",
    "    print(\"Reşit değilsiniz :(\")\n",
    "else:\n",
    "    print(\"\\nReşitsiniz :)\")"
   ]
  },
  {
   "cell_type": "code",
   "execution_count": 67,
   "id": "312d2614-5d36-4f0f-a58d-60f20cc0b0e9",
   "metadata": {},
   "outputs": [
    {
     "name": "stdin",
     "output_type": "stream",
     "text": [
      "Lütfen süper kahramanınızı giriniz!: Thanos\n"
     ]
    },
    {
     "name": "stdout",
     "output_type": "stream",
     "text": [
      ":(\n"
     ]
    }
   ],
   "source": [
    "super_hero = input(\"Lütfen süper kahramanınızı giriniz!:\")\n",
    "\n",
    "mySuperHeroList = ['Spiderman', 'Blackwidow','Ironman','Thor']\n",
    "\n",
    "if super_hero in mySuperHeroList:\n",
    "    print(\":)\")\n",
    "else:\n",
    "    print(\":(\")"
   ]
  },
  {
   "cell_type": "code",
   "execution_count": 71,
   "id": "81286cf4-51cb-4870-a858-8cadaeca4a18",
   "metadata": {},
   "outputs": [
    {
     "name": "stdin",
     "output_type": "stream",
     "text": [
      "Lütfen süper kahramanınızı giriniz!: Thor\n"
     ]
    },
    {
     "name": "stdout",
     "output_type": "stream",
     "text": [
      ":)\n"
     ]
    }
   ],
   "source": [
    "super_hero = input(\"Lütfen süper kahramanınızı giriniz!:\")\n",
    "\n",
    "mySuperHeroList = ['Spiderman', 'Blackwidow','Ironman','Thor']\n",
    "\n",
    "if super_hero in mySuperHeroList:\n",
    "    print(\":)\")\n",
    "else:\n",
    "    print(\":(\")"
   ]
  },
  {
   "cell_type": "code",
   "execution_count": null,
   "id": "0f755fdf-b07b-41f7-b892-0bcbd9e72918",
   "metadata": {},
   "outputs": [],
   "source": []
  }
 ],
 "metadata": {
  "kernelspec": {
   "display_name": "Python 3 (ipykernel)",
   "language": "python",
   "name": "python3"
  },
  "language_info": {
   "codemirror_mode": {
    "name": "ipython",
    "version": 3
   },
   "file_extension": ".py",
   "mimetype": "text/x-python",
   "name": "python",
   "nbconvert_exporter": "python",
   "pygments_lexer": "ipython3",
   "version": "3.12.4"
  }
 },
 "nbformat": 4,
 "nbformat_minor": 5
}
