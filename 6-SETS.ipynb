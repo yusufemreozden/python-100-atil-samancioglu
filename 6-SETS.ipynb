{
 "cells": [
  {
   "cell_type": "code",
   "execution_count": 1,
   "id": "a267adb9-98e6-41a4-8587-25fdb28a6c27",
   "metadata": {},
   "outputs": [],
   "source": [
    "# unique elements, unordered"
   ]
  },
  {
   "cell_type": "code",
   "execution_count": 7,
   "id": "dfd2eb6c-19b8-404d-918e-8ede2dcd82f1",
   "metadata": {},
   "outputs": [],
   "source": [
    "myList = [10,20,30,40,10,20,30,40]"
   ]
  },
  {
   "cell_type": "code",
   "execution_count": 11,
   "id": "4db0e0cf-99f1-4b3d-a95e-62388429887b",
   "metadata": {},
   "outputs": [
    {
     "data": {
      "text/plain": [
       "8"
      ]
     },
     "execution_count": 11,
     "metadata": {},
     "output_type": "execute_result"
    }
   ],
   "source": [
    "len(myList) # listeler aynı elemanları defalarca sayabiliyor. önemli olan indeks sayısı"
   ]
  },
  {
   "cell_type": "code",
   "execution_count": 19,
   "id": "a1b40ad1-b44d-420b-8112-41e48abd30f6",
   "metadata": {},
   "outputs": [],
   "source": [
    "mySet = set(myList)"
   ]
  },
  {
   "cell_type": "code",
   "execution_count": 21,
   "id": "00a99377-5062-46ad-859f-c8e9755ea66c",
   "metadata": {},
   "outputs": [
    {
     "data": {
      "text/plain": [
       "{10, 20, 30, 40}"
      ]
     },
     "execution_count": 21,
     "metadata": {},
     "output_type": "execute_result"
    }
   ],
   "source": [
    "mySet"
   ]
  },
  {
   "cell_type": "code",
   "execution_count": 27,
   "id": "57ff1529-1a8e-4901-a94e-deb0c1a48e0f",
   "metadata": {},
   "outputs": [],
   "source": [
    "mySet2 = {10,20,30,40,10,20,30,40} # yine süslü parantez ama sözlüklerdeki gibi anahtar-değer eşleşmesi yok"
   ]
  },
  {
   "cell_type": "code",
   "execution_count": 29,
   "id": "f816f636-7318-4f03-a5b3-3a7f97dc9c67",
   "metadata": {},
   "outputs": [
    {
     "data": {
      "text/plain": [
       "{10, 20, 30, 40}"
      ]
     },
     "execution_count": 29,
     "metadata": {},
     "output_type": "execute_result"
    }
   ],
   "source": [
    "mySet2"
   ]
  },
  {
   "cell_type": "code",
   "execution_count": 31,
   "id": "f54c64d6-3959-49db-abc7-317cb8e17472",
   "metadata": {},
   "outputs": [
    {
     "data": {
      "text/plain": [
       "4"
      ]
     },
     "execution_count": 31,
     "metadata": {},
     "output_type": "execute_result"
    }
   ],
   "source": [
    "len(mySet2)"
   ]
  },
  {
   "cell_type": "code",
   "execution_count": 33,
   "id": "043b5483-b691-47f1-a31f-fe37c92575e7",
   "metadata": {},
   "outputs": [],
   "source": [
    "mySet.add(50) # 50 başarıyla eklenecektir. çünkü eşsiz"
   ]
  },
  {
   "cell_type": "code",
   "execution_count": 35,
   "id": "1bebcc9b-f109-4270-9d13-6fb2d48818d0",
   "metadata": {},
   "outputs": [
    {
     "data": {
      "text/plain": [
       "{10, 20, 30, 40, 50}"
      ]
     },
     "execution_count": 35,
     "metadata": {},
     "output_type": "execute_result"
    }
   ],
   "source": [
    "mySet"
   ]
  },
  {
   "cell_type": "code",
   "execution_count": 41,
   "id": "6436bbfd-a8ed-45ba-a87c-35008d1b4b54",
   "metadata": {},
   "outputs": [],
   "source": [
    "mySet.add(10) # zaten içerisinde var."
   ]
  },
  {
   "cell_type": "code",
   "execution_count": 43,
   "id": "683e0b65-0955-452e-b773-3b11ba94cc57",
   "metadata": {},
   "outputs": [
    {
     "data": {
      "text/plain": [
       "{10, 20, 30, 40, 50}"
      ]
     },
     "execution_count": 43,
     "metadata": {},
     "output_type": "execute_result"
    }
   ],
   "source": [
    "mySet"
   ]
  },
  {
   "cell_type": "code",
   "execution_count": 45,
   "id": "ef87bce7-165f-4160-a48b-40ca92139634",
   "metadata": {},
   "outputs": [],
   "source": [
    "mySet3 = {40,50,60,70,80}"
   ]
  },
  {
   "cell_type": "code",
   "execution_count": 47,
   "id": "63b5d37b-f90d-4836-bbb2-61d71aefd0ca",
   "metadata": {},
   "outputs": [
    {
     "data": {
      "text/plain": [
       "{10, 20, 30, 40, 50, 60, 70, 80}"
      ]
     },
     "execution_count": 47,
     "metadata": {},
     "output_type": "execute_result"
    }
   ],
   "source": [
    "mySet.union(mySet3)"
   ]
  },
  {
   "cell_type": "code",
   "execution_count": 51,
   "id": "c6b290a8-dc87-42b7-8c06-eceae0c0c4a5",
   "metadata": {},
   "outputs": [
    {
     "data": {
      "text/plain": [
       "{40, 50}"
      ]
     },
     "execution_count": 51,
     "metadata": {},
     "output_type": "execute_result"
    }
   ],
   "source": [
    "mySet.intersection(mySet3)"
   ]
  },
  {
   "cell_type": "code",
   "execution_count": 53,
   "id": "b27424a9-c4cd-4c97-bb0a-8736708c3371",
   "metadata": {},
   "outputs": [],
   "source": [
    "countryList = [\"tr\",\"fr\",\"tr\",\"nl\",\"de\",\"de\",\"fr\",\"tr\",\"tr\"] # diyelim ki bugün satışını yaptığımız mallar bu ülkelere satıldı."
   ]
  },
  {
   "cell_type": "code",
   "execution_count": 55,
   "id": "ded21ae4-beb8-4ef2-91ba-5e0b14eea8e0",
   "metadata": {},
   "outputs": [
    {
     "data": {
      "text/plain": [
       "9"
      ]
     },
     "execution_count": 55,
     "metadata": {},
     "output_type": "execute_result"
    }
   ],
   "source": [
    "# bugün toplam kaç satış yaptım?:\n",
    "\n",
    "len(countryList)"
   ]
  },
  {
   "cell_type": "code",
   "execution_count": 59,
   "id": "5f2446e4-812d-48f8-af5c-70f4b0307dc7",
   "metadata": {},
   "outputs": [
    {
     "data": {
      "text/plain": [
       "4"
      ]
     },
     "execution_count": 59,
     "metadata": {},
     "output_type": "execute_result"
    }
   ],
   "source": [
    "# bugün kaç farklı ülkeye satış yaptım?:\n",
    "\n",
    "set(countryList)\n",
    "\n",
    "len(set(countryList))"
   ]
  },
  {
   "cell_type": "code",
   "execution_count": 63,
   "id": "fb344088-18a5-406e-b404-64367bc553b3",
   "metadata": {},
   "outputs": [],
   "source": [
    "emptyList = []"
   ]
  },
  {
   "cell_type": "code",
   "execution_count": 65,
   "id": "6a459302-959c-4aa1-84ee-c2337fb1c45d",
   "metadata": {},
   "outputs": [],
   "source": [
    "emptyList.append(10)\n",
    "emptyList.append(20)\n",
    "emptyList.append(\"otuz\")\n",
    "emptyList.append(40)\n",
    "emptyList.append('50')"
   ]
  },
  {
   "cell_type": "code",
   "execution_count": 67,
   "id": "0164312d-661a-42f5-b0d0-ea1bef95a75b",
   "metadata": {},
   "outputs": [
    {
     "data": {
      "text/plain": [
       "[10, 20, 'otuz', 40, '50']"
      ]
     },
     "execution_count": 67,
     "metadata": {},
     "output_type": "execute_result"
    }
   ],
   "source": [
    "emptyList"
   ]
  },
  {
   "cell_type": "code",
   "execution_count": 69,
   "id": "72940736-b0ae-41f4-a9b3-97adc8c5d83b",
   "metadata": {},
   "outputs": [],
   "source": [
    "# PEKİ BU BOŞ LİSTE OLUŞTURMA MANTIĞINA GÖRE BOŞ SET NASIL OLUŞTURULACAK? "
   ]
  },
  {
   "cell_type": "code",
   "execution_count": 71,
   "id": "7af484d4-104e-45da-a149-e753ac331528",
   "metadata": {},
   "outputs": [],
   "source": [
    "# DİYELİM Kİ \"set = {}\" İLE OLUŞTURDUK. BU OLUŞAN BOŞ BİR SET YAPISI MI BOŞ BİR SÖZLÜK YAPISI MI?"
   ]
  },
  {
   "cell_type": "code",
   "execution_count": 73,
   "id": "9a8f0fa3-df4b-4fca-9918-d95389a7adc3",
   "metadata": {},
   "outputs": [],
   "source": [
    "emptySth = {}"
   ]
  },
  {
   "cell_type": "code",
   "execution_count": 75,
   "id": "940f6a58-b75e-400e-a214-3feb08b58ac7",
   "metadata": {},
   "outputs": [
    {
     "data": {
      "text/plain": [
       "dict"
      ]
     },
     "execution_count": 75,
     "metadata": {},
     "output_type": "execute_result"
    }
   ],
   "source": [
    "type(emptySth)"
   ]
  },
  {
   "cell_type": "code",
   "execution_count": 77,
   "id": "5ebbe56d-5145-41b5-90a8-c14293e4c18b",
   "metadata": {},
   "outputs": [],
   "source": [
    "# OLUŞAN BOŞ YAPI BİR SÖZLÜK ÇIKTI."
   ]
  },
  {
   "cell_type": "code",
   "execution_count": 79,
   "id": "aeba2f2c-083d-4161-9e0d-2edc69fa736e",
   "metadata": {},
   "outputs": [],
   "source": [
    "# BEN BOŞ SET OLUŞTURMAK İSTİYORSAM NE YAPMALIYIM?"
   ]
  },
  {
   "cell_type": "code",
   "execution_count": 89,
   "id": "36ae5b1b-beb0-41d5-9ae6-615749b8bb62",
   "metadata": {},
   "outputs": [
    {
     "data": {
      "text/plain": [
       "dict"
      ]
     },
     "execution_count": 89,
     "metadata": {},
     "output_type": "execute_result"
    }
   ],
   "source": [
    "set(emptySth) # böyle bir dönüşüm işe yarar mı?\n",
    "\n",
    "type(emptySth)"
   ]
  },
  {
   "cell_type": "code",
   "execution_count": 91,
   "id": "2df443fb-9619-4884-ab79-26edd87edbc1",
   "metadata": {},
   "outputs": [],
   "source": [
    "# YARAMADI."
   ]
  },
  {
   "cell_type": "code",
   "execution_count": 95,
   "id": "ab762998-760f-4d2d-8e4f-20ba7598e993",
   "metadata": {},
   "outputs": [],
   "source": [
    "emptySth = set() # bu işe yarar mı?"
   ]
  },
  {
   "cell_type": "code",
   "execution_count": 97,
   "id": "b48f2463-9e37-47a7-a6b3-11ec903720b5",
   "metadata": {},
   "outputs": [
    {
     "data": {
      "text/plain": [
       "set"
      ]
     },
     "execution_count": 97,
     "metadata": {},
     "output_type": "execute_result"
    }
   ],
   "source": [
    "type(emptySth)"
   ]
  },
  {
   "cell_type": "code",
   "execution_count": 99,
   "id": "fe650ebf-438d-45b5-ab6d-b3c88a9ffb0d",
   "metadata": {},
   "outputs": [],
   "source": [
    "# YARADI."
   ]
  },
  {
   "cell_type": "code",
   "execution_count": 101,
   "id": "9ce61ed3-f788-4b7f-9761-b8c827920848",
   "metadata": {},
   "outputs": [
    {
     "data": {
      "text/plain": [
       "0"
      ]
     },
     "execution_count": 101,
     "metadata": {},
     "output_type": "execute_result"
    }
   ],
   "source": [
    "len(emptySth)"
   ]
  },
  {
   "cell_type": "code",
   "execution_count": 107,
   "id": "0e54ea40-0934-42cf-8fbb-e459b432532c",
   "metadata": {},
   "outputs": [],
   "source": [
    "emptySth.add(\"10\")\n",
    "emptySth.add(\"10\") # bilerek iki adet 10 yazıldı\n",
    "\n",
    "emptySth.add(\"20\")\n",
    "\n",
    "emptySth.add(\"30\")"
   ]
  },
  {
   "cell_type": "code",
   "execution_count": 109,
   "id": "b67526ca-742a-4cb0-bb3f-ed9a8ab9face",
   "metadata": {},
   "outputs": [
    {
     "data": {
      "text/plain": [
       "{'10', '20', '30'}"
      ]
     },
     "execution_count": 109,
     "metadata": {},
     "output_type": "execute_result"
    }
   ],
   "source": [
    "emptySth"
   ]
  },
  {
   "cell_type": "code",
   "execution_count": 113,
   "id": "7cb6a25e-0248-44d7-a7ef-d0d2531e2e96",
   "metadata": {},
   "outputs": [],
   "source": [
    "emptyList = list() # bu yazım ile de boş yapılar oluşturabiliriz."
   ]
  },
  {
   "cell_type": "code",
   "execution_count": 115,
   "id": "ae14312e-9252-40ad-a719-1fa32aa74523",
   "metadata": {},
   "outputs": [],
   "source": [
    "emptyDict = dict()"
   ]
  },
  {
   "cell_type": "code",
   "execution_count": 117,
   "id": "b399e514-4377-49a4-8b0f-d789dc6bfebf",
   "metadata": {},
   "outputs": [],
   "source": [
    "# İKİ ADET BOŞ YAPI OLUŞTURDUK."
   ]
  },
  {
   "cell_type": "code",
   "execution_count": 119,
   "id": "5905db33-9278-4801-aba8-7acb332d0d1b",
   "metadata": {},
   "outputs": [
    {
     "data": {
      "text/plain": [
       "{}"
      ]
     },
     "execution_count": 119,
     "metadata": {},
     "output_type": "execute_result"
    }
   ],
   "source": [
    "emptyDict"
   ]
  },
  {
   "cell_type": "code",
   "execution_count": 121,
   "id": "cd282fbb-eb9a-45a9-84dd-bbd617bd0768",
   "metadata": {},
   "outputs": [],
   "source": [
    "emptyDict[\"k\"] = \"v1\""
   ]
  },
  {
   "cell_type": "code",
   "execution_count": 123,
   "id": "52e36fec-564b-489a-a09a-e671f01dc812",
   "metadata": {},
   "outputs": [
    {
     "data": {
      "text/plain": [
       "{'k': 'v1'}"
      ]
     },
     "execution_count": 123,
     "metadata": {},
     "output_type": "execute_result"
    }
   ],
   "source": [
    "emptyDict"
   ]
  },
  {
   "cell_type": "code",
   "execution_count": 125,
   "id": "b5923c24-218f-482c-8bef-aeccf6c6950c",
   "metadata": {},
   "outputs": [],
   "source": [
    "emptyList.append(\"kayseri\")\n",
    "emptyList.append(\"samsun\")\n",
    "emptyList.append(\"istanbul\")"
   ]
  },
  {
   "cell_type": "code",
   "execution_count": 127,
   "id": "30aec46d-877f-47be-9d86-f9ae0f871aef",
   "metadata": {},
   "outputs": [
    {
     "data": {
      "text/plain": [
       "['kayseri', 'samsun', 'istanbul']"
      ]
     },
     "execution_count": 127,
     "metadata": {},
     "output_type": "execute_result"
    }
   ],
   "source": [
    "emptyList"
   ]
  },
  {
   "cell_type": "code",
   "execution_count": null,
   "id": "c04a32ec-a79a-40bc-8e36-3ac66c8534a4",
   "metadata": {},
   "outputs": [],
   "source": []
  }
 ],
 "metadata": {
  "kernelspec": {
   "display_name": "Python 3 (ipykernel)",
   "language": "python",
   "name": "python3"
  },
  "language_info": {
   "codemirror_mode": {
    "name": "ipython",
    "version": 3
   },
   "file_extension": ".py",
   "mimetype": "text/x-python",
   "name": "python",
   "nbconvert_exporter": "python",
   "pygments_lexer": "ipython3",
   "version": "3.12.4"
  }
 },
 "nbformat": 4,
 "nbformat_minor": 5
}
