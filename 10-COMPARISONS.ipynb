{
 "cells": [
  {
   "cell_type": "code",
   "execution_count": 3,
   "id": "25a8428f-b01b-44bc-92f1-a80045f6eade",
   "metadata": {},
   "outputs": [
    {
     "data": {
      "text/plain": [
       "False"
      ]
     },
     "execution_count": 3,
     "metadata": {},
     "output_type": "execute_result"
    }
   ],
   "source": [
    "x = 5\n",
    "y = 2\n",
    "\n",
    "x < y"
   ]
  },
  {
   "cell_type": "code",
   "execution_count": 5,
   "id": "8a7b99a2-1c31-4778-95a5-2e7d648054ce",
   "metadata": {},
   "outputs": [
    {
     "data": {
      "text/plain": [
       "True"
      ]
     },
     "execution_count": 5,
     "metadata": {},
     "output_type": "execute_result"
    }
   ],
   "source": [
    "y <= x"
   ]
  },
  {
   "cell_type": "code",
   "execution_count": 7,
   "id": "9c74bcf4-9cea-4eaa-ac25-1616d82f3ac2",
   "metadata": {},
   "outputs": [
    {
     "data": {
      "text/plain": [
       "True"
      ]
     },
     "execution_count": 7,
     "metadata": {},
     "output_type": "execute_result"
    }
   ],
   "source": [
    "x <= 5"
   ]
  },
  {
   "cell_type": "code",
   "execution_count": 9,
   "id": "5e3ceb1f-ee70-4f5a-8035-dd3210cae5fe",
   "metadata": {},
   "outputs": [
    {
     "data": {
      "text/plain": [
       "True"
      ]
     },
     "execution_count": 9,
     "metadata": {},
     "output_type": "execute_result"
    }
   ],
   "source": [
    "y == 2"
   ]
  },
  {
   "cell_type": "code",
   "execution_count": 11,
   "id": "04217ad3-890f-48b6-bbd2-669c646c9a66",
   "metadata": {},
   "outputs": [],
   "source": [
    "x = y"
   ]
  },
  {
   "cell_type": "code",
   "execution_count": 13,
   "id": "9a775bcc-4416-4f9b-852e-c6eb1623e2bb",
   "metadata": {},
   "outputs": [
    {
     "data": {
      "text/plain": [
       "2"
      ]
     },
     "execution_count": 13,
     "metadata": {},
     "output_type": "execute_result"
    }
   ],
   "source": [
    "x"
   ]
  },
  {
   "cell_type": "code",
   "execution_count": 15,
   "id": "34292dff-24f0-4850-b789-cbd1716ac7dc",
   "metadata": {},
   "outputs": [
    {
     "data": {
      "text/plain": [
       "2"
      ]
     },
     "execution_count": 15,
     "metadata": {},
     "output_type": "execute_result"
    }
   ],
   "source": [
    "y"
   ]
  },
  {
   "cell_type": "code",
   "execution_count": 17,
   "id": "7f493141-fb6e-4afb-9bac-ee19f4c3b405",
   "metadata": {},
   "outputs": [],
   "source": [
    "x = 23\n",
    "y = 56"
   ]
  },
  {
   "cell_type": "code",
   "execution_count": 19,
   "id": "129ec7a0-e2d9-4a9c-b725-a424b84e4c42",
   "metadata": {},
   "outputs": [
    {
     "data": {
      "text/plain": [
       "False"
      ]
     },
     "execution_count": 19,
     "metadata": {},
     "output_type": "execute_result"
    }
   ],
   "source": [
    "x != 23"
   ]
  },
  {
   "cell_type": "code",
   "execution_count": 25,
   "id": "ce95bedb-c73a-455b-8aac-230621f75d58",
   "metadata": {},
   "outputs": [
    {
     "data": {
      "text/plain": [
       "True"
      ]
     },
     "execution_count": 25,
     "metadata": {},
     "output_type": "execute_result"
    }
   ],
   "source": [
    "2 < 5 and 5 <= 5"
   ]
  },
  {
   "cell_type": "code",
   "execution_count": 27,
   "id": "8973106e-e873-4a57-bf90-ddd3f86f789e",
   "metadata": {},
   "outputs": [
    {
     "data": {
      "text/plain": [
       "True"
      ]
     },
     "execution_count": 27,
     "metadata": {},
     "output_type": "execute_result"
    }
   ],
   "source": [
    "1 == 1"
   ]
  },
  {
   "cell_type": "code",
   "execution_count": 31,
   "id": "3a429cef-056f-4fe1-8d2e-d548a9dcd5e0",
   "metadata": {},
   "outputs": [
    {
     "data": {
      "text/plain": [
       "False"
      ]
     },
     "execution_count": 31,
     "metadata": {},
     "output_type": "execute_result"
    }
   ],
   "source": [
    "not 1 == 1 # bool değerini tersine çevirir"
   ]
  },
  {
   "cell_type": "code",
   "execution_count": 33,
   "id": "c4afb73c-6233-4e58-b18e-d6c05f87fa77",
   "metadata": {},
   "outputs": [
    {
     "data": {
      "text/plain": [
       "False"
      ]
     },
     "execution_count": 33,
     "metadata": {},
     "output_type": "execute_result"
    }
   ],
   "source": [
    "5 in [10,20,30,40]"
   ]
  },
  {
   "cell_type": "code",
   "execution_count": 37,
   "id": "cda65122-f606-4810-b751-6e294b1aeb50",
   "metadata": {},
   "outputs": [
    {
     "data": {
      "text/plain": [
       "True"
      ]
     },
     "execution_count": 37,
     "metadata": {},
     "output_type": "execute_result"
    }
   ],
   "source": [
    "5 not in [10,20,30,40]"
   ]
  },
  {
   "cell_type": "code",
   "execution_count": 39,
   "id": "2f0e26ce-a92f-452c-8af9-eed193156144",
   "metadata": {},
   "outputs": [
    {
     "data": {
      "text/plain": [
       "True"
      ]
     },
     "execution_count": 39,
     "metadata": {},
     "output_type": "execute_result"
    }
   ],
   "source": [
    "10 in [10,20,30,40]"
   ]
  },
  {
   "cell_type": "code",
   "execution_count": 41,
   "id": "96307a00-4ee6-4aa7-8754-bb5debe3fb6f",
   "metadata": {},
   "outputs": [
    {
     "data": {
      "text/plain": [
       "False"
      ]
     },
     "execution_count": 41,
     "metadata": {},
     "output_type": "execute_result"
    }
   ],
   "source": [
    "10 not in [10,20,30,40]"
   ]
  },
  {
   "cell_type": "code",
   "execution_count": 43,
   "id": "664f6d5c-9a3c-4e49-b402-b567f100864d",
   "metadata": {},
   "outputs": [],
   "source": [
    "myDictionary =  {\"k1\":\"v1\",\"k2\":\"v2\"}"
   ]
  },
  {
   "cell_type": "code",
   "execution_count": 49,
   "id": "63bbfb2b-2106-43e3-a5ad-c9607e1943fb",
   "metadata": {},
   "outputs": [
    {
     "data": {
      "text/plain": [
       "True"
      ]
     },
     "execution_count": 49,
     "metadata": {},
     "output_type": "execute_result"
    }
   ],
   "source": [
    "\"k1\" in myDictionary.keys()"
   ]
  },
  {
   "cell_type": "code",
   "execution_count": 53,
   "id": "c9886bb2-0f46-45b6-95e8-0ad312c723c4",
   "metadata": {},
   "outputs": [
    {
     "data": {
      "text/plain": [
       "False"
      ]
     },
     "execution_count": 53,
     "metadata": {},
     "output_type": "execute_result"
    }
   ],
   "source": [
    "\"k1\" in myDictionary.values()"
   ]
  },
  {
   "cell_type": "code",
   "execution_count": 55,
   "id": "dfcf576a-15d0-45b2-979b-261861019882",
   "metadata": {},
   "outputs": [
    {
     "data": {
      "text/plain": [
       "False"
      ]
     },
     "execution_count": 55,
     "metadata": {},
     "output_type": "execute_result"
    }
   ],
   "source": [
    "\"v1\" in myDictionary.keys()"
   ]
  },
  {
   "cell_type": "code",
   "execution_count": 57,
   "id": "a899ac65-1bb6-4fc0-9d57-972d898dc898",
   "metadata": {},
   "outputs": [
    {
     "data": {
      "text/plain": [
       "True"
      ]
     },
     "execution_count": 57,
     "metadata": {},
     "output_type": "execute_result"
    }
   ],
   "source": [
    "\"v1\" in myDictionary.values()"
   ]
  },
  {
   "cell_type": "code",
   "execution_count": 59,
   "id": "53845fa9-791a-456c-ae05-b7cb9586bf97",
   "metadata": {},
   "outputs": [
    {
     "data": {
      "text/plain": [
       "False"
      ]
     },
     "execution_count": 59,
     "metadata": {},
     "output_type": "execute_result"
    }
   ],
   "source": [
    "\"v1\" not in myDictionary.values()"
   ]
  }
 ],
 "metadata": {
  "kernelspec": {
   "display_name": "Python 3 (ipykernel)",
   "language": "python",
   "name": "python3"
  },
  "language_info": {
   "codemirror_mode": {
    "name": "ipython",
    "version": 3
   },
   "file_extension": ".py",
   "mimetype": "text/x-python",
   "name": "python",
   "nbconvert_exporter": "python",
   "pygments_lexer": "ipython3",
   "version": "3.12.4"
  }
 },
 "nbformat": 4,
 "nbformat_minor": 5
}
