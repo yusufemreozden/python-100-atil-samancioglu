{
 "cells": [
  {
   "cell_type": "code",
   "execution_count": 22,
   "id": "6287f7a4-c2dc-4a60-9634-eaac3107aa30",
   "metadata": {},
   "outputs": [],
   "source": [
    "class Fruit():\n",
    "\n",
    "    def __init__(self,name,calories):\n",
    "        self.name = name\n",
    "        self.calories = calories\n",
    "\n",
    "    def __str__(self):\n",
    "        return(f\"{self.name} is {self.calories} calories.\")"
   ]
  },
  {
   "cell_type": "code",
   "execution_count": 24,
   "id": "10fa2a2e-683b-43b5-a496-5020ac0281b0",
   "metadata": {},
   "outputs": [],
   "source": [
    "myFruit = Fruit(\"banana\",250)"
   ]
  },
  {
   "cell_type": "code",
   "execution_count": 26,
   "id": "763f7d75-ab65-4502-9354-b5a4ecd4e085",
   "metadata": {},
   "outputs": [
    {
     "name": "stdout",
     "output_type": "stream",
     "text": [
      "banana is 250 calories.\n"
     ]
    }
   ],
   "source": [
    "print(myFruit)"
   ]
  },
  {
   "cell_type": "raw",
   "id": "0d8a2e51-d6e6-4b23-ba09-6d20f20ffbfe",
   "metadata": {},
   "source": [
    "GOOGLE --> \"PYTHON SPECIAL METHODS LIST\""
   ]
  },
  {
   "cell_type": "code",
   "execution_count": null,
   "id": "2efcc5a8-73d4-48b5-b556-66648c4bcbc6",
   "metadata": {},
   "outputs": [],
   "source": []
  }
 ],
 "metadata": {
  "kernelspec": {
   "display_name": "Python 3 (ipykernel)",
   "language": "python",
   "name": "python3"
  },
  "language_info": {
   "codemirror_mode": {
    "name": "ipython",
    "version": 3
   },
   "file_extension": ".py",
   "mimetype": "text/x-python",
   "name": "python",
   "nbconvert_exporter": "python",
   "pygments_lexer": "ipython3",
   "version": "3.12.4"
  }
 },
 "nbformat": 4,
 "nbformat_minor": 5
}
