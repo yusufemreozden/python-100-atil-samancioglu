{
 "cells": [
  {
   "cell_type": "code",
   "execution_count": 1,
   "id": "1b5dca91-57a4-47ba-a6cc-ad08ae968195",
   "metadata": {},
   "outputs": [],
   "source": [
    "person1Name = \"Emre\"\n",
    "person1Age = 23\n",
    "person1Gender = \"Male\"\n",
    "\n",
    "person2Name = \"Yusuf\"\n",
    "person2Age = 23\n",
    "person2Gender = \"Male\""
   ]
  },
  {
   "cell_type": "code",
   "execution_count": 59,
   "id": "46bf4fa2-8dbf-411e-833e-d4fabfe3c98d",
   "metadata": {},
   "outputs": [],
   "source": [
    "class Person():\n",
    "    name = str()\n",
    "    age = int()\n",
    "    gender = str()"
   ]
  },
  {
   "cell_type": "code",
   "execution_count": 61,
   "id": "76f53a99-8a4c-4bb3-a9a9-fe052611c72e",
   "metadata": {},
   "outputs": [],
   "source": [
    "emre = Person()"
   ]
  },
  {
   "cell_type": "code",
   "execution_count": 63,
   "id": "b3763021-29ef-4e45-a363-236453543dde",
   "metadata": {},
   "outputs": [
    {
     "data": {
      "text/plain": [
       "__main__.Person"
      ]
     },
     "execution_count": 63,
     "metadata": {},
     "output_type": "execute_result"
    }
   ],
   "source": [
    "type(emre)"
   ]
  },
  {
   "cell_type": "code",
   "execution_count": 65,
   "id": "88ed15b0-7c5d-428a-9900-e8ea489fd116",
   "metadata": {},
   "outputs": [],
   "source": [
    "emre.name = \"Emre\""
   ]
  },
  {
   "cell_type": "code",
   "execution_count": 67,
   "id": "2472bf9b-a5f7-4af8-b886-99366c9831e3",
   "metadata": {},
   "outputs": [
    {
     "data": {
      "text/plain": [
       "'Emre'"
      ]
     },
     "execution_count": 67,
     "metadata": {},
     "output_type": "execute_result"
    }
   ],
   "source": [
    "emre.name"
   ]
  },
  {
   "cell_type": "code",
   "execution_count": 69,
   "id": "a7e37120-3492-46c4-971b-76adfd5d1dd5",
   "metadata": {},
   "outputs": [],
   "source": [
    "emre.age = 23"
   ]
  },
  {
   "cell_type": "code",
   "execution_count": 71,
   "id": "8d48a510-c18d-4b5e-a5ea-6212034e27a7",
   "metadata": {},
   "outputs": [
    {
     "data": {
      "text/plain": [
       "23"
      ]
     },
     "execution_count": 71,
     "metadata": {},
     "output_type": "execute_result"
    }
   ],
   "source": [
    "emre.age"
   ]
  },
  {
   "cell_type": "code",
   "execution_count": 73,
   "id": "5cf6d7de-fcf7-4036-9976-57856b2aaa10",
   "metadata": {},
   "outputs": [],
   "source": [
    "class Person():\n",
    "    name = str()\n",
    "    age = int()\n",
    "    gender = str()\n",
    "\n",
    "    # BU BİR FONKSİYON DEĞİLL METHODDUR. INITIALIZER.\n",
    "    def __init__(self):\n",
    "        print(\"Executed!\")"
   ]
  },
  {
   "cell_type": "code",
   "execution_count": 75,
   "id": "cc8bc650-04ea-40ca-8965-41b01d4e92b0",
   "metadata": {},
   "outputs": [
    {
     "name": "stdout",
     "output_type": "stream",
     "text": [
      "Executed!\n"
     ]
    }
   ],
   "source": [
    "yusuf = Person()"
   ]
  },
  {
   "cell_type": "code",
   "execution_count": 77,
   "id": "3a8cb2c5-1d2f-465e-9d48-6f99a4a88a60",
   "metadata": {},
   "outputs": [
    {
     "data": {
      "text/plain": [
       "__main__.Person"
      ]
     },
     "execution_count": 77,
     "metadata": {},
     "output_type": "execute_result"
    }
   ],
   "source": [
    "type(yusuf)"
   ]
  },
  {
   "cell_type": "code",
   "execution_count": 79,
   "id": "cce980fd-e28a-4db2-94d0-410ae40884ab",
   "metadata": {},
   "outputs": [],
   "source": [
    "class Person():\n",
    "    name = str()\n",
    "    age = int()\n",
    "    gender = str()\n",
    "\n",
    "    # BU BİR FONKSİYON DEĞİLL METHODDUR. INITIALIZER.\n",
    "    def __init__(self,nameInput,ageInput,genderInput):\n",
    "        name = nameInput\n",
    "        age = ageInput\n",
    "        gender = genderInput"
   ]
  },
  {
   "cell_type": "code",
   "execution_count": 83,
   "id": "fb63ed3a-c531-4aed-ab5c-f38d21874971",
   "metadata": {},
   "outputs": [],
   "source": [
    "atil = Person(\"Atil\",35,\"Male\")"
   ]
  },
  {
   "cell_type": "code",
   "execution_count": 87,
   "id": "f9e5393e-2503-4f71-b3e6-4ce657ca893a",
   "metadata": {},
   "outputs": [
    {
     "data": {
      "text/plain": [
       "''"
      ]
     },
     "execution_count": 87,
     "metadata": {},
     "output_type": "execute_result"
    }
   ],
   "source": [
    "atil.name"
   ]
  },
  {
   "cell_type": "code",
   "execution_count": 89,
   "id": "46866d8b-82b6-400f-9ddb-69681c6f46ea",
   "metadata": {},
   "outputs": [
    {
     "data": {
      "text/plain": [
       "0"
      ]
     },
     "execution_count": 89,
     "metadata": {},
     "output_type": "execute_result"
    }
   ],
   "source": [
    "atil.age"
   ]
  },
  {
   "cell_type": "code",
   "execution_count": 91,
   "id": "6a21b403-7a14-4bdd-a942-cef624b48247",
   "metadata": {},
   "outputs": [
    {
     "data": {
      "text/plain": [
       "''"
      ]
     },
     "execution_count": 91,
     "metadata": {},
     "output_type": "execute_result"
    }
   ],
   "source": [
    "atil.gender"
   ]
  },
  {
   "cell_type": "code",
   "execution_count": 117,
   "id": "3a9e8d57-4776-479c-85d2-1134f63fa34c",
   "metadata": {},
   "outputs": [],
   "source": [
    "class Person():\n",
    "    #property\n",
    "    name = str()\n",
    "    age = int()\n",
    "    gender = str()\n",
    "\n",
    "    # BU BİR FONKSİYON DEĞİLL METHODDUR.\n",
    "    #initializer method\n",
    "    def __init__(self,name,age,gender):\n",
    "        self.name = name\n",
    "        self.age = age\n",
    "        self.gender = gender\n",
    "    \n",
    "    #method\n",
    "    def printName(self):\n",
    "        print(self.name)"
   ]
  },
  {
   "cell_type": "code",
   "execution_count": 119,
   "id": "ad60e0e6-0f13-4ea9-8dd6-3cc24039a83b",
   "metadata": {},
   "outputs": [],
   "source": [
    "atil = Person(\"Atil\",35,\"Male\")"
   ]
  },
  {
   "cell_type": "code",
   "execution_count": 121,
   "id": "5c9037eb-3e45-4ea7-8301-535c7c7ecf63",
   "metadata": {},
   "outputs": [
    {
     "data": {
      "text/plain": [
       "'Atil'"
      ]
     },
     "execution_count": 121,
     "metadata": {},
     "output_type": "execute_result"
    }
   ],
   "source": [
    "atil.name"
   ]
  },
  {
   "cell_type": "code",
   "execution_count": 123,
   "id": "0f71f41f-677b-4fd4-94e3-9a10f9d119e5",
   "metadata": {},
   "outputs": [
    {
     "data": {
      "text/plain": [
       "35"
      ]
     },
     "execution_count": 123,
     "metadata": {},
     "output_type": "execute_result"
    }
   ],
   "source": [
    "atil.age"
   ]
  },
  {
   "cell_type": "code",
   "execution_count": 125,
   "id": "9a81864f-643a-4c5d-b495-2386ddf97adf",
   "metadata": {},
   "outputs": [
    {
     "data": {
      "text/plain": [
       "'Male'"
      ]
     },
     "execution_count": 125,
     "metadata": {},
     "output_type": "execute_result"
    }
   ],
   "source": [
    "atil.gender"
   ]
  },
  {
   "cell_type": "code",
   "execution_count": 173,
   "id": "8e749ce5-fc1a-45c9-9e4a-059fc26b0cb2",
   "metadata": {},
   "outputs": [],
   "source": [
    "class Dog():\n",
    "    def __init__(self,age):\n",
    "        self.age = age\n",
    "    def humanAge(self):\n",
    "        return self.age * 7"
   ]
  },
  {
   "cell_type": "code",
   "execution_count": 175,
   "id": "c3525569-5f0e-4a1c-827d-6d7f8e89632c",
   "metadata": {},
   "outputs": [],
   "source": [
    "myDog = Dog(10)"
   ]
  },
  {
   "cell_type": "code",
   "execution_count": 177,
   "id": "58b458d4-028c-4e5d-8676-d324b57ed007",
   "metadata": {},
   "outputs": [
    {
     "data": {
      "text/plain": [
       "10"
      ]
     },
     "execution_count": 177,
     "metadata": {},
     "output_type": "execute_result"
    }
   ],
   "source": [
    "myDog.age"
   ]
  },
  {
   "cell_type": "code",
   "execution_count": 179,
   "id": "433a7ea5-86fd-4094-ba10-344687a78723",
   "metadata": {},
   "outputs": [
    {
     "data": {
      "text/plain": [
       "70"
      ]
     },
     "execution_count": 179,
     "metadata": {},
     "output_type": "execute_result"
    }
   ],
   "source": [
    "myDog.humanAge()"
   ]
  }
 ],
 "metadata": {
  "kernelspec": {
   "display_name": "Python 3 (ipykernel)",
   "language": "python",
   "name": "python3"
  },
  "language_info": {
   "codemirror_mode": {
    "name": "ipython",
    "version": 3
   },
   "file_extension": ".py",
   "mimetype": "text/x-python",
   "name": "python",
   "nbconvert_exporter": "python",
   "pygments_lexer": "ipython3",
   "version": "3.12.4"
  }
 },
 "nbformat": 4,
 "nbformat_minor": 5
}
