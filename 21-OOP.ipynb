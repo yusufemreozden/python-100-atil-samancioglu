{
 "cells": [
  {
   "cell_type": "markdown",
   "id": "710d1bf5-25e0-4ac0-8948-ba89f172ac3e",
   "metadata": {},
   "source": [
    "# INHERITANCE -- > KALITIM ALMAK"
   ]
  },
  {
   "cell_type": "raw",
   "id": "892b69a0-3d70-4787-93d0-b9eba806d03f",
   "metadata": {},
   "source": [
    "Bir sınıftan başka bir sınfın kalıtım alıp o sınıfın özelliklerini kullanabilmesi konseptidir."
   ]
  },
  {
   "cell_type": "code",
   "execution_count": 5,
   "id": "79807467-bab3-4412-9f47-dcafb5405d15",
   "metadata": {},
   "outputs": [],
   "source": [
    "class Musician():\n",
    "\n",
    "    def __init__(self,name):\n",
    "        self.name = name\n",
    "        print(\"Musicians classes.\")\n",
    "\n",
    "    def test1(self):\n",
    "        print(\"test1\")\n",
    "\n",
    "    def test2(self):\n",
    "        print(\"test2\")"
   ]
  },
  {
   "cell_type": "code",
   "execution_count": 9,
   "id": "982c2628-dbee-4326-96eb-306be90f7469",
   "metadata": {},
   "outputs": [
    {
     "name": "stdout",
     "output_type": "stream",
     "text": [
      "Musicians classes.\n"
     ]
    }
   ],
   "source": [
    "metallica =  Musician(\"Metallica\")"
   ]
  },
  {
   "cell_type": "code",
   "execution_count": 13,
   "id": "4d04ad81-c445-484e-8c47-aad6d7336434",
   "metadata": {},
   "outputs": [
    {
     "name": "stdout",
     "output_type": "stream",
     "text": [
      "test1\n"
     ]
    }
   ],
   "source": [
    "metallica.test1()"
   ]
  },
  {
   "cell_type": "code",
   "execution_count": 15,
   "id": "c5db35e4-3af2-4481-8eb3-4fec201ca532",
   "metadata": {},
   "outputs": [
    {
     "name": "stdout",
     "output_type": "stream",
     "text": [
      "test2\n"
     ]
    }
   ],
   "source": [
    "metallica.test2()"
   ]
  },
  {
   "cell_type": "code",
   "execution_count": 67,
   "id": "5fd84187-270d-4606-9aad-8518845092b5",
   "metadata": {},
   "outputs": [],
   "source": [
    "class MusicianPlus(Musician): # KALITIM ALMAK İSTEDİĞİMİZ SINIFIN ADINI PARANTEZ İÇİNE YAZARIZ.\n",
    "\n",
    "    def __init__(self,name):\n",
    "        Musician.__init__(self,name)\n",
    "        print(\"Musician Plus\")\n",
    "\n",
    "    def test3(self):\n",
    "        print(\"test3\")\n",
    "\n",
    "    # OVERRIDE\n",
    "    def test1(self):\n",
    "        print(\"test1 çıktısı Musician Plus için bu yazıdır! test1 test1 test1\")"
   ]
  },
  {
   "cell_type": "code",
   "execution_count": 69,
   "id": "cec71c8b-0975-4935-906b-972bc83d26d8",
   "metadata": {},
   "outputs": [
    {
     "name": "stdout",
     "output_type": "stream",
     "text": [
      "Musicians classes.\n",
      "Musician Plus\n"
     ]
    }
   ],
   "source": [
    "nirvana = MusicianPlus(\"Nirvana\")"
   ]
  },
  {
   "cell_type": "code",
   "execution_count": 71,
   "id": "c1bad5ed-e87f-4250-a47f-41aed46f8771",
   "metadata": {},
   "outputs": [
    {
     "name": "stdout",
     "output_type": "stream",
     "text": [
      "test1 çıktısı Musician Plus için bu yazıdır! test1 test1 test1\n"
     ]
    }
   ],
   "source": [
    "nirvana.test1()"
   ]
  },
  {
   "cell_type": "code",
   "execution_count": 73,
   "id": "a82629e1-e715-4760-ad64-6d594f67e460",
   "metadata": {},
   "outputs": [
    {
     "name": "stdout",
     "output_type": "stream",
     "text": [
      "test2\n"
     ]
    }
   ],
   "source": [
    "nirvana.test2()"
   ]
  },
  {
   "cell_type": "code",
   "execution_count": 75,
   "id": "59318f4d-78d8-470c-9922-d93d901dec76",
   "metadata": {},
   "outputs": [
    {
     "name": "stdout",
     "output_type": "stream",
     "text": [
      "test3\n"
     ]
    }
   ],
   "source": [
    "nirvana.test3()"
   ]
  },
  {
   "cell_type": "code",
   "execution_count": 77,
   "id": "aeb79d10-1a73-4f17-93bb-5dd41de0a751",
   "metadata": {},
   "outputs": [
    {
     "data": {
      "text/plain": [
       "__main__.MusicianPlus"
      ]
     },
     "execution_count": 77,
     "metadata": {},
     "output_type": "execute_result"
    }
   ],
   "source": [
    "type(nirvana)"
   ]
  },
  {
   "cell_type": "code",
   "execution_count": 79,
   "id": "757a081f-6b55-4c60-9b5e-a14b8b5672da",
   "metadata": {},
   "outputs": [
    {
     "data": {
      "text/plain": [
       "__main__.Musician"
      ]
     },
     "execution_count": 79,
     "metadata": {},
     "output_type": "execute_result"
    }
   ],
   "source": [
    "type(metallica)"
   ]
  },
  {
   "cell_type": "code",
   "execution_count": 81,
   "id": "fe8af724-1b3a-4464-bd5c-2c3b1529667d",
   "metadata": {},
   "outputs": [
    {
     "name": "stdout",
     "output_type": "stream",
     "text": [
      "test1 çıktısı Musician Plus için bu yazıdır! test1 test1 test1\n"
     ]
    }
   ],
   "source": [
    "nirvana.test1()"
   ]
  },
  {
   "cell_type": "code",
   "execution_count": 83,
   "id": "ad853374-8f41-44b3-b52b-57345b4213de",
   "metadata": {},
   "outputs": [
    {
     "name": "stdout",
     "output_type": "stream",
     "text": [
      "test1\n"
     ]
    }
   ],
   "source": [
    "metallica.test1()"
   ]
  },
  {
   "cell_type": "markdown",
   "id": "73d87e8a-c985-4ef9-82f1-b6ad3f7b64e5",
   "metadata": {},
   "source": [
    "# POLYMORPHISM --> AYNI İSİMLE FARKLI İŞLEVLERİ YAPMAK"
   ]
  },
  {
   "cell_type": "raw",
   "id": "50b02dbe-d2cf-48c9-8cc6-51750eebfbe0",
   "metadata": {},
   "source": [
    "Birbirinden farklı sınıflar içerisinde ortak adlı bir method ait olduğu sınıfta aynı anda çalışabilir."
   ]
  },
  {
   "cell_type": "code",
   "execution_count": 89,
   "id": "61f34bc2-7d7e-46f8-892e-0e0248ce5d6a",
   "metadata": {},
   "outputs": [],
   "source": [
    "class Banana():\n",
    "\n",
    "    def __init__(self,name):\n",
    "        self.name = name\n",
    "\n",
    "    def info(self):\n",
    "        return(f\"{self.name} is 100 calories.\")\n",
    "\n",
    "class Apple():\n",
    "\n",
    "    def __init__(self,name):\n",
    "        self.name = name\n",
    "\n",
    "    def info(self):\n",
    "        return(f\"{self.name} is 150 calories.\")"
   ]
  },
  {
   "cell_type": "code",
   "execution_count": 105,
   "id": "c17bce85-d58d-44bb-886a-05d7c6c21661",
   "metadata": {},
   "outputs": [],
   "source": [
    "banana = Banana(\"Banana\")\n",
    "\n",
    "apple = Apple(\"Apple\")"
   ]
  },
  {
   "cell_type": "code",
   "execution_count": 107,
   "id": "23f286f0-7dbd-47a5-9542-4c8cb2459ea5",
   "metadata": {},
   "outputs": [
    {
     "data": {
      "text/plain": [
       "'Banana is 100 calories.'"
      ]
     },
     "execution_count": 107,
     "metadata": {},
     "output_type": "execute_result"
    }
   ],
   "source": [
    "banana.info()"
   ]
  },
  {
   "cell_type": "code",
   "execution_count": 109,
   "id": "c1f5fc47-935b-4909-993e-2747808e679a",
   "metadata": {},
   "outputs": [
    {
     "data": {
      "text/plain": [
       "'Apple is 150 calories.'"
      ]
     },
     "execution_count": 109,
     "metadata": {},
     "output_type": "execute_result"
    }
   ],
   "source": [
    "apple.info()"
   ]
  },
  {
   "cell_type": "code",
   "execution_count": 111,
   "id": "8234898d-7a01-4c20-b3bd-dec04f95d7d0",
   "metadata": {},
   "outputs": [],
   "source": [
    "myFruitList = [banana,apple] # OBJELERİN DİREKT KENDİSİ EKLENDİ!"
   ]
  },
  {
   "cell_type": "code",
   "execution_count": 113,
   "id": "6a937c78-604a-4992-b28f-646a40095b4f",
   "metadata": {},
   "outputs": [
    {
     "name": "stdout",
     "output_type": "stream",
     "text": [
      "Banana is 100 calories.\n",
      "Apple is 150 calories.\n"
     ]
    }
   ],
   "source": [
    "for fruit in myFruitList:\n",
    "    print(fruit.info())"
   ]
  },
  {
   "cell_type": "code",
   "execution_count": 115,
   "id": "56fa69ae-0177-4bec-9028-8426192ab9a9",
   "metadata": {},
   "outputs": [],
   "source": [
    "# TAMAMEN FARKLI İŞLEVLERDE OLSALARDI BİLE YİNE ORTAK İSİMLE ÇALIŞIR FARKLI SONUÇLAR DÖNDÜREBİLİRLERDİ."
   ]
  },
  {
   "cell_type": "markdown",
   "id": "1814bc0a-a66e-4ecb-9ae5-8ec48e059d7c",
   "metadata": {},
   "source": [
    "# ENCAPSULATION --> HAPSETMEK"
   ]
  },
  {
   "cell_type": "raw",
   "id": "650c7df2-2d02-4565-8b20-a9528705f8fb",
   "metadata": {},
   "source": [
    "Oluşturulan değişkenlerin nereden ve nasıl erişildiği ve değiştirildiği konusuyla ilgili bir konsepttir."
   ]
  },
  {
   "cell_type": "code",
   "execution_count": 2,
   "id": "d5cd21f6-0917-4b3a-bd6b-5dd50bce7578",
   "metadata": {},
   "outputs": [],
   "source": [
    "class Phone():\n",
    "\n",
    "    def __init__(self,name,price):\n",
    "        self.name = name\n",
    "        self.price = price\n",
    "\n",
    "    def info(self):\n",
    "        return(f\"The price of {self.name} is {self.price}!\")"
   ]
  },
  {
   "cell_type": "code",
   "execution_count": 12,
   "id": "878e8f8d-2606-4c35-8faa-399bc86ab04e",
   "metadata": {},
   "outputs": [],
   "source": [
    "iphone = Phone(\"iPhone 14\",\"1.000$\")"
   ]
  },
  {
   "cell_type": "code",
   "execution_count": 14,
   "id": "5b51c184-c136-4d7e-a1a8-eb6a4bbe8b69",
   "metadata": {},
   "outputs": [
    {
     "data": {
      "text/plain": [
       "'The price of iPhone 14 is 1.000$!'"
      ]
     },
     "execution_count": 14,
     "metadata": {},
     "output_type": "execute_result"
    }
   ],
   "source": [
    "iphone.info()"
   ]
  },
  {
   "cell_type": "code",
   "execution_count": 16,
   "id": "8c3dab08-4075-4ae0-a0cd-dd43d270ca61",
   "metadata": {},
   "outputs": [],
   "source": [
    "iphone.price = \"1.500$\""
   ]
  },
  {
   "cell_type": "code",
   "execution_count": 18,
   "id": "3cfde19d-e881-46b5-82cc-d80c7af59a0a",
   "metadata": {},
   "outputs": [
    {
     "data": {
      "text/plain": [
       "'The price of iPhone 14 is 1.500$!'"
      ]
     },
     "execution_count": 18,
     "metadata": {},
     "output_type": "execute_result"
    }
   ],
   "source": [
    "iphone.info()"
   ]
  },
  {
   "cell_type": "code",
   "execution_count": 20,
   "id": "c470d660-1ba5-483e-9b71-c34559a87d62",
   "metadata": {},
   "outputs": [],
   "source": [
    "# FİYATIN TEK BİR KULLANICI TARAFINDAN DEĞİŞTİRİLEBİLMESİ GEREKİR."
   ]
  },
  {
   "cell_type": "code",
   "execution_count": 22,
   "id": "9799b2bd-401e-4bc7-924f-513d39481019",
   "metadata": {},
   "outputs": [],
   "source": [
    "class Phone():\n",
    "\n",
    "    def __init__(self,name,price):\n",
    "        self.name = name\n",
    "        self.__price = price\n",
    "\n",
    "    def info(self):\n",
    "        return(f\"The price of {self.name} is {self.__price}!\")"
   ]
  },
  {
   "cell_type": "code",
   "execution_count": 24,
   "id": "bcdd7a34-7cc8-48ae-a666-9a477c2d254c",
   "metadata": {},
   "outputs": [],
   "source": [
    "iphone = Phone(\"iPhone 14\",\"1.000$\")"
   ]
  },
  {
   "cell_type": "code",
   "execution_count": 26,
   "id": "2c84425a-4ebd-48ef-8e76-fb7adff4feac",
   "metadata": {},
   "outputs": [
    {
     "data": {
      "text/plain": [
       "'The price of iPhone 14 is 1.000$!'"
      ]
     },
     "execution_count": 26,
     "metadata": {},
     "output_type": "execute_result"
    }
   ],
   "source": [
    "iphone.info()"
   ]
  },
  {
   "cell_type": "code",
   "execution_count": 28,
   "id": "a8000afa-19d7-4bc0-bd81-a38197e5540b",
   "metadata": {},
   "outputs": [],
   "source": [
    "iphone.price = \"1.500$\""
   ]
  },
  {
   "cell_type": "code",
   "execution_count": 30,
   "id": "d4f83da0-b097-47da-a893-1c578703859d",
   "metadata": {},
   "outputs": [
    {
     "data": {
      "text/plain": [
       "'The price of iPhone 14 is 1.000$!'"
      ]
     },
     "execution_count": 30,
     "metadata": {},
     "output_type": "execute_result"
    }
   ],
   "source": [
    "iphone.info() "
   ]
  },
  {
   "cell_type": "code",
   "execution_count": 32,
   "id": "0fe05f6b-49a1-424e-9b40-064dc3c8bb28",
   "metadata": {},
   "outputs": [],
   "source": [
    "iphone.__price = \"1.500$\""
   ]
  },
  {
   "cell_type": "code",
   "execution_count": 34,
   "id": "0b83d7f5-855b-4b34-9879-2adf5d689be6",
   "metadata": {},
   "outputs": [
    {
     "data": {
      "text/plain": [
       "'The price of iPhone 14 is 1.000$!'"
      ]
     },
     "execution_count": 34,
     "metadata": {},
     "output_type": "execute_result"
    }
   ],
   "source": [
    "iphone.info() "
   ]
  },
  {
   "cell_type": "raw",
   "id": "e0af8db2-ad04-45e2-a476-42c95eb002e8",
   "metadata": {},
   "source": [
    "FİYATI DEĞİŞTİREMİYORUM."
   ]
  },
  {
   "cell_type": "markdown",
   "id": "050e3b30-4ca8-47ea-b965-c33c94c482bc",
   "metadata": {},
   "source": [
    "# ABSTRACTION --> SOYUTLAMA"
   ]
  },
  {
   "cell_type": "raw",
   "id": "f1fa8f1d-a33f-42fd-84da-fec892ea8078",
   "metadata": {},
   "source": [
    "Soyut oluşturulan sınıflar somut bir obje oluşturma amacı gütmez. Bir referedir."
   ]
  },
  {
   "cell_type": "code",
   "execution_count": 38,
   "id": "d85b50a0-35aa-4d35-bd15-034aa264caa7",
   "metadata": {},
   "outputs": [],
   "source": [
    "from abc import ABC, abstractmethod"
   ]
  },
  {
   "cell_type": "code",
   "execution_count": 52,
   "id": "45b8919a-9943-4df1-bbbc-63b71873b8dd",
   "metadata": {},
   "outputs": [],
   "source": [
    "class Cars(ABC):\n",
    "\n",
    "    @abstractmethod\n",
    "    def maxSpeed(self):\n",
    "        pass"
   ]
  },
  {
   "cell_type": "code",
   "execution_count": 54,
   "id": "3ec3fc28-7b30-4db3-a789-4d8dfc186ef9",
   "metadata": {},
   "outputs": [],
   "source": [
    "class Tesla(Cars):\n",
    "    def maxSpeed(self):\n",
    "        return(\"200 km/h\")"
   ]
  },
  {
   "cell_type": "code",
   "execution_count": 56,
   "id": "705eeec9-e777-4643-91ef-6ae9b800cad9",
   "metadata": {},
   "outputs": [],
   "source": [
    "myCar = Tesla()"
   ]
  },
  {
   "cell_type": "code",
   "execution_count": 58,
   "id": "4e45aaaa-1cf1-4d3d-af52-6d197699fa71",
   "metadata": {},
   "outputs": [
    {
     "data": {
      "text/plain": [
       "'200 km/h'"
      ]
     },
     "execution_count": 58,
     "metadata": {},
     "output_type": "execute_result"
    }
   ],
   "source": [
    "myCar.maxSpeed()"
   ]
  },
  {
   "cell_type": "code",
   "execution_count": 66,
   "id": "e3d382fc-3173-4941-8993-4a1acdd6f371",
   "metadata": {},
   "outputs": [],
   "source": [
    "class Mercedes(Cars):\n",
    "\n",
    "    def maxSpeed(self):\n",
    "        return(\"250 km/h\")"
   ]
  },
  {
   "cell_type": "code",
   "execution_count": 68,
   "id": "4aa36281-c3e9-4e13-953a-0ddc18c5fe40",
   "metadata": {},
   "outputs": [],
   "source": [
    "myCar_2 = Mercedes()"
   ]
  },
  {
   "cell_type": "code",
   "execution_count": 70,
   "id": "e2e1f832-6184-411c-b8d3-b6ec7a42c6cd",
   "metadata": {},
   "outputs": [
    {
     "data": {
      "text/plain": [
       "'250 km/h'"
      ]
     },
     "execution_count": 70,
     "metadata": {},
     "output_type": "execute_result"
    }
   ],
   "source": [
    "myCar_2.maxSpeed()"
   ]
  },
  {
   "cell_type": "code",
   "execution_count": null,
   "id": "f47ec353-7ed6-4997-a78c-4fc2569046f6",
   "metadata": {},
   "outputs": [],
   "source": []
  }
 ],
 "metadata": {
  "kernelspec": {
   "display_name": "Python 3 (ipykernel)",
   "language": "python",
   "name": "python3"
  },
  "language_info": {
   "codemirror_mode": {
    "name": "ipython",
    "version": 3
   },
   "file_extension": ".py",
   "mimetype": "text/x-python",
   "name": "python",
   "nbconvert_exporter": "python",
   "pygments_lexer": "ipython3",
   "version": "3.12.4"
  }
 },
 "nbformat": 4,
 "nbformat_minor": 5
}
