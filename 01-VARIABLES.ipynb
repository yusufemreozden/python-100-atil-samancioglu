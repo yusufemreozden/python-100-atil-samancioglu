{
 "cells": [
  {
   "cell_type": "markdown",
   "id": "84bf2557-a0bb-4e77-8b3d-66e1990a863d",
   "metadata": {},
   "source": [
    "1.A-NUMBERS"
   ]
  },
  {
   "cell_type": "code",
   "execution_count": 2,
   "id": "e11661d6-8d2c-405c-bddc-9404d718e1cd",
   "metadata": {},
   "outputs": [
    {
     "data": {
      "text/plain": [
       "12"
      ]
     },
     "execution_count": 2,
     "metadata": {},
     "output_type": "execute_result"
    }
   ],
   "source": [
    "4 * 3"
   ]
  },
  {
   "cell_type": "code",
   "execution_count": 3,
   "id": "1d15a3da-ef6d-48ef-abf2-93b8a6f3d7d1",
   "metadata": {},
   "outputs": [
    {
     "data": {
      "text/plain": [
       "128.57142857142858"
      ]
     },
     "execution_count": 3,
     "metadata": {},
     "output_type": "execute_result"
    }
   ],
   "source": [
    "900 / 7"
   ]
  },
  {
   "cell_type": "code",
   "execution_count": 4,
   "id": "ebf17506-9bf4-4b34-9634-a87621c07e49",
   "metadata": {},
   "outputs": [
    {
     "data": {
      "text/plain": [
       "125"
      ]
     },
     "execution_count": 4,
     "metadata": {},
     "output_type": "execute_result"
    }
   ],
   "source": [
    "5 ** 3"
   ]
  },
  {
   "cell_type": "code",
   "execution_count": 5,
   "id": "2390026e-1e74-44ca-82c2-a9acf7a4baf7",
   "metadata": {},
   "outputs": [
    {
     "data": {
      "text/plain": [
       "1"
      ]
     },
     "execution_count": 5,
     "metadata": {},
     "output_type": "execute_result"
    }
   ],
   "source": [
    "10 % 3 #10, 3'E BÖLÜNÜRSE KALAN KAÇ OLUR?"
   ]
  },
  {
   "cell_type": "code",
   "execution_count": 42,
   "id": "6fa26fc8-09ec-415b-b537-8033b2fbb1b0",
   "metadata": {},
   "outputs": [
    {
     "data": {
      "text/plain": [
       "46"
      ]
     },
     "execution_count": 42,
     "metadata": {},
     "output_type": "execute_result"
    }
   ],
   "source": [
    "emre_nin_yasi = 23\n",
    "a = emre_nin_yasi * 2\n",
    "a"
   ]
  },
  {
   "cell_type": "code",
   "execution_count": 44,
   "id": "bf308cf2-3204-455a-b18e-f015d5b870a8",
   "metadata": {},
   "outputs": [
    {
     "data": {
      "text/plain": [
       "int"
      ]
     },
     "execution_count": 44,
     "metadata": {},
     "output_type": "execute_result"
    }
   ],
   "source": [
    "type(a) #integer"
   ]
  },
  {
   "cell_type": "code",
   "execution_count": 46,
   "id": "7802a5ce-9946-4245-8327-57eeca076e9c",
   "metadata": {},
   "outputs": [
    {
     "data": {
      "text/plain": [
       "int"
      ]
     },
     "execution_count": 46,
     "metadata": {},
     "output_type": "execute_result"
    }
   ],
   "source": [
    "type(emre_nin_yasi)"
   ]
  },
  {
   "cell_type": "code",
   "execution_count": 48,
   "id": "d3a0c503-b72c-494e-b565-53f7ea461702",
   "metadata": {},
   "outputs": [
    {
     "data": {
      "text/plain": [
       "'ozden'"
      ]
     },
     "execution_count": 48,
     "metadata": {},
     "output_type": "execute_result"
    }
   ],
   "source": [
    "emre_nin_soyadi = 'ozden'\n",
    "emre_nin_soyadi"
   ]
  },
  {
   "cell_type": "code",
   "execution_count": 50,
   "id": "f7cac754-2163-406b-93d7-ae3d79b8c1cc",
   "metadata": {},
   "outputs": [
    {
     "data": {
      "text/plain": [
       "str"
      ]
     },
     "execution_count": 50,
     "metadata": {},
     "output_type": "execute_result"
    }
   ],
   "source": [
    "type(emre_nin_soyadi) #string"
   ]
  },
  {
   "cell_type": "code",
   "execution_count": 52,
   "id": "50044cf7-4ae7-4c8e-8b57-7c49e3dc5712",
   "metadata": {},
   "outputs": [
    {
     "data": {
      "text/plain": [
       "str"
      ]
     },
     "execution_count": 52,
     "metadata": {},
     "output_type": "execute_result"
    }
   ],
   "source": [
    "emre_nin_soyadi = \"ozden\"\n",
    "type(emre_nin_soyadi)"
   ]
  },
  {
   "cell_type": "code",
   "execution_count": 54,
   "id": "b82540a3-a54c-49ad-a349-456e98c98423",
   "metadata": {},
   "outputs": [],
   "source": [
    "# DATA TYPE"
   ]
  },
  {
   "cell_type": "code",
   "execution_count": 56,
   "id": "3e405135-877c-4ea9-86b3-721cad81b3d8",
   "metadata": {},
   "outputs": [
    {
     "data": {
      "text/plain": [
       "int"
      ]
     },
     "execution_count": 56,
     "metadata": {},
     "output_type": "execute_result"
    }
   ],
   "source": [
    "type(10*3)"
   ]
  },
  {
   "cell_type": "code",
   "execution_count": 58,
   "id": "46fd77ae-a32b-4690-9ee9-3b8576b7d238",
   "metadata": {},
   "outputs": [
    {
     "data": {
      "text/plain": [
       "float"
      ]
     },
     "execution_count": 58,
     "metadata": {},
     "output_type": "execute_result"
    }
   ],
   "source": [
    "pi = 3.14\n",
    "type(pi) #float"
   ]
  },
  {
   "cell_type": "code",
   "execution_count": 60,
   "id": "f4bd5dfb-e69b-448c-807b-d3b51aa71d72",
   "metadata": {},
   "outputs": [
    {
     "data": {
      "text/plain": [
       "float"
      ]
     },
     "execution_count": 60,
     "metadata": {},
     "output_type": "execute_result"
    }
   ],
   "source": [
    "type(10*3.0) #float"
   ]
  },
  {
   "cell_type": "code",
   "execution_count": 62,
   "id": "ad85664a-e01d-4595-88b0-d95aa4d71a07",
   "metadata": {},
   "outputs": [
    {
     "data": {
      "text/plain": [
       "float"
      ]
     },
     "execution_count": 62,
     "metadata": {},
     "output_type": "execute_result"
    }
   ],
   "source": [
    "type(a / pi)"
   ]
  },
  {
   "cell_type": "code",
   "execution_count": 64,
   "id": "d6d8517b-cbd0-4c46-a4fc-5f286764870c",
   "metadata": {},
   "outputs": [
    {
     "data": {
      "text/plain": [
       "10.0"
      ]
     },
     "execution_count": 64,
     "metadata": {},
     "output_type": "execute_result"
    }
   ],
   "source": [
    "40/4"
   ]
  },
  {
   "cell_type": "code",
   "execution_count": 66,
   "id": "dcc25afe-9dcc-4c49-9af9-84ba826453ab",
   "metadata": {},
   "outputs": [],
   "source": [
    "# NEDEN CEVAP 10.0 ÇIKTI? İKİ INTEGER BÖLÜNDÜĞÜNDE TYPE'I NE OLUR?"
   ]
  },
  {
   "cell_type": "code",
   "execution_count": 68,
   "id": "5bd05416-1011-4e22-90a8-a6832aca2dd0",
   "metadata": {},
   "outputs": [
    {
     "data": {
      "text/plain": [
       "float"
      ]
     },
     "execution_count": 68,
     "metadata": {},
     "output_type": "execute_result"
    }
   ],
   "source": [
    "type(40/4)"
   ]
  },
  {
   "cell_type": "code",
   "execution_count": 70,
   "id": "1f4ea346-aee2-4ada-a604-b27aef01b2c0",
   "metadata": {},
   "outputs": [],
   "source": [
    "# ÇÜNKÜ SONUCUN NE ÇIKACAĞINI BİLMİYORDU. GARANTİ OLMASI İÇİN HAFIZADA FLOAT İÇİN YER AÇTI. BU HER PROGRAMLAMA DİLİNDE FARKLIDIR."
   ]
  },
  {
   "cell_type": "markdown",
   "id": "b8fa5592-9796-4027-9fdc-c9d685abb5a5",
   "metadata": {},
   "source": [
    "1.B-STRINGS"
   ]
  },
  {
   "cell_type": "code",
   "execution_count": 76,
   "id": "f0d06b61-1483-4c10-984c-cee3bb3f3adb",
   "metadata": {},
   "outputs": [
    {
     "name": "stdout",
     "output_type": "stream",
     "text": [
      "Hello World!\n"
     ]
    }
   ],
   "source": [
    "print(\"Hello World!\")"
   ]
  },
  {
   "cell_type": "code",
   "execution_count": 84,
   "id": "93424813-f505-44e8-b5ae-bb3a59ce6fe1",
   "metadata": {},
   "outputs": [
    {
     "data": {
      "text/plain": [
       "'Hello World!'"
      ]
     },
     "execution_count": 84,
     "metadata": {},
     "output_type": "execute_result"
    }
   ],
   "source": [
    "str = \"Hello World!\"\n",
    "str"
   ]
  },
  {
   "cell_type": "code",
   "execution_count": 150,
   "id": "983c9e31-b45b-4920-b6ca-617d48633506",
   "metadata": {},
   "outputs": [],
   "source": [
    "name = \"emre ozden\""
   ]
  },
  {
   "cell_type": "code",
   "execution_count": 152,
   "id": "0fb4de98-5e84-432d-9be8-e57f9d7b3844",
   "metadata": {},
   "outputs": [
    {
     "data": {
      "text/plain": [
       "'Emre ozden'"
      ]
     },
     "execution_count": 152,
     "metadata": {},
     "output_type": "execute_result"
    }
   ],
   "source": [
    "name.capitalize()"
   ]
  },
  {
   "cell_type": "code",
   "execution_count": 154,
   "id": "0161b459-80b6-4446-8026-6f2356c958f2",
   "metadata": {},
   "outputs": [
    {
     "data": {
      "text/plain": [
       "3"
      ]
     },
     "execution_count": 154,
     "metadata": {},
     "output_type": "execute_result"
    }
   ],
   "source": [
    "name.count('e')"
   ]
  },
  {
   "cell_type": "code",
   "execution_count": 156,
   "id": "b2b02dae-7e64-4da0-8651-73d77b4ca810",
   "metadata": {},
   "outputs": [
    {
     "data": {
      "text/plain": [
       "'EMRE OZDEN'"
      ]
     },
     "execution_count": 156,
     "metadata": {},
     "output_type": "execute_result"
    }
   ],
   "source": [
    "name.upper()"
   ]
  },
  {
   "cell_type": "code",
   "execution_count": 158,
   "id": "862634df-ffa7-4e55-bae9-912df06cf637",
   "metadata": {},
   "outputs": [
    {
     "data": {
      "text/plain": [
       "'Hello World! Ben Emre ozden'"
      ]
     },
     "execution_count": 158,
     "metadata": {},
     "output_type": "execute_result"
    }
   ],
   "source": [
    "str+\" Ben \"+name.capitalize()"
   ]
  },
  {
   "cell_type": "code",
   "execution_count": 160,
   "id": "cc0bf584-6085-4663-ae88-7c60bce036ff",
   "metadata": {},
   "outputs": [
    {
     "data": {
      "text/plain": [
       "['Hello', 'World!']"
      ]
     },
     "execution_count": 160,
     "metadata": {},
     "output_type": "execute_result"
    }
   ],
   "source": [
    "str.split(\" \")"
   ]
  },
  {
   "cell_type": "code",
   "execution_count": 162,
   "id": "1ab30fd7-51de-4d95-8aa3-2f8a2292cef8",
   "metadata": {},
   "outputs": [
    {
     "data": {
      "text/plain": [
       "['He', '', 'o Wor', 'd!']"
      ]
     },
     "execution_count": 162,
     "metadata": {},
     "output_type": "execute_result"
    }
   ],
   "source": [
    "str.split(\"l\")"
   ]
  },
  {
   "cell_type": "code",
   "execution_count": 164,
   "id": "29b52d15-9e04-4477-b79b-3c377418775b",
   "metadata": {},
   "outputs": [
    {
     "data": {
      "text/plain": [
       "1"
      ]
     },
     "execution_count": 164,
     "metadata": {},
     "output_type": "execute_result"
    }
   ],
   "source": [
    "name.count(\"em\")"
   ]
  },
  {
   "cell_type": "code",
   "execution_count": 166,
   "id": "6eb69a34-75b0-4294-aa7f-05c9f4fc3a34",
   "metadata": {},
   "outputs": [
    {
     "data": {
      "text/plain": [
       "'emre ozden'"
      ]
     },
     "execution_count": 166,
     "metadata": {},
     "output_type": "execute_result"
    }
   ],
   "source": [
    "name"
   ]
  },
  {
   "cell_type": "code",
   "execution_count": 174,
   "id": "40573841-6b37-43b1-a2af-0110d5e53e46",
   "metadata": {},
   "outputs": [
    {
     "data": {
      "text/plain": [
       "'EMRE OZDEN'"
      ]
     },
     "execution_count": 174,
     "metadata": {},
     "output_type": "execute_result"
    }
   ],
   "source": [
    "name = name.upper()\n",
    "name"
   ]
  },
  {
   "cell_type": "code",
   "execution_count": 180,
   "id": "251ffd1c-e298-443b-a37f-270fe8b05fb5",
   "metadata": {},
   "outputs": [
    {
     "data": {
      "text/plain": [
       "'emre ozden'"
      ]
     },
     "execution_count": 180,
     "metadata": {},
     "output_type": "execute_result"
    }
   ],
   "source": [
    "name.lower()"
   ]
  },
  {
   "cell_type": "code",
   "execution_count": 182,
   "id": "7908c0cc-654c-4b33-bf4c-ed6998e387d4",
   "metadata": {},
   "outputs": [
    {
     "data": {
      "text/plain": [
       "'EMRE OZDEN'"
      ]
     },
     "execution_count": 182,
     "metadata": {},
     "output_type": "execute_result"
    }
   ],
   "source": [
    "name"
   ]
  },
  {
   "cell_type": "code",
   "execution_count": 184,
   "id": "d4b81e1f-9bb4-49f6-ba00-9d462e5701c6",
   "metadata": {},
   "outputs": [
    {
     "data": {
      "text/plain": [
       "10"
      ]
     },
     "execution_count": 184,
     "metadata": {},
     "output_type": "execute_result"
    }
   ],
   "source": [
    "len(name)"
   ]
  },
  {
   "cell_type": "code",
   "execution_count": 186,
   "id": "6c5e25be-ddff-4365-ba08-7cfed34d8c11",
   "metadata": {},
   "outputs": [
    {
     "data": {
      "text/plain": [
       "int"
      ]
     },
     "execution_count": 186,
     "metadata": {},
     "output_type": "execute_result"
    }
   ],
   "source": [
    "type(len(name))"
   ]
  },
  {
   "cell_type": "code",
   "execution_count": 194,
   "id": "6a4041ed-60e5-4e2b-8793-0fe00e10b339",
   "metadata": {},
   "outputs": [
    {
     "name": "stdout",
     "output_type": "stream",
     "text": [
      "10\n"
     ]
    }
   ],
   "source": [
    "print(len(name))"
   ]
  },
  {
   "cell_type": "code",
   "execution_count": 198,
   "id": "b9f46a05-35a4-4cad-9809-141ca1c40171",
   "metadata": {},
   "outputs": [
    {
     "name": "stdout",
     "output_type": "stream",
     "text": [
      "EMRE OZDEN\n",
      "EMRE\n",
      "OZDEN\n",
      "EMRE\tOZDEN\n"
     ]
    }
   ],
   "source": [
    "print(\"EMRE OZDEN\")\n",
    "print(\"EMRE\\nOZDEN\")\n",
    "print(\"EMRE\\tOZDEN\")"
   ]
  }
 ],
 "metadata": {
  "kernelspec": {
   "display_name": "Python 3 (ipykernel)",
   "language": "python",
   "name": "python3"
  },
  "language_info": {
   "codemirror_mode": {
    "name": "ipython",
    "version": 3
   },
   "file_extension": ".py",
   "mimetype": "text/x-python",
   "name": "python",
   "nbconvert_exporter": "python",
   "pygments_lexer": "ipython3",
   "version": "3.12.4"
  }
 },
 "nbformat": 4,
 "nbformat_minor": 5
}
