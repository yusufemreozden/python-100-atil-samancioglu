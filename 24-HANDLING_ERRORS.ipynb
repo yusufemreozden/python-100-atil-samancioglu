{
 "cells": [
  {
   "cell_type": "code",
   "execution_count": null,
   "id": "4e39fafa-c4d5-481d-bab3-c1930fd7f351",
   "metadata": {},
   "outputs": [],
   "source": [
    "age = input(\"Lütfen yaşınızı giriniz:\")"
   ]
  },
  {
   "cell_type": "code",
   "execution_count": null,
   "id": "1389487b-eebd-406f-8b56-15a12284d4b4",
   "metadata": {},
   "outputs": [],
   "source": [
    "age"
   ]
  },
  {
   "cell_type": "markdown",
   "id": "8dcaabc1-9c38-4b2b-ab36-2be4a6a31ef7",
   "metadata": {},
   "source": [
    "# TRY - EXCEPT"
   ]
  },
  {
   "cell_type": "code",
   "execution_count": 13,
   "id": "4ca628e0-662e-49fd-b523-d1be2a10cdfd",
   "metadata": {},
   "outputs": [
    {
     "name": "stdin",
     "output_type": "stream",
     "text": [
      "Lütfen yaşınızı giriniz: emre\n"
     ]
    },
    {
     "name": "stdout",
     "output_type": "stream",
     "text": [
      "\n",
      "Yaşınızı girmeniz gerekliydi!\n"
     ]
    },
    {
     "name": "stdin",
     "output_type": "stream",
     "text": [
      "Lütfen yaşınızı giriniz: yusuf\n"
     ]
    },
    {
     "name": "stdout",
     "output_type": "stream",
     "text": [
      "\n",
      "Yaşınızı girmeniz gerekliydi!\n"
     ]
    },
    {
     "name": "stdin",
     "output_type": "stream",
     "text": [
      "Lütfen yaşınızı giriniz: 23\n"
     ]
    },
    {
     "name": "stdout",
     "output_type": "stream",
     "text": [
      "\n",
      "Yaşınız 23.\n"
     ]
    }
   ],
   "source": [
    "while True:\n",
    "    try:\n",
    "        myAge = int(input(\"Lütfen yaşınızı giriniz:\"))\n",
    "        print(f\"\\nYaşınız {myAge}.\")\n",
    "        break\n",
    "    except:\n",
    "        print(\"\\nYaşınızı girmeniz gerekliydi!\")\n",
    "   \n",
    "    '''\n",
    "    else:\n",
    "        print(\"Else is working...\")\n",
    "    finally:\n",
    "        print(\"'Finally' always works.\")\n",
    "    '''"
   ]
  },
  {
   "cell_type": "code",
   "execution_count": null,
   "id": "9cf673f9-e14c-4ed7-aa4c-db7ec27c7a4e",
   "metadata": {},
   "outputs": [],
   "source": []
  }
 ],
 "metadata": {
  "kernelspec": {
   "display_name": "Python 3 (ipykernel)",
   "language": "python",
   "name": "python3"
  },
  "language_info": {
   "codemirror_mode": {
    "name": "ipython",
    "version": 3
   },
   "file_extension": ".py",
   "mimetype": "text/x-python",
   "name": "python",
   "nbconvert_exporter": "python",
   "pygments_lexer": "ipython3",
   "version": "3.12.4"
  }
 },
 "nbformat": 4,
 "nbformat_minor": 5
}
