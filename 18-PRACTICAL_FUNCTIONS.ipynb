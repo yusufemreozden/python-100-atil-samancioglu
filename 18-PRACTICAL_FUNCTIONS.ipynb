{
 "cells": [
  {
   "cell_type": "code",
   "execution_count": 10,
   "id": "243b5b79-7b1b-4e19-ab90-bc047324a00a",
   "metadata": {},
   "outputs": [],
   "source": [
    "def divideNumber(n1,n2):\n",
    "    sum = n1 / n2\n",
    "    if n1 % n2 == 0:\n",
    "        sum = int(sum)\n",
    "    return sum"
   ]
  },
  {
   "cell_type": "code",
   "execution_count": 12,
   "id": "1d33633e-73c7-4a92-a601-4dbf59ef239a",
   "metadata": {},
   "outputs": [
    {
     "data": {
      "text/plain": [
       "5"
      ]
     },
     "execution_count": 12,
     "metadata": {},
     "output_type": "execute_result"
    }
   ],
   "source": [
    "divideNumber(10,2)"
   ]
  },
  {
   "cell_type": "code",
   "execution_count": 14,
   "id": "67225312-0177-4bb5-982f-d8594ed08d01",
   "metadata": {},
   "outputs": [
    {
     "data": {
      "text/plain": [
       "3.3333333333333335"
      ]
     },
     "execution_count": 14,
     "metadata": {},
     "output_type": "execute_result"
    }
   ],
   "source": [
    "divideNumber(10,3)"
   ]
  },
  {
   "cell_type": "code",
   "execution_count": 2,
   "id": "cb90f2c2-3ce1-4880-8df5-d080e0ab102d",
   "metadata": {},
   "outputs": [
    {
     "name": "stdout",
     "output_type": "stream",
     "text": [
      "[5, 10, 15, 25]\n"
     ]
    }
   ],
   "source": [
    "def halfDivide(number):\n",
    "    if number%2 == 0:\n",
    "        sum = number / 2\n",
    "        sum = int(sum)\n",
    "        return sum\n",
    "    else:\n",
    "        return number/2\n",
    "\n",
    "myList = [10,20,30,50]\n",
    "myNewList = []\n",
    "\n",
    "\n",
    "for n in myList:\n",
    "    myNewList.append(halfDivide(n))\n",
    "print(myNewList)"
   ]
  },
  {
   "cell_type": "code",
   "execution_count": 9,
   "id": "74c8d128-a28e-4a75-938c-377eb1631d6e",
   "metadata": {},
   "outputs": [],
   "source": [
    "# BUNU DAHA KOLAY BİR ŞEKİLDE YAPABİLİR MİYDİK?"
   ]
  },
  {
   "cell_type": "markdown",
   "id": "f0b0f975-cfd7-4e6d-b344-9a0ff6a3591b",
   "metadata": {},
   "source": [
    "# MAP --> BİR LİSTEYİ VEYA BİR KOLEKSİYONU ALIP ONLARA BAZI İŞLEMLER UYGULAR, YENİ HÂLLERİNİ YENİ BİR LİSTE VEYA KOLEKSİYONA KAYDEDER."
   ]
  },
  {
   "cell_type": "code",
   "execution_count": 5,
   "id": "0b431e71-0a15-484d-b982-8d3e6f4a4eea",
   "metadata": {},
   "outputs": [
    {
     "name": "stdout",
     "output_type": "stream",
     "text": [
      "Help on class map in module builtins:\n",
      "\n",
      "class map(object)\n",
      " |  map(func, *iterables) --> map object\n",
      " |\n",
      " |  Make an iterator that computes the function using arguments from\n",
      " |  each of the iterables.  Stops when the shortest iterable is exhausted.\n",
      " |\n",
      " |  Methods defined here:\n",
      " |\n",
      " |  __getattribute__(self, name, /)\n",
      " |      Return getattr(self, name).\n",
      " |\n",
      " |  __iter__(self, /)\n",
      " |      Implement iter(self).\n",
      " |\n",
      " |  __next__(self, /)\n",
      " |      Implement next(self).\n",
      " |\n",
      " |  __reduce__(...)\n",
      " |      Return state information for pickling.\n",
      " |\n",
      " |  ----------------------------------------------------------------------\n",
      " |  Static methods defined here:\n",
      " |\n",
      " |  __new__(*args, **kwargs)\n",
      " |      Create and return a new object.  See help(type) for accurate signature.\n",
      "\n"
     ]
    }
   ],
   "source": [
    "help(map)"
   ]
  },
  {
   "cell_type": "code",
   "execution_count": 13,
   "id": "4d16f051-2b00-486d-a699-bb22df5296fa",
   "metadata": {},
   "outputs": [
    {
     "data": {
      "text/plain": [
       "<map at 0x143f44ee0>"
      ]
     },
     "execution_count": 13,
     "metadata": {},
     "output_type": "execute_result"
    }
   ],
   "source": [
    "map(halfDivide,myList) "
   ]
  },
  {
   "cell_type": "code",
   "execution_count": 21,
   "id": "078da00e-70d6-44fa-97e6-9fb5da226e20",
   "metadata": {},
   "outputs": [
    {
     "data": {
      "text/plain": [
       "map"
      ]
     },
     "execution_count": 21,
     "metadata": {},
     "output_type": "execute_result"
    }
   ],
   "source": [
    "type(map(halfDivide,myList))"
   ]
  },
  {
   "cell_type": "code",
   "execution_count": 23,
   "id": "0a6f837e-fba4-441a-b10d-22b472de86cc",
   "metadata": {},
   "outputs": [
    {
     "data": {
      "text/plain": [
       "[5, 10, 15, 25]"
      ]
     },
     "execution_count": 23,
     "metadata": {},
     "output_type": "execute_result"
    }
   ],
   "source": [
    "list(map(halfDivide,myList))"
   ]
  },
  {
   "cell_type": "code",
   "execution_count": 25,
   "id": "a1542251-5536-4faf-894f-af0a6f401a51",
   "metadata": {},
   "outputs": [
    {
     "data": {
      "text/plain": [
       "[10, 20, 30, 50]"
      ]
     },
     "execution_count": 25,
     "metadata": {},
     "output_type": "execute_result"
    }
   ],
   "source": [
    "myList"
   ]
  },
  {
   "cell_type": "markdown",
   "id": "a2b33fae-3eab-419f-b81e-ffb5f18ab27a",
   "metadata": {},
   "source": [
    "# FILTER"
   ]
  },
  {
   "cell_type": "code",
   "execution_count": 58,
   "id": "a6349dfd-a709-4fd4-acc9-637796f6cf12",
   "metadata": {},
   "outputs": [],
   "source": [
    "def controlString(str):\n",
    "    return \"emre\" in str"
   ]
  },
  {
   "cell_type": "code",
   "execution_count": 60,
   "id": "3f238b27-7f3e-4889-8a06-abbed8f91829",
   "metadata": {},
   "outputs": [
    {
     "data": {
      "text/plain": [
       "True"
      ]
     },
     "execution_count": 60,
     "metadata": {},
     "output_type": "execute_result"
    }
   ],
   "source": [
    "controlString(\"yusuf emre ozden\")"
   ]
  },
  {
   "cell_type": "code",
   "execution_count": 62,
   "id": "77637c5f-5fe2-43e8-b339-c4d9f2a8d929",
   "metadata": {},
   "outputs": [],
   "source": [
    "myStringList = [\"yusuf\",\"emre\",\"ozden\",\"yusuf emre ozden\",\"onur\",\"umut\",\"omer\"]"
   ]
  },
  {
   "cell_type": "code",
   "execution_count": 70,
   "id": "7ada021b-3641-442b-88d6-faf0a04f9a75",
   "metadata": {},
   "outputs": [
    {
     "data": {
      "text/plain": [
       "<filter at 0x1475a4400>"
      ]
     },
     "execution_count": 70,
     "metadata": {},
     "output_type": "execute_result"
    }
   ],
   "source": [
    "filter(controlString,myStringList)"
   ]
  },
  {
   "cell_type": "code",
   "execution_count": 72,
   "id": "fb1c407e-d03d-459e-9cde-c2c756dc2fd4",
   "metadata": {},
   "outputs": [
    {
     "data": {
      "text/plain": [
       "['emre', 'yusuf emre ozden']"
      ]
     },
     "execution_count": 72,
     "metadata": {},
     "output_type": "execute_result"
    }
   ],
   "source": [
    "list(filter(controlString,myStringList))"
   ]
  },
  {
   "cell_type": "markdown",
   "id": "bc1d3a3c-cd6e-4bd5-b369-0a1d35e2c11b",
   "metadata": {},
   "source": [
    "LAMBDA --> SONRADAN KULLANMAMIZA GEREK KALMAYACAK FONKSİYONLARI DEF KEY-WORDU KULLANMADAN TANIMLAMAMIZA YARAR"
   ]
  },
  {
   "cell_type": "code",
   "execution_count": 76,
   "id": "09fa1a9e-5ea8-4854-9883-cab487a77d17",
   "metadata": {},
   "outputs": [],
   "source": [
    "multiplyLambda = lambda num : num * 3"
   ]
  },
  {
   "cell_type": "code",
   "execution_count": 78,
   "id": "9bdfa931-0433-4a7a-9cb9-39932a1ae5cc",
   "metadata": {},
   "outputs": [
    {
     "data": {
      "text/plain": [
       "function"
      ]
     },
     "execution_count": 78,
     "metadata": {},
     "output_type": "execute_result"
    }
   ],
   "source": [
    "type(multiplyLambda)"
   ]
  },
  {
   "cell_type": "code",
   "execution_count": 80,
   "id": "e05fb993-95ab-4e95-ab0b-3dbd24ccb1a2",
   "metadata": {},
   "outputs": [
    {
     "data": {
      "text/plain": [
       "60"
      ]
     },
     "execution_count": 80,
     "metadata": {},
     "output_type": "execute_result"
    }
   ],
   "source": [
    "multiplyLambda(20)"
   ]
  },
  {
   "cell_type": "code",
   "execution_count": 82,
   "id": "9cd8b472-0923-440c-9e0e-155abfe1cec3",
   "metadata": {},
   "outputs": [],
   "source": [
    "result = multiplyLambda(10)"
   ]
  },
  {
   "cell_type": "code",
   "execution_count": 86,
   "id": "e3123aad-12ab-4f4d-9b8d-72586f5cc42d",
   "metadata": {},
   "outputs": [
    {
     "data": {
      "text/plain": [
       "30"
      ]
     },
     "execution_count": 86,
     "metadata": {},
     "output_type": "execute_result"
    }
   ],
   "source": [
    "result # DEMEK Kİ LAMBDA RETURN EDİYOR."
   ]
  },
  {
   "cell_type": "code",
   "execution_count": 88,
   "id": "826d9e2a-70e2-4430-8263-0253f5672285",
   "metadata": {},
   "outputs": [],
   "source": [
    "numList = [10,20,30,40,50]"
   ]
  },
  {
   "cell_type": "code",
   "execution_count": 94,
   "id": "4ba4082e-a040-4164-89e7-795ed701ce12",
   "metadata": {},
   "outputs": [
    {
     "data": {
      "text/plain": [
       "[40, 80, 120, 160, 200]"
      ]
     },
     "execution_count": 94,
     "metadata": {},
     "output_type": "execute_result"
    }
   ],
   "source": [
    "list(map(lambda num : num * 4,numList)) # BÖYLE ANONİM FONKSİYON OLARAK DA KULLANILABİLİR."
   ]
  },
  {
   "cell_type": "code",
   "execution_count": null,
   "id": "289ed96c-6edf-4cf5-8bb4-d30a9cc65263",
   "metadata": {},
   "outputs": [],
   "source": []
  }
 ],
 "metadata": {
  "kernelspec": {
   "display_name": "Python 3 (ipykernel)",
   "language": "python",
   "name": "python3"
  },
  "language_info": {
   "codemirror_mode": {
    "name": "ipython",
    "version": 3
   },
   "file_extension": ".py",
   "mimetype": "text/x-python",
   "name": "python",
   "nbconvert_exporter": "python",
   "pygments_lexer": "ipython3",
   "version": "3.12.4"
  }
 },
 "nbformat": 4,
 "nbformat_minor": 5
}
