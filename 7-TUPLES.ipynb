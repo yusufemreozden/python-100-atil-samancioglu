{
 "cells": [
  {
   "cell_type": "markdown",
   "id": "4fef1f0f-f024-4333-8f82-5afde0d4c0da",
   "metadata": {},
   "source": [
    "TUPLE YAPISI NEREDEYSE LİSTELER İLE AYNI ŞEYDİR."
   ]
  },
  {
   "cell_type": "code",
   "execution_count": 2,
   "id": "e94406ea-bec7-4923-a566-4bf5409649a0",
   "metadata": {},
   "outputs": [],
   "source": [
    "myList = [10,\"a\",[10,20,\"otuz\"],3.14,{\"kayseri\":38,\"samsun\":55,\"istanbul\":34}]"
   ]
  },
  {
   "cell_type": "code",
   "execution_count": 6,
   "id": "da0ebca4-23cb-4989-94f6-e2eb1f667ef9",
   "metadata": {},
   "outputs": [
    {
     "data": {
      "text/plain": [
       "[10, 20, 'otuz']"
      ]
     },
     "execution_count": 6,
     "metadata": {},
     "output_type": "execute_result"
    }
   ],
   "source": [
    "myList[2]"
   ]
  },
  {
   "cell_type": "code",
   "execution_count": 8,
   "id": "459750a8-40e1-4185-815d-169e6cb00db3",
   "metadata": {},
   "outputs": [
    {
     "data": {
      "text/plain": [
       "'otuz'"
      ]
     },
     "execution_count": 8,
     "metadata": {},
     "output_type": "execute_result"
    }
   ],
   "source": [
    "myList[2][2]"
   ]
  },
  {
   "cell_type": "code",
   "execution_count": 10,
   "id": "d7bc222f-bf58-423c-bbad-dad2fc3d69f3",
   "metadata": {},
   "outputs": [
    {
     "data": {
      "text/plain": [
       "{'kayseri': 38, 'samsun': 55, 'istanbul': 34}"
      ]
     },
     "execution_count": 10,
     "metadata": {},
     "output_type": "execute_result"
    }
   ],
   "source": [
    "myList[4]"
   ]
  },
  {
   "cell_type": "code",
   "execution_count": 12,
   "id": "0001a54d-1c05-4193-b705-a4cf2cb40d36",
   "metadata": {},
   "outputs": [
    {
     "data": {
      "text/plain": [
       "38"
      ]
     },
     "execution_count": 12,
     "metadata": {},
     "output_type": "execute_result"
    }
   ],
   "source": [
    "myList[4][\"kayseri\"]"
   ]
  },
  {
   "cell_type": "code",
   "execution_count": 14,
   "id": "cbdcc1cd-1368-4a19-86e5-04aa98eef547",
   "metadata": {},
   "outputs": [],
   "source": [
    "# TUPLE"
   ]
  },
  {
   "cell_type": "code",
   "execution_count": 18,
   "id": "bbb696c3-1e42-44a1-8772-05c07014e4c9",
   "metadata": {},
   "outputs": [],
   "source": [
    "myTuple = (10,\"a\",[10,20,\"otuz\"],3.14,{\"kayseri\":38,\"samsun\":55,\"istanbul\":34}) # İÇİNİ LİSTE GİBİ DOLDURSAK DA NORMAL PARANTEZ"
   ]
  },
  {
   "cell_type": "code",
   "execution_count": 20,
   "id": "f1dfecc7-8e0b-42af-a25e-686daf68e4bb",
   "metadata": {},
   "outputs": [
    {
     "data": {
      "text/plain": [
       "(10,\n",
       " 'a',\n",
       " [10, 20, 'otuz'],\n",
       " 3.14,\n",
       " {'kayseri': 38, 'samsun': 55, 'istanbul': 34})"
      ]
     },
     "execution_count": 20,
     "metadata": {},
     "output_type": "execute_result"
    }
   ],
   "source": [
    "myTuple"
   ]
  },
  {
   "cell_type": "code",
   "execution_count": 22,
   "id": "c9d00d01-b0f6-41ac-ad80-d2783d95aa79",
   "metadata": {},
   "outputs": [
    {
     "data": {
      "text/plain": [
       "tuple"
      ]
     },
     "execution_count": 22,
     "metadata": {},
     "output_type": "execute_result"
    }
   ],
   "source": [
    "type(myTuple)"
   ]
  },
  {
   "cell_type": "code",
   "execution_count": 30,
   "id": "96ee12b9-98f1-45cf-8e4f-9678bde17765",
   "metadata": {},
   "outputs": [
    {
     "data": {
      "text/plain": [
       "0"
      ]
     },
     "execution_count": 30,
     "metadata": {},
     "output_type": "execute_result"
    }
   ],
   "source": [
    "myTuple.index(10)"
   ]
  },
  {
   "cell_type": "code",
   "execution_count": 32,
   "id": "1b9c3161-4583-45c1-82a9-e7adc4cfd139",
   "metadata": {},
   "outputs": [
    {
     "data": {
      "text/plain": [
       "3"
      ]
     },
     "execution_count": 32,
     "metadata": {},
     "output_type": "execute_result"
    }
   ],
   "source": [
    "myTuple.index(3.14)"
   ]
  },
  {
   "cell_type": "code",
   "execution_count": 34,
   "id": "77c459fe-bd8e-48e2-9ea2-4012f2834d0d",
   "metadata": {},
   "outputs": [],
   "source": [
    "# ÇOK KISITLI ÖZELLİĞİ VAR VE DEĞİŞTİRİLEBİLİR DE DEĞİL. İÇİNDEKİ ÖGELERE MÜDEHALE EDEMİYORUZ."
   ]
  },
  {
   "cell_type": "code",
   "execution_count": 37,
   "id": "3faba101-9c29-4967-814e-80a02d82bf4e",
   "metadata": {},
   "outputs": [],
   "source": [
    "myTuple_2 =(10,20,30,40) "
   ]
  },
  {
   "cell_type": "code",
   "execution_count": 39,
   "id": "475eb5d9-450a-4c4b-bbeb-8186999ebaca",
   "metadata": {},
   "outputs": [
    {
     "data": {
      "text/plain": [
       "tuple"
      ]
     },
     "execution_count": 39,
     "metadata": {},
     "output_type": "execute_result"
    }
   ],
   "source": [
    "type(myTuple_2)"
   ]
  },
  {
   "cell_type": "code",
   "execution_count": 45,
   "id": "ce3f17a0-a93e-499d-9376-cce196dbf0df",
   "metadata": {},
   "outputs": [],
   "source": [
    "myTuple_2 = list(myTuple_2)"
   ]
  },
  {
   "cell_type": "code",
   "execution_count": 47,
   "id": "7a9d6f56-f317-4bc8-996a-650a8b7e7b62",
   "metadata": {},
   "outputs": [
    {
     "data": {
      "text/plain": [
       "list"
      ]
     },
     "execution_count": 47,
     "metadata": {},
     "output_type": "execute_result"
    }
   ],
   "source": [
    "type(myTuple_2)"
   ]
  },
  {
   "cell_type": "code",
   "execution_count": 49,
   "id": "3f8f8d5b-e090-4e89-8bb2-13fdbc337c49",
   "metadata": {},
   "outputs": [],
   "source": [
    "# DEĞİŞTİRMEK İÇİN LİSTEYE ÇEVİRMELİYİZ."
   ]
  },
  {
   "cell_type": "code",
   "execution_count": null,
   "id": "c6b31294-e027-41a0-9a06-2145c0a7a1c6",
   "metadata": {},
   "outputs": [],
   "source": []
  }
 ],
 "metadata": {
  "kernelspec": {
   "display_name": "Python 3 (ipykernel)",
   "language": "python",
   "name": "python3"
  },
  "language_info": {
   "codemirror_mode": {
    "name": "ipython",
    "version": 3
   },
   "file_extension": ".py",
   "mimetype": "text/x-python",
   "name": "python",
   "nbconvert_exporter": "python",
   "pygments_lexer": "ipython3",
   "version": "3.12.4"
  }
 },
 "nbformat": 4,
 "nbformat_minor": 5
}
