{
 "cells": [
  {
   "cell_type": "code",
   "execution_count": 64,
   "id": "b0afabcc-1611-4640-a389-7ed16877fbb8",
   "metadata": {},
   "outputs": [],
   "source": [
    "name = \"emre ozden\""
   ]
  },
  {
   "cell_type": "code",
   "execution_count": 66,
   "id": "cf34dd1f-d0f4-4d62-860e-073bf771d0d5",
   "metadata": {},
   "outputs": [
    {
     "data": {
      "text/plain": [
       "['emre', 'ozden']"
      ]
     },
     "execution_count": 66,
     "metadata": {},
     "output_type": "execute_result"
    }
   ],
   "source": [
    "name.split(\" \")"
   ]
  },
  {
   "cell_type": "code",
   "execution_count": 68,
   "id": "a8a333f0-63f7-450d-99bc-0c30ea75a43a",
   "metadata": {},
   "outputs": [
    {
     "data": {
      "text/plain": [
       "list"
      ]
     },
     "execution_count": 68,
     "metadata": {},
     "output_type": "execute_result"
    }
   ],
   "source": [
    "type(name.split())"
   ]
  },
  {
   "cell_type": "code",
   "execution_count": 70,
   "id": "ca3025ac-9887-4684-bc87-32fbb9a61eb0",
   "metadata": {},
   "outputs": [
    {
     "data": {
      "text/plain": [
       "'e'"
      ]
     },
     "execution_count": 70,
     "metadata": {},
     "output_type": "execute_result"
    }
   ],
   "source": [
    "name[0]"
   ]
  },
  {
   "cell_type": "code",
   "execution_count": 72,
   "id": "c6954829-c8b7-4878-a7cc-0070f51f6870",
   "metadata": {},
   "outputs": [
    {
     "data": {
      "text/plain": [
       "list"
      ]
     },
     "execution_count": 72,
     "metadata": {},
     "output_type": "execute_result"
    }
   ],
   "source": [
    "myList = [10,20,30]\n",
    "type(myList)"
   ]
  },
  {
   "cell_type": "code",
   "execution_count": 74,
   "id": "63b6418d-3d90-475c-a33a-e14136864cf1",
   "metadata": {},
   "outputs": [
    {
     "data": {
      "text/plain": [
       "10"
      ]
     },
     "execution_count": 74,
     "metadata": {},
     "output_type": "execute_result"
    }
   ],
   "source": [
    "myList[0]"
   ]
  },
  {
   "cell_type": "code",
   "execution_count": 76,
   "id": "9b557ade-69fb-4d91-b1cd-adc481c47b70",
   "metadata": {},
   "outputs": [
    {
     "data": {
      "text/plain": [
       "[10, 20, 30]"
      ]
     },
     "execution_count": 76,
     "metadata": {},
     "output_type": "execute_result"
    }
   ],
   "source": [
    "myList[0::]"
   ]
  },
  {
   "cell_type": "code",
   "execution_count": 78,
   "id": "8e72b84e-acf6-407f-b373-b55dcb05a7a4",
   "metadata": {},
   "outputs": [
    {
     "data": {
      "text/plain": [
       "[30, 20, 10]"
      ]
     },
     "execution_count": 78,
     "metadata": {},
     "output_type": "execute_result"
    }
   ],
   "source": [
    "myList[::-1]"
   ]
  },
  {
   "cell_type": "code",
   "execution_count": 118,
   "id": "217aaed7-35e6-4819-bdd4-b15ecb26252b",
   "metadata": {},
   "outputs": [],
   "source": [
    "myList[0] = 40"
   ]
  },
  {
   "cell_type": "code",
   "execution_count": 120,
   "id": "9d8c1b0e-879b-4165-bb9c-c5351475e138",
   "metadata": {},
   "outputs": [
    {
     "data": {
      "text/plain": [
       "[40, 20, 30]"
      ]
     },
     "execution_count": 120,
     "metadata": {},
     "output_type": "execute_result"
    }
   ],
   "source": [
    "myList[0::]"
   ]
  },
  {
   "cell_type": "code",
   "execution_count": 122,
   "id": "1c621a70-0822-47d3-9559-ef33285c552c",
   "metadata": {},
   "outputs": [],
   "source": [
    "myList.append(\"200\") # sona ekleme methodu = APPEND"
   ]
  },
  {
   "cell_type": "code",
   "execution_count": 124,
   "id": "bf39ebd6-5638-4d03-ba5f-d7a37567333d",
   "metadata": {},
   "outputs": [
    {
     "data": {
      "text/plain": [
       "[40, 20, 30, '200']"
      ]
     },
     "execution_count": 124,
     "metadata": {},
     "output_type": "execute_result"
    }
   ],
   "source": [
    "myList"
   ]
  },
  {
   "cell_type": "code",
   "execution_count": 126,
   "id": "d16dfcb5-c5fd-47b6-941b-4d36d0179d83",
   "metadata": {},
   "outputs": [
    {
     "data": {
      "text/plain": [
       "4"
      ]
     },
     "execution_count": 126,
     "metadata": {},
     "output_type": "execute_result"
    }
   ],
   "source": [
    "len(myList)"
   ]
  },
  {
   "cell_type": "code",
   "execution_count": 128,
   "id": "f6479d69-c6f0-4819-9d68-9e5d8d4d81ee",
   "metadata": {},
   "outputs": [
    {
     "data": {
      "text/plain": [
       "1"
      ]
     },
     "execution_count": 128,
     "metadata": {},
     "output_type": "execute_result"
    }
   ],
   "source": [
    "myList.count(20)"
   ]
  },
  {
   "cell_type": "code",
   "execution_count": 130,
   "id": "caae04d4-6397-45c9-9d1e-3eacb9d28b80",
   "metadata": {},
   "outputs": [
    {
     "name": "stdout",
     "output_type": "stream",
     "text": [
      "Help on built-in function insert:\n",
      "\n",
      "insert(index, object, /) method of builtins.list instance\n",
      "    Insert object before index.\n",
      "\n"
     ]
    }
   ],
   "source": [
    "help(myList.insert)"
   ]
  },
  {
   "cell_type": "code",
   "execution_count": 132,
   "id": "0bd20569-53b0-4199-a757-56854605a302",
   "metadata": {},
   "outputs": [],
   "source": [
    "myList.insert(2,50)"
   ]
  },
  {
   "cell_type": "code",
   "execution_count": 134,
   "id": "2e9c34d8-76ac-495b-abb4-f9f404920ed7",
   "metadata": {},
   "outputs": [
    {
     "data": {
      "text/plain": [
       "[40, 20, 50, 30, '200']"
      ]
     },
     "execution_count": 134,
     "metadata": {},
     "output_type": "execute_result"
    }
   ],
   "source": [
    "myList"
   ]
  },
  {
   "cell_type": "code",
   "execution_count": 136,
   "id": "bba683d3-9cc3-4f8f-bc5b-eec6cea06ada",
   "metadata": {},
   "outputs": [
    {
     "data": {
      "text/plain": [
       "5"
      ]
     },
     "execution_count": 136,
     "metadata": {},
     "output_type": "execute_result"
    }
   ],
   "source": [
    "len(myList)"
   ]
  },
  {
   "cell_type": "code",
   "execution_count": 138,
   "id": "caa4401a-5978-4c80-8417-7190d51d60c5",
   "metadata": {},
   "outputs": [
    {
     "data": {
      "text/plain": [
       "'200'"
      ]
     },
     "execution_count": 138,
     "metadata": {},
     "output_type": "execute_result"
    }
   ],
   "source": [
    "myList.pop() # son elemanı siler"
   ]
  },
  {
   "cell_type": "code",
   "execution_count": 140,
   "id": "730016b5-bfb0-4c19-ae9c-76b1568abb73",
   "metadata": {},
   "outputs": [
    {
     "data": {
      "text/plain": [
       "[40, 20, 50, 30]"
      ]
     },
     "execution_count": 140,
     "metadata": {},
     "output_type": "execute_result"
    }
   ],
   "source": [
    "myList"
   ]
  },
  {
   "cell_type": "code",
   "execution_count": 142,
   "id": "d0646968-06d9-4fab-81ed-92fe44b21577",
   "metadata": {},
   "outputs": [
    {
     "name": "stdout",
     "output_type": "stream",
     "text": [
      "Help on built-in function remove:\n",
      "\n",
      "remove(value, /) method of builtins.list instance\n",
      "    Remove first occurrence of value.\n",
      "\n",
      "    Raises ValueError if the value is not present.\n",
      "\n"
     ]
    }
   ],
   "source": [
    "help(myList.remove)"
   ]
  },
  {
   "cell_type": "code",
   "execution_count": 144,
   "id": "eb05e235-88f3-4746-9688-5d0117e9bb70",
   "metadata": {},
   "outputs": [
    {
     "data": {
      "text/plain": [
       "[40, 20, 50, 30]"
      ]
     },
     "execution_count": 144,
     "metadata": {},
     "output_type": "execute_result"
    }
   ],
   "source": [
    "myList"
   ]
  },
  {
   "cell_type": "code",
   "execution_count": 146,
   "id": "c1b4a017-5ace-40ed-bbd1-efce623ff9ae",
   "metadata": {},
   "outputs": [],
   "source": [
    "myList.remove(50) # neyi istiyorsak onu siler"
   ]
  },
  {
   "cell_type": "code",
   "execution_count": 148,
   "id": "6e07f1da-6913-4837-b397-c9e374313a08",
   "metadata": {},
   "outputs": [
    {
     "data": {
      "text/plain": [
       "[40, 20, 30]"
      ]
     },
     "execution_count": 148,
     "metadata": {},
     "output_type": "execute_result"
    }
   ],
   "source": [
    "myList"
   ]
  },
  {
   "cell_type": "code",
   "execution_count": 152,
   "id": "7f14d46e-d7a7-4b8e-9dc9-d711e2c33057",
   "metadata": {},
   "outputs": [
    {
     "data": {
      "text/plain": [
       "[20, 30, 40]"
      ]
     },
     "execution_count": 152,
     "metadata": {},
     "output_type": "execute_result"
    }
   ],
   "source": [
    "myList.sort() # küçükten büyüğe\n",
    "myList"
   ]
  },
  {
   "cell_type": "markdown",
   "id": "bbe4e4f6-4f4f-4e55-b952-270c6ed77475",
   "metadata": {},
   "source": [
    "APPEND METODU ALIŞTIRMALARI"
   ]
  },
  {
   "cell_type": "code",
   "execution_count": 155,
   "id": "b472703f-eee2-4b5b-bdf6-33690fcf2c2d",
   "metadata": {},
   "outputs": [
    {
     "name": "stdin",
     "output_type": "stream",
     "text": [
      "Lütfen yaşınızı giriniz:  23\n"
     ]
    }
   ],
   "source": [
    "x = input(\"Lütfen yaşınızı giriniz: \") "
   ]
  },
  {
   "cell_type": "code",
   "execution_count": 159,
   "id": "368e83f5-3f3b-477d-9e96-581d61b6d743",
   "metadata": {},
   "outputs": [
    {
     "name": "stdin",
     "output_type": "stream",
     "text": [
      "Lütfen arkadaşınızın yaşını giriniz:  25\n"
     ]
    }
   ],
   "source": [
    "y = input(\"Lütfen arkadaşınızın yaşını giriniz: \")"
   ]
  },
  {
   "cell_type": "code",
   "execution_count": 163,
   "id": "08c123a6-360e-4152-aed9-33304a331ebc",
   "metadata": {},
   "outputs": [
    {
     "name": "stdin",
     "output_type": "stream",
     "text": [
      "Enter Z value!:  30\n"
     ]
    }
   ],
   "source": [
    "z = input(\"Enter Z value!: \")"
   ]
  },
  {
   "cell_type": "code",
   "execution_count": 181,
   "id": "f7083340-eaba-41d8-a67c-b9274eb3d470",
   "metadata": {},
   "outputs": [
    {
     "data": {
      "text/plain": [
       "str"
      ]
     },
     "execution_count": 181,
     "metadata": {},
     "output_type": "execute_result"
    }
   ],
   "source": [
    "type(x)\n",
    "type(y)\n",
    "type(z)\n",
    "\n",
    "# NEDEN STR? ÇÜNKÜ KULLANICININ NE YAZACAĞINI BİLMİYORUZ."
   ]
  },
  {
   "cell_type": "code",
   "execution_count": 169,
   "id": "fff668e9-8bf4-4cd1-9dde-2228fe714be4",
   "metadata": {},
   "outputs": [],
   "source": [
    "inputList = []"
   ]
  },
  {
   "cell_type": "code",
   "execution_count": 173,
   "id": "f4f76ebd-83ff-4e0d-a631-9002adfad025",
   "metadata": {},
   "outputs": [],
   "source": [
    "inputList.append(x)\n",
    "inputList.append(y)\n",
    "inputList.append(z)"
   ]
  },
  {
   "cell_type": "code",
   "execution_count": 175,
   "id": "073f6827-a8f3-4bec-bfcd-d4f9b5e56c60",
   "metadata": {},
   "outputs": [
    {
     "data": {
      "text/plain": [
       "['23', '25', '30']"
      ]
     },
     "execution_count": 175,
     "metadata": {},
     "output_type": "execute_result"
    }
   ],
   "source": [
    "inputList"
   ]
  },
  {
   "cell_type": "code",
   "execution_count": 183,
   "id": "5d4c7bed-b606-42d5-9acf-9f9c8f207e27",
   "metadata": {},
   "outputs": [
    {
     "data": {
      "text/plain": [
       "str"
      ]
     },
     "execution_count": 183,
     "metadata": {},
     "output_type": "execute_result"
    }
   ],
   "source": [
    "type(inputList[1])"
   ]
  },
  {
   "cell_type": "code",
   "execution_count": 185,
   "id": "a373c1ac-af78-47a2-ad2a-d6ec5c21effc",
   "metadata": {},
   "outputs": [
    {
     "data": {
      "text/plain": [
       "'2525'"
      ]
     },
     "execution_count": 185,
     "metadata": {},
     "output_type": "execute_result"
    }
   ],
   "source": [
    "inputList[1]*2 # STRING OLDUĞU İÇİN INTEGER İŞLEMLER YAPAMIYORUZ. VERİ DÖNÜŞTÜRMEMİZ LAZIM."
   ]
  },
  {
   "cell_type": "markdown",
   "id": "948d05d8-08b2-45a8-bbbf-6447e994b08c",
   "metadata": {},
   "source": [
    "VERI TIPI DONUSTURME"
   ]
  },
  {
   "cell_type": "code",
   "execution_count": 194,
   "id": "6c781f18-8222-445d-a9f6-7e687cc68498",
   "metadata": {},
   "outputs": [
    {
     "data": {
      "text/plain": [
       "int"
      ]
     },
     "execution_count": 194,
     "metadata": {},
     "output_type": "execute_result"
    }
   ],
   "source": [
    "myInteger = 50\n",
    "type(myInteger)"
   ]
  },
  {
   "cell_type": "code",
   "execution_count": 198,
   "id": "6c662701-f89d-46f7-8643-44d7d4c20bb3",
   "metadata": {},
   "outputs": [
    {
     "data": {
      "text/plain": [
       "'50'"
      ]
     },
     "execution_count": 198,
     "metadata": {},
     "output_type": "execute_result"
    }
   ],
   "source": [
    "str(myInteger)"
   ]
  },
  {
   "cell_type": "code",
   "execution_count": 202,
   "id": "34ad6926-c8e1-4598-8cc7-7f2c0e9d9012",
   "metadata": {},
   "outputs": [
    {
     "data": {
      "text/plain": [
       "str"
      ]
     },
     "execution_count": 202,
     "metadata": {},
     "output_type": "execute_result"
    }
   ],
   "source": [
    "myString = \"50\"\n",
    "type(myString)"
   ]
  },
  {
   "cell_type": "code",
   "execution_count": 206,
   "id": "6c8b341f-7abe-436f-8fde-b130941f5e36",
   "metadata": {},
   "outputs": [
    {
     "data": {
      "text/plain": [
       "50"
      ]
     },
     "execution_count": 206,
     "metadata": {},
     "output_type": "execute_result"
    }
   ],
   "source": [
    "int(myString)"
   ]
  },
  {
   "cell_type": "code",
   "execution_count": 208,
   "id": "911d7d70-bcc4-41c1-8b12-b0a49be0497d",
   "metadata": {},
   "outputs": [
    {
     "data": {
      "text/plain": [
       "50.0"
      ]
     },
     "execution_count": 208,
     "metadata": {},
     "output_type": "execute_result"
    }
   ],
   "source": [
    "float(myString)"
   ]
  },
  {
   "cell_type": "code",
   "execution_count": 216,
   "id": "50dc0485-2061-4e86-8bbb-dd5ef2105b5c",
   "metadata": {},
   "outputs": [],
   "source": [
    "myString = \"emre\" # BU VERİYİ AZ ÖNCEKİ YÖNTEMLERLE DÖNÜŞTÜRMEK MÜMKÜN DEĞİLDİR. ÇÜNKÜ BU BİR YAZI. NASIL SAYIYA ÇEVRİLSİN?"
   ]
  },
  {
   "cell_type": "code",
   "execution_count": 218,
   "id": "ee1afdef-c0ba-4325-b069-2d2d5a7dee1a",
   "metadata": {},
   "outputs": [
    {
     "data": {
      "text/plain": [
       "str"
      ]
     },
     "execution_count": 218,
     "metadata": {},
     "output_type": "execute_result"
    }
   ],
   "source": [
    "type(myString)"
   ]
  },
  {
   "cell_type": "code",
   "execution_count": 222,
   "id": "8ffd7c7a-13a1-4c8c-a143-fd8ce7c581a3",
   "metadata": {},
   "outputs": [],
   "source": [
    "#int(myString) "
   ]
  },
  {
   "cell_type": "code",
   "execution_count": 226,
   "id": "e31006fd-97c1-4b4e-8743-c86248c49cda",
   "metadata": {},
   "outputs": [
    {
     "data": {
      "text/plain": [
       "'2525'"
      ]
     },
     "execution_count": 226,
     "metadata": {},
     "output_type": "execute_result"
    }
   ],
   "source": [
    "inputList[1] * 2"
   ]
  },
  {
   "cell_type": "code",
   "execution_count": 228,
   "id": "1e6b4514-9af2-4f96-ab1e-bc4500c81c8d",
   "metadata": {},
   "outputs": [
    {
     "data": {
      "text/plain": [
       "50"
      ]
     },
     "execution_count": 228,
     "metadata": {},
     "output_type": "execute_result"
    }
   ],
   "source": [
    "int(inputList[1]) * 2"
   ]
  },
  {
   "cell_type": "code",
   "execution_count": 232,
   "id": "9989107a-0ea7-4d4e-a89b-00f5c5f967f1",
   "metadata": {},
   "outputs": [],
   "source": [
    "nameList = [\"yusuf\",\"emre\",'ozden']"
   ]
  },
  {
   "cell_type": "code",
   "execution_count": 234,
   "id": "e69d0183-cf2e-475c-a4c3-6ee8815bf02c",
   "metadata": {},
   "outputs": [
    {
     "data": {
      "text/plain": [
       "['yusuf', 'emre', 'ozden']"
      ]
     },
     "execution_count": 234,
     "metadata": {},
     "output_type": "execute_result"
    }
   ],
   "source": [
    "nameList"
   ]
  },
  {
   "cell_type": "code",
   "execution_count": 236,
   "id": "a9b97970-7f4c-4ee9-b77f-ecf3ccbb4fb8",
   "metadata": {},
   "outputs": [],
   "source": [
    "list1 = [10,20,30]\n",
    "list2 = [40,50,60]"
   ]
  },
  {
   "cell_type": "code",
   "execution_count": 242,
   "id": "7a3ab1dd-2e36-4426-919e-44fee464e944",
   "metadata": {},
   "outputs": [
    {
     "data": {
      "text/plain": [
       "[10, 20, 30, 40, 50, 60]"
      ]
     },
     "execution_count": 242,
     "metadata": {},
     "output_type": "execute_result"
    }
   ],
   "source": [
    "list3 = list1 + list2 \n",
    "list3"
   ]
  },
  {
   "cell_type": "code",
   "execution_count": 244,
   "id": "f9214965-157c-4a08-842c-d293ded63683",
   "metadata": {},
   "outputs": [],
   "source": [
    "mixedList = [\"yusuf\", 23, 3.14]"
   ]
  },
  {
   "cell_type": "code",
   "execution_count": 250,
   "id": "cc80c687-180b-4061-9769-f924beb157cc",
   "metadata": {},
   "outputs": [
    {
     "data": {
      "text/plain": [
       "str"
      ]
     },
     "execution_count": 250,
     "metadata": {},
     "output_type": "execute_result"
    }
   ],
   "source": [
    "type(mixedList[0])"
   ]
  },
  {
   "cell_type": "code",
   "execution_count": 254,
   "id": "6c20f5f5-0939-4fa1-be6d-d2561d046812",
   "metadata": {},
   "outputs": [
    {
     "data": {
      "text/plain": [
       "int"
      ]
     },
     "execution_count": 254,
     "metadata": {},
     "output_type": "execute_result"
    }
   ],
   "source": [
    "type(mixedList[1])"
   ]
  },
  {
   "cell_type": "code",
   "execution_count": 256,
   "id": "b7705823-63e7-4f22-9e42-7ecd336e013f",
   "metadata": {},
   "outputs": [
    {
     "data": {
      "text/plain": [
       "float"
      ]
     },
     "execution_count": 256,
     "metadata": {},
     "output_type": "execute_result"
    }
   ],
   "source": [
    "type(mixedList[2])"
   ]
  },
  {
   "cell_type": "code",
   "execution_count": 258,
   "id": "1e83d1db-75f4-4ae0-9fdf-75cbede9af8d",
   "metadata": {},
   "outputs": [],
   "source": [
    "myNestedList = [10,20,3.14,'emre',[1,2,3]]"
   ]
  },
  {
   "cell_type": "code",
   "execution_count": 260,
   "id": "6577c28b-b4a3-4df6-a1b7-0c356b1a7666",
   "metadata": {},
   "outputs": [
    {
     "data": {
      "text/plain": [
       "5"
      ]
     },
     "execution_count": 260,
     "metadata": {},
     "output_type": "execute_result"
    }
   ],
   "source": [
    "len(myNestedList)"
   ]
  },
  {
   "cell_type": "code",
   "execution_count": 262,
   "id": "1791faaf-6cab-4920-9b8a-02f75675d353",
   "metadata": {},
   "outputs": [
    {
     "data": {
      "text/plain": [
       "[1, 2, 3]"
      ]
     },
     "execution_count": 262,
     "metadata": {},
     "output_type": "execute_result"
    }
   ],
   "source": [
    "myNestedList[4]"
   ]
  },
  {
   "cell_type": "code",
   "execution_count": 264,
   "id": "eea54edc-d1ba-47f3-87cb-9090c11da55c",
   "metadata": {},
   "outputs": [
    {
     "data": {
      "text/plain": [
       "1"
      ]
     },
     "execution_count": 264,
     "metadata": {},
     "output_type": "execute_result"
    }
   ],
   "source": [
    "myNestedList[4][0]"
   ]
  },
  {
   "cell_type": "code",
   "execution_count": 266,
   "id": "b8e08e7c-5d00-4b5f-a8f0-f1580f0cea1b",
   "metadata": {},
   "outputs": [
    {
     "data": {
      "text/plain": [
       "3"
      ]
     },
     "execution_count": 266,
     "metadata": {},
     "output_type": "execute_result"
    }
   ],
   "source": [
    "myNestedList[4][-1]"
   ]
  },
  {
   "cell_type": "code",
   "execution_count": 268,
   "id": "dc07fdbd-65df-44ae-8afd-e36518492f48",
   "metadata": {},
   "outputs": [
    {
     "data": {
      "text/plain": [
       "int"
      ]
     },
     "execution_count": 268,
     "metadata": {},
     "output_type": "execute_result"
    }
   ],
   "source": [
    "type(myNestedList[4][-1])"
   ]
  },
  {
   "cell_type": "code",
   "execution_count": null,
   "id": "0f90b130-13bd-4769-ae32-a880367ccd78",
   "metadata": {},
   "outputs": [],
   "source": []
  }
 ],
 "metadata": {
  "kernelspec": {
   "display_name": "Python 3 (ipykernel)",
   "language": "python",
   "name": "python3"
  },
  "language_info": {
   "codemirror_mode": {
    "name": "ipython",
    "version": 3
   },
   "file_extension": ".py",
   "mimetype": "text/x-python",
   "name": "python",
   "nbconvert_exporter": "python",
   "pygments_lexer": "ipython3",
   "version": "3.12.4"
  }
 },
 "nbformat": 4,
 "nbformat_minor": 5
}
