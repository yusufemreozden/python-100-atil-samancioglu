{
 "cells": [
  {
   "cell_type": "code",
   "execution_count": 9,
   "id": "c6b738de-5880-4c66-8796-32024c9fa496",
   "metadata": {},
   "outputs": [],
   "source": [
    "x = 20\n",
    "\n",
    "def multipl(num):\n",
    "    x = 5\n",
    "    return num * x"
   ]
  },
  {
   "cell_type": "code",
   "execution_count": 11,
   "id": "f064597d-5580-48a3-8ec3-b58ea8e8e28a",
   "metadata": {},
   "outputs": [
    {
     "data": {
      "text/plain": [
       "100"
      ]
     },
     "execution_count": 11,
     "metadata": {},
     "output_type": "execute_result"
    }
   ],
   "source": [
    "multipl(x)"
   ]
  },
  {
   "cell_type": "code",
   "execution_count": 13,
   "id": "534c3df5-6d10-4e82-ac69-e4862624640e",
   "metadata": {},
   "outputs": [
    {
     "name": "stdout",
     "output_type": "stream",
     "text": [
      "20\n"
     ]
    }
   ],
   "source": [
    "print(x)"
   ]
  },
  {
   "cell_type": "code",
   "execution_count": 15,
   "id": "6a7258c4-c783-4aa3-8264-56ce222cc628",
   "metadata": {},
   "outputs": [],
   "source": [
    "x = 20\n",
    "\n",
    "def multipl(num):\n",
    "    return num * x"
   ]
  },
  {
   "cell_type": "code",
   "execution_count": 17,
   "id": "a2092b9e-fc21-47ed-a746-545d100b33e1",
   "metadata": {},
   "outputs": [
    {
     "data": {
      "text/plain": [
       "400"
      ]
     },
     "execution_count": 17,
     "metadata": {},
     "output_type": "execute_result"
    }
   ],
   "source": [
    "multipl(x)"
   ]
  },
  {
   "cell_type": "markdown",
   "id": "eaa9e0c0-87fa-4365-a7b8-4af62fde7651",
   "metadata": {},
   "source": [
    "L E G B --> LOCAL, ENCLOSING, GLOBAL, BUILT-IN"
   ]
  },
  {
   "cell_type": "code",
   "execution_count": 81,
   "id": "5dc0a8c0-d84c-4923-86b1-85b70e61d5e7",
   "metadata": {},
   "outputs": [],
   "source": [
    "my_string = \"Yusuf Ozden\""
   ]
  },
  {
   "cell_type": "code",
   "execution_count": 95,
   "id": "5e47c880-3516-4539-9454-a1b0b1cd4d16",
   "metadata": {},
   "outputs": [
    {
     "data": {
      "text/plain": [
       "'Yusuf Ozden'"
      ]
     },
     "execution_count": 95,
     "metadata": {},
     "output_type": "execute_result"
    }
   ],
   "source": [
    "my_string"
   ]
  },
  {
   "cell_type": "code",
   "execution_count": 97,
   "id": "6ded94a1-2462-46ad-91d9-b322dc2752a8",
   "metadata": {},
   "outputs": [],
   "source": [
    "#Global\n",
    "\n",
    "def my_func():\n",
    "    my_string = \"James\"\n",
    "    print(my_string)\n",
    "    #Enclosing\n",
    "    \n",
    "    def my_func_2():\n",
    "        \n",
    "        #Local\n",
    "        my_string = \"Lars\"\n",
    "        print(my_string)\n",
    "        \n",
    "    my_func_2()"
   ]
  },
  {
   "cell_type": "code",
   "execution_count": 99,
   "id": "eccf6400-eb9e-4f66-ba40-010b50a5286f",
   "metadata": {},
   "outputs": [
    {
     "name": "stdout",
     "output_type": "stream",
     "text": [
      "James\n",
      "Lars\n"
     ]
    }
   ],
   "source": [
    "my_func()"
   ]
  },
  {
   "cell_type": "code",
   "execution_count": 101,
   "id": "d2b87b7f-f987-4501-b569-6de5de90940a",
   "metadata": {},
   "outputs": [
    {
     "data": {
      "text/plain": [
       "'Yusuf Ozden'"
      ]
     },
     "execution_count": 101,
     "metadata": {},
     "output_type": "execute_result"
    }
   ],
   "source": [
    "my_string"
   ]
  },
  {
   "cell_type": "code",
   "execution_count": 121,
   "id": "8cefa73f-aac0-45a5-8471-3da498cd07d8",
   "metadata": {},
   "outputs": [],
   "source": [
    "def test1(*arg):\n",
    "    myVariable = 10\n",
    "    return myVariable * 2"
   ]
  },
  {
   "cell_type": "code",
   "execution_count": 125,
   "id": "e566df81-0dfd-48c9-a49c-506b6e1c7a28",
   "metadata": {},
   "outputs": [],
   "source": [
    "def test2(*arg):\n",
    "    return myVariable * 3 # BURADA MY_VARIABLE TANIMLI MI :)?"
   ]
  },
  {
   "cell_type": "code",
   "execution_count": 129,
   "id": "676e1548-5f98-4446-a856-77fe49f26b99",
   "metadata": {},
   "outputs": [
    {
     "data": {
      "text/plain": [
       "20"
      ]
     },
     "execution_count": 129,
     "metadata": {},
     "output_type": "execute_result"
    }
   ],
   "source": [
    "test1(3245)"
   ]
  },
  {
   "cell_type": "code",
   "execution_count": 131,
   "id": "35b2f370-280a-4095-87b0-3a27e1779bf7",
   "metadata": {},
   "outputs": [
    {
     "data": {
      "text/plain": [
       "20"
      ]
     },
     "execution_count": 131,
     "metadata": {},
     "output_type": "execute_result"
    }
   ],
   "source": [
    "test1(\"Emre\")"
   ]
  },
  {
   "cell_type": "code",
   "execution_count": 137,
   "id": "0a1b00b9-5da3-4985-bb17-e6e8076633b4",
   "metadata": {},
   "outputs": [],
   "source": [
    "y = 10\n",
    "\n",
    "def test3(y):\n",
    "    print(y)\n",
    "    y = 5\n",
    "    print(y)\n",
    "    return y"
   ]
  },
  {
   "cell_type": "code",
   "execution_count": 139,
   "id": "8bc71a8b-ca98-479a-b8bc-181f0e4d7cfa",
   "metadata": {},
   "outputs": [
    {
     "name": "stdout",
     "output_type": "stream",
     "text": [
      "56\n",
      "5\n"
     ]
    },
    {
     "data": {
      "text/plain": [
       "5"
      ]
     },
     "execution_count": 139,
     "metadata": {},
     "output_type": "execute_result"
    }
   ],
   "source": [
    "test3(56)"
   ]
  },
  {
   "cell_type": "code",
   "execution_count": 141,
   "id": "47426fb7-1039-4fec-a6a5-e3e41f02e842",
   "metadata": {},
   "outputs": [
    {
     "data": {
      "text/plain": [
       "10"
      ]
     },
     "execution_count": 141,
     "metadata": {},
     "output_type": "execute_result"
    }
   ],
   "source": [
    "y"
   ]
  },
  {
   "cell_type": "code",
   "execution_count": 151,
   "id": "81a6c6fa-dd09-46d6-9ff8-4e58dafd5dfd",
   "metadata": {},
   "outputs": [],
   "source": [
    "y = 20 "
   ]
  },
  {
   "cell_type": "code",
   "execution_count": 153,
   "id": "59b28b61-9563-42b7-bc3f-593db8ea9e5d",
   "metadata": {},
   "outputs": [
    {
     "data": {
      "text/plain": [
       "20"
      ]
     },
     "execution_count": 153,
     "metadata": {},
     "output_type": "execute_result"
    }
   ],
   "source": [
    "y"
   ]
  },
  {
   "cell_type": "code",
   "execution_count": 143,
   "id": "b6912618-a054-4645-8b3f-0e92923f72dc",
   "metadata": {},
   "outputs": [],
   "source": [
    "def changeY():\n",
    "    global y\n",
    "    y = 5"
   ]
  },
  {
   "cell_type": "code",
   "execution_count": 147,
   "id": "2eb99294-ab0c-4cf1-a646-2f3b12cf6862",
   "metadata": {},
   "outputs": [],
   "source": [
    "changeY()"
   ]
  },
  {
   "cell_type": "code",
   "execution_count": 149,
   "id": "60dac7e8-d474-484a-9e47-4f6509aee4d7",
   "metadata": {},
   "outputs": [
    {
     "data": {
      "text/plain": [
       "5"
      ]
     },
     "execution_count": 149,
     "metadata": {},
     "output_type": "execute_result"
    }
   ],
   "source": [
    "y"
   ]
  }
 ],
 "metadata": {
  "kernelspec": {
   "display_name": "Python 3 (ipykernel)",
   "language": "python",
   "name": "python3"
  },
  "language_info": {
   "codemirror_mode": {
    "name": "ipython",
    "version": 3
   },
   "file_extension": ".py",
   "mimetype": "text/x-python",
   "name": "python",
   "nbconvert_exporter": "python",
   "pygments_lexer": "ipython3",
   "version": "3.12.4"
  }
 },
 "nbformat": 4,
 "nbformat_minor": 5
}
