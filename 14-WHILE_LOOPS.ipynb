{
 "cells": [
  {
   "cell_type": "code",
   "execution_count": 2,
   "id": "172dd561-101c-4f63-b846-5311c2e99c7f",
   "metadata": {},
   "outputs": [
    {
     "name": "stdout",
     "output_type": "stream",
     "text": [
      "0\n",
      "1\n",
      "2\n",
      "3\n",
      "4\n",
      "5\n",
      "6\n",
      "7\n",
      "8\n",
      "9\n"
     ]
    }
   ],
   "source": [
    "x = 0\n",
    "\n",
    "while x < 10: # BURASI TRUE OLDUĞU SÜRECE ALTINDAKİ KODLARI ÇALIŞTIRIR.\n",
    "    print(x)\n",
    "    x = x + 1"
   ]
  },
  {
   "cell_type": "code",
   "execution_count": 4,
   "id": "7cb1d95b-4d9e-4171-87e1-8fd787020064",
   "metadata": {},
   "outputs": [
    {
     "name": "stdout",
     "output_type": "stream",
     "text": [
      "10\n",
      "20\n",
      "30\n",
      "40\n",
      "50\n"
     ]
    }
   ],
   "source": [
    "list = [10,20,30,40,50]\n",
    "n = 0\n",
    "n = int(n)\n",
    "\n",
    "while n <= len(list) - 1:\n",
    "    print(list[n])\n",
    "    n = n + 1"
   ]
  },
  {
   "cell_type": "code",
   "execution_count": 6,
   "id": "3bda4e1e-6c96-44ff-8cc7-ceb41282d023",
   "metadata": {},
   "outputs": [
    {
     "name": "stdout",
     "output_type": "stream",
     "text": [
      "My list is: [10, 20, 30, 40, 50]\n"
     ]
    }
   ],
   "source": [
    "print(f\"My list is: {list}\") # FORMATED STRING"
   ]
  },
  {
   "cell_type": "code",
   "execution_count": 12,
   "id": "004c1b77-e6f9-48bc-b0d2-bd6fb02fe370",
   "metadata": {},
   "outputs": [
    {
     "name": "stdin",
     "output_type": "stream",
     "text": [
      "Name: Emre\n",
      "Surname: OZDEN\n"
     ]
    },
    {
     "name": "stdout",
     "output_type": "stream",
     "text": [
      "\n",
      "Your name is Emre, your surname is OZDEN!\n"
     ]
    }
   ],
   "source": [
    "name = input(\"Name:\")\n",
    "surname = input(\"Surname:\")\n",
    "\n",
    "print(f\"\\nYour name is {name}, your surname is {surname}!\")"
   ]
  },
  {
   "cell_type": "code",
   "execution_count": 14,
   "id": "36962769-91c2-4e7c-b1a1-62adcfd77164",
   "metadata": {},
   "outputs": [
    {
     "name": "stdout",
     "output_type": "stream",
     "text": [
      "p'nin değeri: 0\n",
      "p'nin değeri: 1\n",
      "p'nin değeri: 2\n",
      "p'nin değeri: 3\n",
      "p'nin değeri: 4\n",
      "p'nin değeri: 5\n",
      "p'nin değeri: 6\n",
      "p'nin değeri: 7\n",
      "p'nin değeri: 8\n",
      "p'nin değeri: 9\n"
     ]
    }
   ],
   "source": [
    "p = 0\n",
    "p =  int(p)\n",
    "\n",
    "while p <= 9:\n",
    "    print(f\"p'nin değeri: {p}\")\n",
    "    p += 1"
   ]
  },
  {
   "cell_type": "code",
   "execution_count": null,
   "id": "aeb2ae6f-4af0-45a9-9051-824098815a84",
   "metadata": {},
   "outputs": [],
   "source": []
  }
 ],
 "metadata": {
  "kernelspec": {
   "display_name": "Python 3 (ipykernel)",
   "language": "python",
   "name": "python3"
  },
  "language_info": {
   "codemirror_mode": {
    "name": "ipython",
    "version": 3
   },
   "file_extension": ".py",
   "mimetype": "text/x-python",
   "name": "python",
   "nbconvert_exporter": "python",
   "pygments_lexer": "ipython3",
   "version": "3.12.4"
  }
 },
 "nbformat": 4,
 "nbformat_minor": 5
}
